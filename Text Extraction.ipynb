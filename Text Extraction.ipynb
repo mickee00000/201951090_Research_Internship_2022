{
 "cells": [
  {
   "cell_type": "code",
   "execution_count": 1,
   "metadata": {
    "collapsed": true,
    "pycharm": {
     "name": "#%%\n"
    }
   },
   "outputs": [],
   "source": [
    "import pandas as pd\n",
    "import numpy as np\n",
    "import matplotlib.pyplot as plt"
   ]
  },
  {
   "cell_type": "code",
   "execution_count": 2,
   "outputs": [],
   "source": [
    "import pathlib\n",
    "import cv2\n",
    "import os\n",
    "import sys\n",
    "import PIL.Image as Image"
   ],
   "metadata": {
    "collapsed": false,
    "pycharm": {
     "name": "#%%\n"
    }
   }
  },
  {
   "cell_type": "code",
   "execution_count": 3,
   "outputs": [
    {
     "data": {
      "text/plain": "array([[[151, 151, 151],\n        [153, 153, 153],\n        [156, 156, 156],\n        ...,\n        [149, 149, 149],\n        [149, 149, 149],\n        [150, 150, 150]],\n\n       [[151, 151, 151],\n        [153, 153, 153],\n        [155, 155, 155],\n        ...,\n        [148, 148, 148],\n        [148, 148, 148],\n        [148, 148, 148]],\n\n       [[151, 151, 151],\n        [152, 152, 152],\n        [154, 154, 154],\n        ...,\n        [146, 146, 146],\n        [145, 145, 145],\n        [145, 145, 145]],\n\n       ...,\n\n       [[163, 163, 163],\n        [163, 163, 163],\n        [163, 163, 163],\n        ...,\n        [140, 140, 140],\n        [140, 140, 140],\n        [141, 141, 141]],\n\n       [[164, 164, 164],\n        [164, 164, 164],\n        [163, 163, 163],\n        ...,\n        [139, 139, 139],\n        [139, 139, 139],\n        [140, 140, 140]],\n\n       [[165, 165, 165],\n        [165, 165, 165],\n        [164, 164, 164],\n        ...,\n        [138, 138, 138],\n        [138, 138, 138],\n        [139, 139, 139]]], dtype=uint8)"
     },
     "execution_count": 3,
     "metadata": {},
     "output_type": "execute_result"
    }
   ],
   "source": [
    "# IMAGE_SHAPE = (1200, 1200)\n",
    "notes = cv2.imread(\"part1.jpeg\", cv2.IMREAD_GRAYSCALE)\n",
    "notes = cv2.cvtColor(notes, cv2.COLOR_BGR2RGB)\n",
    "notes"
   ],
   "metadata": {
    "collapsed": false,
    "pycharm": {
     "name": "#%%\n"
    }
   }
  },
  {
   "cell_type": "code",
   "execution_count": 4,
   "outputs": [],
   "source": [
    "_ , bin_notes = cv2.threshold(notes, 120, 255, cv2.THRESH_BINARY)"
   ],
   "metadata": {
    "collapsed": false,
    "pycharm": {
     "name": "#%%\n"
    }
   }
  },
  {
   "cell_type": "code",
   "execution_count": 5,
   "outputs": [
    {
     "data": {
      "text/plain": "<matplotlib.image.AxesImage at 0x1feac417880>"
     },
     "execution_count": 5,
     "metadata": {},
     "output_type": "execute_result"
    },
    {
     "data": {
      "text/plain": "<Figure size 288x383.76 with 1 Axes>",
      "image/png": "[encoded data removed]"
     },
     "metadata": {
      "needs_background": "light"
     },
     "output_type": "display_data"
    }
   ],
   "source": [
    "plt.matshow(bin_notes)"
   ],
   "metadata": {
    "collapsed": false,
    "pycharm": {
     "name": "#%%\n"
    }
   }
  },
  {
   "cell_type": "code",
   "execution_count": 6,
   "outputs": [
    {
     "data": {
      "text/plain": "True"
     },
     "execution_count": 6,
     "metadata": {},
     "output_type": "execute_result"
    }
   ],
   "source": [
    "cv2.imwrite('binary_file.jpeg', bin_notes)"
   ],
   "metadata": {
    "collapsed": false,
    "pycharm": {
     "name": "#%%\n"
    }
   }
  }
 ],
 "metadata": {
  "kernelspec": {
   "display_name": "Python 3",
   "language": "python",
   "name": "python3"
  },
  "language_info": {
   "codemirror_mode": {
    "name": "ipython",
    "version": 2
   },
   "file_extension": ".py",
   "mimetype": "text/x-python",
   "name": "python",
   "nbconvert_exporter": "python",
   "pygments_lexer": "ipython2",
   "version": "2.7.6"
  }
 },
 "nbformat": 4,
 "nbformat_minor": 0
}