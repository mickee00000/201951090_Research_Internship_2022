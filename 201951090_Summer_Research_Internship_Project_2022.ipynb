{
  "nbformat": 4,
  "nbformat_minor": 0,
  "metadata": {
    "colab": {
      "name": "201951090_Summer Research Internship Project 2022.ipynb",
      "provenance": [],
      "authorship_tag": "ABX9TyOuXPvRHhgYXo6epb0I9Jc1",
      "include_colab_link": true
    },
    "kernelspec": {
      "name": "python3",
      "display_name": "Python 3"
    },
    "language_info": {
      "name": "python"
    },
    "accelerator": "GPU",
    "gpuClass": "standard"
  },
  "cells": [
    {
      "cell_type": "markdown",
      "metadata": {
        "id": "view-in-github",
        "colab_type": "text"
      },
      "source": [
        "<a href=\"https://colab.research.google.com/github/mickee00000/Research_Internship/blob/main/201951090_Summer_Research_Internship_Project_2022.ipynb\" target=\"_parent\"><img src=\"https://colab.research.google.com/assets/colab-badge.svg\" alt=\"Open In Colab\"/></a>"
      ]
    },
    {
      "cell_type": "code",
      "execution_count": null,
      "metadata": {
        "id": "OUamYaZuB5hW"
      },
      "outputs": [],
      "source": [
        "import pandas as pd\n",
        "import numpy as np\n",
        "import matplotlib.pyplot as plt\n",
        "%matplotlib inline"
      ]
    },
    {
      "cell_type": "code",
      "source": [
        "import tensorflow as tf\n",
        "from tensorflow import keras\n",
        "import PIL\n",
        "import cv2"
      ],
      "metadata": {
        "id": "G8Er57iG8rXy"
      },
      "execution_count": null,
      "outputs": []
    },
    {
      "cell_type": "code",
      "source": [
        "import pathlib\n",
        "import os\n",
        "import sys"
      ],
      "metadata": {
        "id": "XLlmBoyOCl0Q"
      },
      "execution_count": null,
      "outputs": []
    },
    {
      "cell_type": "code",
      "source": [
        "import requests"
      ],
      "metadata": {
        "id": "gJTVxkjnDM05"
      },
      "execution_count": null,
      "outputs": []
    },
    {
      "cell_type": "code",
      "source": [
        "url = 'https://raw.githubusercontent.com/mickee00000/Research_Internship/main/part1.jpeg'\n",
        "r = requests.get(url, allow_redirects=True)\n",
        "open('part1.jpeg', 'wb').write(r.content)"
      ],
      "metadata": {
        "colab": {
          "base_uri": "https://localhost:8080/"
        },
        "id": "cTihHfvKDNyd",
        "outputId": "0b682070-52e9-4cc6-d761-6603a3755ca1"
      },
      "execution_count": null,
      "outputs": [
        {
          "output_type": "execute_result",
          "data": {
            "text/plain": [
              "94205"
            ]
          },
          "metadata": {},
          "execution_count": 5
        }
      ]
    },
    {
      "cell_type": "code",
      "source": [
        "hindi_data = tf.keras.utils.get_file('hindi_text', origin = 'https://archive.ics.uci.edu/ml/machine-learning-databases/00389/DevanagariHandwrittenCharacterDataset.zip', cache_dir='.', extract=True, archive_format='zip')\n",
        "hindi_data"
      ],
      "metadata": {
        "colab": {
          "base_uri": "https://localhost:8080/",
          "height": 88
        },
        "id": "LNjxt3Sc82Zc",
        "outputId": "36b0f256-4c03-4809-edbf-3654a9e2fda5"
      },
      "execution_count": null,
      "outputs": [
        {
          "output_type": "stream",
          "name": "stdout",
          "text": [
            "Downloading data from https://archive.ics.uci.edu/ml/machine-learning-databases/00389/DevanagariHandwrittenCharacterDataset.zip\n",
            "80420864/80417803 [==============================] - 5s 0us/step\n",
            "80429056/80417803 [==============================] - 5s 0us/step\n"
          ]
        },
        {
          "output_type": "execute_result",
          "data": {
            "text/plain": [
              "'./datasets/hindi_text'"
            ],
            "application/vnd.google.colaboratory.intrinsic+json": {
              "type": "string"
            }
          },
          "metadata": {},
          "execution_count": 6
        }
      ]
    },
    {
      "cell_type": "code",
      "source": [
        "hindi_data_train = pathlib.Path(r'/content/datasets/DevanagariHandwrittenCharacterDataset/Train')\n",
        "hindi_data_train"
      ],
      "metadata": {
        "colab": {
          "base_uri": "https://localhost:8080/"
        },
        "id": "4zb7GNeB84Bw",
        "outputId": "61089819-534e-45d8-fde8-1d3319c27996"
      },
      "execution_count": null,
      "outputs": [
        {
          "output_type": "execute_result",
          "data": {
            "text/plain": [
              "PosixPath('/content/datasets/DevanagariHandwrittenCharacterDataset/Train')"
            ]
          },
          "metadata": {},
          "execution_count": 7
        }
      ]
    },
    {
      "cell_type": "code",
      "source": [
        "hindi_data_test = pathlib.Path(r'/content/datasets/DevanagariHandwrittenCharacterDataset/Test')\n",
        "hindi_data_test"
      ],
      "metadata": {
        "colab": {
          "base_uri": "https://localhost:8080/"
        },
        "id": "cE2nfeR686dQ",
        "outputId": "bbb005fe-c10a-4d81-965d-55dc4fbadb53"
      },
      "execution_count": null,
      "outputs": [
        {
          "output_type": "execute_result",
          "data": {
            "text/plain": [
              "PosixPath('/content/datasets/DevanagariHandwrittenCharacterDataset/Test')"
            ]
          },
          "metadata": {},
          "execution_count": 8
        }
      ]
    },
    {
      "cell_type": "code",
      "source": [
        "image_count = len(list(hindi_data_train.glob('*/*.png')))\n",
        "image_count"
      ],
      "metadata": {
        "colab": {
          "base_uri": "https://localhost:8080/"
        },
        "id": "OeqbWp8X884J",
        "outputId": "372bf7e7-e583-4eee-ec18-cfa1f2d65bbd"
      },
      "execution_count": null,
      "outputs": [
        {
          "output_type": "execute_result",
          "data": {
            "text/plain": [
              "78200"
            ]
          },
          "metadata": {},
          "execution_count": 9
        }
      ]
    },
    {
      "cell_type": "code",
      "source": [
        "len(list(hindi_data_train.glob('character_3_ga/*')))"
      ],
      "metadata": {
        "colab": {
          "base_uri": "https://localhost:8080/"
        },
        "id": "eFHGkXis8-l1",
        "outputId": "d6f3896a-2c45-4f6f-bdbc-53b9797b0f50"
      },
      "execution_count": null,
      "outputs": [
        {
          "output_type": "execute_result",
          "data": {
            "text/plain": [
              "1700"
            ]
          },
          "metadata": {},
          "execution_count": 10
        }
      ]
    },
    {
      "cell_type": "code",
      "source": [
        "hindi_letters_dict_train = {\n",
        "    'sa': list(hindi_data_train.glob('character_32_patalosaw/*')),\n",
        "    're': list(hindi_data_train.glob('character_27_ra/*')),\n",
        "    'ga': list(hindi_data_train.glob('character_3_ga/*')),\n",
        "    'ma': list(hindi_data_train.glob('character_25_ma/*')),\n",
        "    'pa': list(hindi_data_train.glob('character_21_pa/*')),\n",
        "    'dha': list(hindi_data_train.glob('character_19_dha/*')),\n",
        "    'ni': list(hindi_data_train.glob('character_20_na/*')),\n",
        "    'zero': list(hindi_data_train.glob('digit_0/*')),\n",
        "    'one': list(hindi_data_train.glob('digit_1/*')),\n",
        "    'two': list(hindi_data_train.glob('digit_2/*')),\n",
        "    'three': list(hindi_data_train.glob('digit_3/*')),\n",
        "    'four': list(hindi_data_train.glob('digit_4/*')),\n",
        "    'five': list(hindi_data_train.glob('digit_5/*')),\n",
        "    'six': list(hindi_data_train.glob('digit_6/*')),\n",
        "    'seven': list(hindi_data_train.glob('digit_7/*')),\n",
        "    'eight': list(hindi_data_train.glob('digit_8/*')),\n",
        "    'nine': list(hindi_data_train.glob('digit_9/*')),\n",
        "}"
      ],
      "metadata": {
        "id": "SLL9I1bk86hc"
      },
      "execution_count": null,
      "outputs": []
    },
    {
      "cell_type": "code",
      "source": [
        "hindi_letters_dict_test = {\n",
        "    'sa': list(hindi_data_test.glob('character_32_patalosaw/*')),\n",
        "    're': list(hindi_data_test.glob('character_27_ra/*')),\n",
        "    'ga': list(hindi_data_test.glob('character_3_ga/*')),\n",
        "    'ma': list(hindi_data_test.glob('character_25_ma/*')),\n",
        "    'pa': list(hindi_data_test.glob('character_21_pa/*')),\n",
        "    'dha': list(hindi_data_test.glob('character_19_dha/*')),\n",
        "    'ni': list(hindi_data_test.glob('character_20_na/*')),\n",
        "    'zero': list(hindi_data_test.glob('digit_0/*')),\n",
        "    'one': list(hindi_data_test.glob('digit_1/*')),\n",
        "    'two': list(hindi_data_test.glob('digit_2/*')),\n",
        "    'three': list(hindi_data_test.glob('digit_3/*')),\n",
        "    'four': list(hindi_data_test.glob('digit_4/*')),\n",
        "    'five': list(hindi_data_test.glob('digit_5/*')),\n",
        "    'six': list(hindi_data_test.glob('digit_6/*')),\n",
        "    'seven': list(hindi_data_test.glob('digit_7/*')),\n",
        "    'eight': list(hindi_data_test.glob('digit_8/*')),\n",
        "    'nine': list(hindi_data_test.glob('digit_9/*')),\n",
        "}"
      ],
      "metadata": {
        "id": "9CNuS0pn9Cw5"
      },
      "execution_count": null,
      "outputs": []
    },
    {
      "cell_type": "code",
      "source": [
        "PIL.Image.open(hindi_letters_dict_train['sa'][0])"
      ],
      "metadata": {
        "colab": {
          "base_uri": "https://localhost:8080/",
          "height": 49
        },
        "id": "02mOyVnD9C6B",
        "outputId": "38c7906c-462b-4dc1-8fb8-f53113c98cc2"
      },
      "execution_count": null,
      "outputs": [
        {
          "output_type": "execute_result",
          "data": {
            "text/plain": [
              "<PIL.PngImagePlugin.PngImageFile image mode=L size=32x32 at 0x7FE48C609E10>"
            ],
            "image/png": "[encoded data removed]"
          },
          "metadata": {},
          "execution_count": 13
        }
      ]
    },
    {
      "cell_type": "code",
      "source": [
        "PIL.Image.open(hindi_letters_dict_train['sa'][5])"
      ],
      "metadata": {
        "colab": {
          "base_uri": "https://localhost:8080/",
          "height": 49
        },
        "id": "Deib7_ng9FkT",
        "outputId": "00e8c3c3-e679-48c2-8c38-4b125e50867d"
      },
      "execution_count": null,
      "outputs": [
        {
          "output_type": "execute_result",
          "data": {
            "text/plain": [
              "<PIL.PngImagePlugin.PngImageFile image mode=L size=32x32 at 0x7FE47A576F10>"
            ],
            "image/png": "[encoded data removed]"
          },
          "metadata": {},
          "execution_count": 14
        }
      ]
    },
    {
      "cell_type": "code",
      "source": [
        "hindi_label_dict = {\n",
        "    'sa': 10,\n",
        "    're': 11,\n",
        "    'ga': 12,\n",
        "    'ma': 13,\n",
        "    'pa': 14,\n",
        "    'dha': 15,\n",
        "    'ni': 16,\n",
        "    'zero': 0,\n",
        "    'one': 1,\n",
        "    'two': 2,\n",
        "    'three': 3,\n",
        "    'four': 4,\n",
        "    'five': 5,\n",
        "    'six': 6,\n",
        "    'seven': 7,\n",
        "    'eight': 8,\n",
        "    'nine': 9,\n",
        "}"
      ],
      "metadata": {
        "id": "-D1AIjF19Fmz"
      },
      "execution_count": null,
      "outputs": []
    },
    {
      "cell_type": "code",
      "source": [
        "hindi_name_dict = {\n",
        "     10: 'sa',\n",
        "     11: 're',\n",
        "     12: 'ga',\n",
        "     13: 'ma',\n",
        "     14: 'pa',\n",
        "     15: 'dha',\n",
        "     16: 'ni',\n",
        "     0: 'zero',\n",
        "     1: 'one',\n",
        "     2: 'two',\n",
        "     3: 'three',\n",
        "     4: 'four',\n",
        "     5: 'five',\n",
        "     6: 'six',\n",
        "     7: 'seven',\n",
        "     8: 'eight',\n",
        "     9: 'nine',\n",
        "}"
      ],
      "metadata": {
        "id": "oAZkVQ0x9FqD"
      },
      "execution_count": null,
      "outputs": []
    },
    {
      "cell_type": "code",
      "source": [
        "img = cv2.imread(str(hindi_letters_dict_train['re'][0]))\n"
      ],
      "metadata": {
        "id": "Pag7-uWw9FtK"
      },
      "execution_count": null,
      "outputs": []
    },
    {
      "cell_type": "code",
      "source": [
        "img"
      ],
      "metadata": {
        "colab": {
          "base_uri": "https://localhost:8080/"
        },
        "id": "VmFqzCJJ9Fv1",
        "outputId": "29f4499c-c8ed-4851-b265-2d2a3fca4267"
      },
      "execution_count": null,
      "outputs": [
        {
          "output_type": "execute_result",
          "data": {
            "text/plain": [
              "array([[[  0,   0,   0],\n",
              "        [  0,   0,   0],\n",
              "        [  0,   0,   0],\n",
              "        ...,\n",
              "        [  0,   0,   0],\n",
              "        [  0,   0,   0],\n",
              "        [  0,   0,   0]],\n",
              "\n",
              "       [[  0,   0,   0],\n",
              "        [  0,   0,   0],\n",
              "        [  0,   0,   0],\n",
              "        ...,\n",
              "        [  0,   0,   0],\n",
              "        [  0,   0,   0],\n",
              "        [  0,   0,   0]],\n",
              "\n",
              "       [[  0,   0,   0],\n",
              "        [  0,   0,   0],\n",
              "        [  0,   0,   0],\n",
              "        ...,\n",
              "        [  0,   0,   0],\n",
              "        [  0,   0,   0],\n",
              "        [  0,   0,   0]],\n",
              "\n",
              "       ...,\n",
              "\n",
              "       [[  0,   0,   0],\n",
              "        [  0,   0,   0],\n",
              "        [  0,   0,   0],\n",
              "        ...,\n",
              "        [165, 165, 165],\n",
              "        [  0,   0,   0],\n",
              "        [  0,   0,   0]],\n",
              "\n",
              "       [[  0,   0,   0],\n",
              "        [  0,   0,   0],\n",
              "        [  0,   0,   0],\n",
              "        ...,\n",
              "        [  0,   0,   0],\n",
              "        [  0,   0,   0],\n",
              "        [  0,   0,   0]],\n",
              "\n",
              "       [[  0,   0,   0],\n",
              "        [  0,   0,   0],\n",
              "        [  0,   0,   0],\n",
              "        ...,\n",
              "        [  0,   0,   0],\n",
              "        [  0,   0,   0],\n",
              "        [  0,   0,   0]]], dtype=uint8)"
            ]
          },
          "metadata": {},
          "execution_count": 18
        }
      ]
    },
    {
      "cell_type": "code",
      "source": [
        "X_train = []\n",
        "y_train = []"
      ],
      "metadata": {
        "id": "DlFzmGCH9Fyc"
      },
      "execution_count": null,
      "outputs": []
    },
    {
      "cell_type": "code",
      "source": [
        "for key, value_list in hindi_letters_dict_train.items():\n",
        "    for value in value_list:\n",
        "        img = cv2.imread(str(value))\n",
        "        img = cv2.resize(img,(32,32))\n",
        "        _, img = cv2.threshold(img, 127,255, cv2.THRESH_BINARY_INV)\n",
        "        X_train.append(img)\n",
        "        y_train.append(hindi_label_dict[key])"
      ],
      "metadata": {
        "id": "1GWpS9KH9F1D"
      },
      "execution_count": null,
      "outputs": []
    },
    {
      "cell_type": "code",
      "source": [
        "X_test = []\n",
        "y_test = []"
      ],
      "metadata": {
        "id": "2eIpk5AT9E5z"
      },
      "execution_count": null,
      "outputs": []
    },
    {
      "cell_type": "code",
      "source": [
        "for key, value_list in hindi_letters_dict_test.items():\n",
        "    for value in value_list:\n",
        "        img = cv2.imread(str(value))\n",
        "        img = cv2.resize(img,(32,32))\n",
        "        _, img = cv2.threshold(img, 127,255, cv2.THRESH_BINARY_INV)\n",
        "        X_test.append(img)\n",
        "        y_test.append(hindi_label_dict[key])"
      ],
      "metadata": {
        "id": "GRCpQI2S9Q7j"
      },
      "execution_count": null,
      "outputs": []
    },
    {
      "cell_type": "code",
      "source": [
        "len(X_train)"
      ],
      "metadata": {
        "colab": {
          "base_uri": "https://localhost:8080/"
        },
        "id": "RLz8H5wb9Q-p",
        "outputId": "fa3d11f0-6c86-4ea0-c579-9a7bdbcb95b8"
      },
      "execution_count": null,
      "outputs": [
        {
          "output_type": "execute_result",
          "data": {
            "text/plain": [
              "28900"
            ]
          },
          "metadata": {},
          "execution_count": 23
        }
      ]
    },
    {
      "cell_type": "code",
      "source": [
        "len(y_train)"
      ],
      "metadata": {
        "colab": {
          "base_uri": "https://localhost:8080/"
        },
        "id": "yfTV-syd9RBl",
        "outputId": "e51d0fd1-ae1e-43c4-e21f-496c0fb09aef"
      },
      "execution_count": null,
      "outputs": [
        {
          "output_type": "execute_result",
          "data": {
            "text/plain": [
              "28900"
            ]
          },
          "metadata": {},
          "execution_count": 24
        }
      ]
    },
    {
      "cell_type": "code",
      "source": [
        "X_train = np.array(X_train)\n",
        "y_train = np.array(y_train)"
      ],
      "metadata": {
        "id": "WlHgOwCj9RER"
      },
      "execution_count": null,
      "outputs": []
    },
    {
      "cell_type": "code",
      "source": [
        "X_test = np.array(X_test)\n",
        "y_test = np.array(y_test)"
      ],
      "metadata": {
        "id": "37BgBBdy9RHJ"
      },
      "execution_count": null,
      "outputs": []
    },
    {
      "cell_type": "code",
      "source": [
        "X_train.shape"
      ],
      "metadata": {
        "colab": {
          "base_uri": "https://localhost:8080/"
        },
        "id": "o2hInN209RJ6",
        "outputId": "e5d28a61-8c9f-45ff-c482-655f6db10918"
      },
      "execution_count": null,
      "outputs": [
        {
          "output_type": "execute_result",
          "data": {
            "text/plain": [
              "(28900, 32, 32, 3)"
            ]
          },
          "metadata": {},
          "execution_count": 27
        }
      ]
    },
    {
      "cell_type": "code",
      "source": [
        "X_test.shape"
      ],
      "metadata": {
        "colab": {
          "base_uri": "https://localhost:8080/"
        },
        "id": "qvIGna3r9RMl",
        "outputId": "a46feba9-c601-42af-d7cb-616440a3ebe9"
      },
      "execution_count": null,
      "outputs": [
        {
          "output_type": "execute_result",
          "data": {
            "text/plain": [
              "(5100, 32, 32, 3)"
            ]
          },
          "metadata": {},
          "execution_count": 28
        }
      ]
    },
    {
      "cell_type": "code",
      "source": [
        "plt.matshow(X_train[11110])"
      ],
      "metadata": {
        "colab": {
          "base_uri": "https://localhost:8080/",
          "height": 292
        },
        "id": "UvNjd0SA9b-b",
        "outputId": "ba2ccac1-55fb-4d75-f68b-e0a380426af2"
      },
      "execution_count": null,
      "outputs": [
        {
          "output_type": "execute_result",
          "data": {
            "text/plain": [
              "<matplotlib.image.AxesImage at 0x7fe47a428690>"
            ]
          },
          "metadata": {},
          "execution_count": 29
        },
        {
          "output_type": "display_data",
          "data": {
            "text/plain": [
              "<Figure size 288x288 with 1 Axes>"
            ],
            "image/png": "[encoded data removed]"
          },
          "metadata": {
            "needs_background": "light"
          }
        }
      ]
    },
    {
      "cell_type": "code",
      "source": [
        "X_train_scaled = X_train / 255\n",
        "X_test_scaled = X_test / 255"
      ],
      "metadata": {
        "id": "FetxL9Tx9cA_"
      },
      "execution_count": null,
      "outputs": []
    },
    {
      "cell_type": "code",
      "source": [
        "hindi_name_dict[y_train[11110]]"
      ],
      "metadata": {
        "colab": {
          "base_uri": "https://localhost:8080/",
          "height": 36
        },
        "id": "z4o1W9ui9cDX",
        "outputId": "98c746b3-a352-4bca-9c1d-c71d78d60e20"
      },
      "execution_count": null,
      "outputs": [
        {
          "output_type": "execute_result",
          "data": {
            "text/plain": [
              "'ni'"
            ],
            "application/vnd.google.colaboratory.intrinsic+json": {
              "type": "string"
            }
          },
          "metadata": {},
          "execution_count": 31
        }
      ]
    },
    {
      "cell_type": "code",
      "source": [
        "X_train_scaled.shape"
      ],
      "metadata": {
        "colab": {
          "base_uri": "https://localhost:8080/"
        },
        "id": "VVx2zeLJ9RPU",
        "outputId": "2ffd8808-e926-4d2f-a01e-1852e4ab641f"
      },
      "execution_count": null,
      "outputs": [
        {
          "output_type": "execute_result",
          "data": {
            "text/plain": [
              "(28900, 32, 32, 3)"
            ]
          },
          "metadata": {},
          "execution_count": 32
        }
      ]
    },
    {
      "cell_type": "code",
      "source": [
        "#X_train_scaled_flat = np.reshape(#X_train_scaled, (28900, 32*32*3))"
      ],
      "metadata": {
        "id": "5rMnaJ869gYS"
      },
      "execution_count": null,
      "outputs": []
    },
    {
      "cell_type": "code",
      "source": [
        "y_train[0]"
      ],
      "metadata": {
        "colab": {
          "base_uri": "https://localhost:8080/"
        },
        "id": "u0hf20hP9ga3",
        "outputId": "2de335cc-7ea1-424b-b86e-035697be8a30"
      },
      "execution_count": null,
      "outputs": [
        {
          "output_type": "execute_result",
          "data": {
            "text/plain": [
              "10"
            ]
          },
          "metadata": {},
          "execution_count": 34
        }
      ]
    },
    {
      "cell_type": "code",
      "source": [
        "plt.matshow(X_train[0])"
      ],
      "metadata": {
        "colab": {
          "base_uri": "https://localhost:8080/",
          "height": 292
        },
        "id": "WsNeoME19gea",
        "outputId": "d074cfc4-5dea-41d4-9e95-ac305bad6631"
      },
      "execution_count": null,
      "outputs": [
        {
          "output_type": "execute_result",
          "data": {
            "text/plain": [
              "<matplotlib.image.AxesImage at 0x7fe479e742d0>"
            ]
          },
          "metadata": {},
          "execution_count": 35
        },
        {
          "output_type": "display_data",
          "data": {
            "text/plain": [
              "<Figure size 288x288 with 1 Axes>"
            ],
            "image/png": "[encoded data removed]"
          },
          "metadata": {
            "needs_background": "light"
          }
        }
      ]
    },
    {
      "cell_type": "code",
      "source": [
        "data_augmentation = keras.Sequential(\n",
        "    [\n",
        "        keras.layers.experimental.preprocessing.RandomFlip(\"horizontal\",input_shape=(32,32,3)),\n",
        "        keras.layers.experimental.preprocessing.RandomRotation(0.2),\n",
        "        keras.layers.experimental.preprocessing.RandomZoom(0.1),\n",
        "      \n",
        "    ]\n",
        ")"
      ],
      "metadata": {
        "id": "ERa5zNYQ9ghc"
      },
      "execution_count": null,
      "outputs": []
    },
    {
      "cell_type": "code",
      "source": [
        "model = keras.Sequential([\n",
        "    data_augmentation,\n",
        "    \n",
        "\n",
        "    keras.layers.Conv2D(filters = 32,kernel_size = (3,3),strides = 1,activation = \"relu\"),\n",
        "    keras.layers.BatchNormalization(),\n",
        "    keras.layers.MaxPooling2D(pool_size=(2, 2),strides=(2, 2), padding=\"same\"),\n",
        "\n",
        "    keras.layers.Conv2D(filters = 32,kernel_size = (3,3),strides = 1,activation = \"relu\",),\n",
        "    keras.layers.BatchNormalization(),\n",
        "    keras.layers.MaxPooling2D(pool_size=(2, 2),strides=(2, 2), padding=\"same\"),\n",
        "\n",
        "    keras.layers.Conv2D(filters = 64,kernel_size = (3,3),strides = 1,activation = \"relu\",),\n",
        "    keras.layers.BatchNormalization(),\n",
        "    keras.layers.MaxPooling2D(pool_size=(2, 2),strides=(2, 2), padding=\"same\"),\n",
        "\n",
        "    keras.layers.Conv2D(filters = 64,kernel_size = (3,3),strides = 1,activation = \"relu\",),\n",
        "    keras.layers.BatchNormalization(),\n",
        "    keras.layers.MaxPooling2D(pool_size=(2, 2),strides=(2, 2), padding=\"same\"),\n",
        "    keras.layers.Flatten(),\n",
        "\n",
        "\n",
        "    keras.layers.Dense(128, activation = \"relu\", kernel_initializer = \"uniform\"),\n",
        "    keras.layers.BatchNormalization(),\n",
        "\n",
        "    keras.layers.Dense(64, activation = \"relu\", kernel_initializer = \"uniform\"),\n",
        "    keras.layers.BatchNormalization(),\n",
        "\n",
        "    keras.layers.Dense(17,activation = \"softmax\"),\n",
        "\n",
        "])"
      ],
      "metadata": {
        "id": "Q77Ko3dF9gkV"
      },
      "execution_count": null,
      "outputs": []
    },
    {
      "cell_type": "code",
      "source": [
        "model.compile(\n",
        "    optimizer = \"adam\",\n",
        "    loss = \"sparse_categorical_crossentropy\",\n",
        "    metrics = [\"accuracy\"]\n",
        ")"
      ],
      "metadata": {
        "id": "nUYRyY9q9nkO"
      },
      "execution_count": null,
      "outputs": []
    },
    {
      "cell_type": "code",
      "source": [
        "print(model.summary())"
      ],
      "metadata": {
        "colab": {
          "base_uri": "https://localhost:8080/"
        },
        "id": "nB8qbMVx9nm8",
        "outputId": "cc870dc7-9123-49ac-f675-2fb587ef420e"
      },
      "execution_count": null,
      "outputs": [
        {
          "output_type": "stream",
          "name": "stdout",
          "text": [
            "Model: \"sequential_1\"\n",
            "_________________________________________________________________\n",
            " Layer (type)                Output Shape              Param #   \n",
            "=================================================================\n",
            " sequential (Sequential)     (None, 32, 32, 3)         0         \n",
            "                                                                 \n",
            " conv2d (Conv2D)             (None, 30, 30, 32)        896       \n",
            "                                                                 \n",
            " batch_normalization (BatchN  (None, 30, 30, 32)       128       \n",
            " ormalization)                                                   \n",
            "                                                                 \n",
            " max_pooling2d (MaxPooling2D  (None, 15, 15, 32)       0         \n",
            " )                                                               \n",
            "                                                                 \n",
            " conv2d_1 (Conv2D)           (None, 13, 13, 32)        9248      \n",
            "                                                                 \n",
            " batch_normalization_1 (Batc  (None, 13, 13, 32)       128       \n",
            " hNormalization)                                                 \n",
            "                                                                 \n",
            " max_pooling2d_1 (MaxPooling  (None, 7, 7, 32)         0         \n",
            " 2D)                                                             \n",
            "                                                                 \n",
            " conv2d_2 (Conv2D)           (None, 5, 5, 64)          18496     \n",
            "                                                                 \n",
            " batch_normalization_2 (Batc  (None, 5, 5, 64)         256       \n",
            " hNormalization)                                                 \n",
            "                                                                 \n",
            " max_pooling2d_2 (MaxPooling  (None, 3, 3, 64)         0         \n",
            " 2D)                                                             \n",
            "                                                                 \n",
            " conv2d_3 (Conv2D)           (None, 1, 1, 64)          36928     \n",
            "                                                                 \n",
            " batch_normalization_3 (Batc  (None, 1, 1, 64)         256       \n",
            " hNormalization)                                                 \n",
            "                                                                 \n",
            " max_pooling2d_3 (MaxPooling  (None, 1, 1, 64)         0         \n",
            " 2D)                                                             \n",
            "                                                                 \n",
            " flatten (Flatten)           (None, 64)                0         \n",
            "                                                                 \n",
            " dense (Dense)               (None, 128)               8320      \n",
            "                                                                 \n",
            " batch_normalization_4 (Batc  (None, 128)              512       \n",
            " hNormalization)                                                 \n",
            "                                                                 \n",
            " dense_1 (Dense)             (None, 64)                8256      \n",
            "                                                                 \n",
            " batch_normalization_5 (Batc  (None, 64)               256       \n",
            " hNormalization)                                                 \n",
            "                                                                 \n",
            " dense_2 (Dense)             (None, 17)                1105      \n",
            "                                                                 \n",
            "=================================================================\n",
            "Total params: 84,785\n",
            "Trainable params: 84,017\n",
            "Non-trainable params: 768\n",
            "_________________________________________________________________\n",
            "None\n"
          ]
        }
      ]
    },
    {
      "cell_type": "code",
      "source": [
        "model.fit(X_train_scaled, y_train, epochs = 50)"
      ],
      "metadata": {
        "colab": {
          "base_uri": "https://localhost:8080/"
        },
        "id": "HxTzpFuy9nqG",
        "outputId": "cdb169fd-4f20-4dd8-ddcb-f60f197a70c0"
      },
      "execution_count": null,
      "outputs": [
        {
          "output_type": "stream",
          "name": "stdout",
          "text": [
            "Epoch 1/50\n",
            "904/904 [==============================] - 20s 7ms/step - loss: 1.2153 - accuracy: 0.6154\n",
            "Epoch 2/50\n",
            "904/904 [==============================] - 6s 7ms/step - loss: 0.5607 - accuracy: 0.8176\n",
            "Epoch 3/50\n",
            "904/904 [==============================] - 6s 7ms/step - loss: 0.4118 - accuracy: 0.8649\n",
            "Epoch 4/50\n",
            "904/904 [==============================] - 6s 7ms/step - loss: 0.3567 - accuracy: 0.8834\n",
            "Epoch 5/50\n",
            "904/904 [==============================] - 6s 7ms/step - loss: 0.3091 - accuracy: 0.8984\n",
            "Epoch 6/50\n",
            "904/904 [==============================] - 6s 7ms/step - loss: 0.2787 - accuracy: 0.9083\n",
            "Epoch 7/50\n",
            "904/904 [==============================] - 6s 7ms/step - loss: 0.2549 - accuracy: 0.9176\n",
            "Epoch 8/50\n",
            "904/904 [==============================] - 6s 7ms/step - loss: 0.2530 - accuracy: 0.9197\n",
            "Epoch 9/50\n",
            "904/904 [==============================] - 6s 7ms/step - loss: 0.2181 - accuracy: 0.9299\n",
            "Epoch 10/50\n",
            "904/904 [==============================] - 6s 7ms/step - loss: 0.2050 - accuracy: 0.9352\n",
            "Epoch 11/50\n",
            "904/904 [==============================] - 6s 7ms/step - loss: 0.1909 - accuracy: 0.9394\n",
            "Epoch 12/50\n",
            "904/904 [==============================] - 6s 7ms/step - loss: 0.1967 - accuracy: 0.9359\n",
            "Epoch 13/50\n",
            "904/904 [==============================] - 6s 7ms/step - loss: 0.1833 - accuracy: 0.9401\n",
            "Epoch 14/50\n",
            "904/904 [==============================] - 6s 7ms/step - loss: 0.1715 - accuracy: 0.9440\n",
            "Epoch 15/50\n",
            "904/904 [==============================] - 6s 7ms/step - loss: 0.1694 - accuracy: 0.9440\n",
            "Epoch 16/50\n",
            "904/904 [==============================] - 6s 7ms/step - loss: 0.1641 - accuracy: 0.9477\n",
            "Epoch 17/50\n",
            "904/904 [==============================] - 6s 7ms/step - loss: 0.1619 - accuracy: 0.9468\n",
            "Epoch 18/50\n",
            "904/904 [==============================] - 6s 7ms/step - loss: 0.1521 - accuracy: 0.9506\n",
            "Epoch 19/50\n",
            "904/904 [==============================] - 6s 7ms/step - loss: 0.1544 - accuracy: 0.9492\n",
            "Epoch 20/50\n",
            "904/904 [==============================] - 6s 7ms/step - loss: 0.1397 - accuracy: 0.9546\n",
            "Epoch 21/50\n",
            "904/904 [==============================] - 6s 7ms/step - loss: 0.1415 - accuracy: 0.9547\n",
            "Epoch 22/50\n",
            "904/904 [==============================] - 6s 7ms/step - loss: 0.1401 - accuracy: 0.9557\n",
            "Epoch 23/50\n",
            "904/904 [==============================] - 6s 7ms/step - loss: 0.1495 - accuracy: 0.9509\n",
            "Epoch 24/50\n",
            "904/904 [==============================] - 6s 7ms/step - loss: 0.1316 - accuracy: 0.9566\n",
            "Epoch 25/50\n",
            "904/904 [==============================] - 6s 7ms/step - loss: 0.1271 - accuracy: 0.9596\n",
            "Epoch 26/50\n",
            "904/904 [==============================] - 6s 7ms/step - loss: 0.1259 - accuracy: 0.9581\n",
            "Epoch 27/50\n",
            "904/904 [==============================] - 6s 7ms/step - loss: 0.1219 - accuracy: 0.9602\n",
            "Epoch 28/50\n",
            "904/904 [==============================] - 6s 7ms/step - loss: 0.1220 - accuracy: 0.9611\n",
            "Epoch 29/50\n",
            "904/904 [==============================] - 6s 7ms/step - loss: 0.1200 - accuracy: 0.9603\n",
            "Epoch 30/50\n",
            "904/904 [==============================] - 6s 7ms/step - loss: 0.1193 - accuracy: 0.9615\n",
            "Epoch 31/50\n",
            "904/904 [==============================] - 6s 7ms/step - loss: 0.1171 - accuracy: 0.9616\n",
            "Epoch 32/50\n",
            "904/904 [==============================] - 6s 7ms/step - loss: 0.1141 - accuracy: 0.9637\n",
            "Epoch 33/50\n",
            "904/904 [==============================] - 6s 7ms/step - loss: 0.1107 - accuracy: 0.9651\n",
            "Epoch 34/50\n",
            "904/904 [==============================] - 6s 7ms/step - loss: 0.1141 - accuracy: 0.9621\n",
            "Epoch 35/50\n",
            "904/904 [==============================] - 6s 7ms/step - loss: 0.1076 - accuracy: 0.9650\n",
            "Epoch 36/50\n",
            "904/904 [==============================] - 6s 7ms/step - loss: 0.1059 - accuracy: 0.9654\n",
            "Epoch 37/50\n",
            "904/904 [==============================] - 6s 7ms/step - loss: 0.1099 - accuracy: 0.9645\n",
            "Epoch 38/50\n",
            "904/904 [==============================] - 6s 7ms/step - loss: 0.1053 - accuracy: 0.9663\n",
            "Epoch 39/50\n",
            "904/904 [==============================] - 6s 7ms/step - loss: 0.0962 - accuracy: 0.9677\n",
            "Epoch 40/50\n",
            "904/904 [==============================] - 6s 7ms/step - loss: 0.0934 - accuracy: 0.9701\n",
            "Epoch 41/50\n",
            "904/904 [==============================] - 6s 7ms/step - loss: 0.1019 - accuracy: 0.9665\n",
            "Epoch 42/50\n",
            "904/904 [==============================] - 6s 7ms/step - loss: 0.1037 - accuracy: 0.9657\n",
            "Epoch 43/50\n",
            "904/904 [==============================] - 6s 7ms/step - loss: 0.1039 - accuracy: 0.9667\n",
            "Epoch 44/50\n",
            "904/904 [==============================] - 6s 7ms/step - loss: 0.0977 - accuracy: 0.9686\n",
            "Epoch 45/50\n",
            "904/904 [==============================] - 6s 7ms/step - loss: 0.0931 - accuracy: 0.9699\n",
            "Epoch 46/50\n",
            "904/904 [==============================] - 6s 7ms/step - loss: 0.0898 - accuracy: 0.9707\n",
            "Epoch 47/50\n",
            "904/904 [==============================] - 6s 7ms/step - loss: 0.0967 - accuracy: 0.9687\n",
            "Epoch 48/50\n",
            "904/904 [==============================] - 6s 7ms/step - loss: 0.0934 - accuracy: 0.9697\n",
            "Epoch 49/50\n",
            "904/904 [==============================] - 6s 7ms/step - loss: 0.0882 - accuracy: 0.9714\n",
            "Epoch 50/50\n",
            "904/904 [==============================] - 6s 7ms/step - loss: 0.0908 - accuracy: 0.9703\n"
          ]
        },
        {
          "output_type": "execute_result",
          "data": {
            "text/plain": [
              "<keras.callbacks.History at 0x7fe47988e690>"
            ]
          },
          "metadata": {},
          "execution_count": 40
        }
      ]
    },
    {
      "cell_type": "code",
      "source": [
        "model.evaluate(X_test_scaled, y_test)"
      ],
      "metadata": {
        "colab": {
          "base_uri": "https://localhost:8080/"
        },
        "id": "tvNkGlA69ntM",
        "outputId": "2260ad44-11d5-4e40-f123-677fb0969780"
      },
      "execution_count": null,
      "outputs": [
        {
          "output_type": "stream",
          "name": "stdout",
          "text": [
            "160/160 [==============================] - 1s 4ms/step - loss: 0.0894 - accuracy: 0.9722\n"
          ]
        },
        {
          "output_type": "execute_result",
          "data": {
            "text/plain": [
              "[0.08943650871515274, 0.9721568822860718]"
            ]
          },
          "metadata": {},
          "execution_count": 41
        }
      ]
    },
    {
      "cell_type": "code",
      "source": [
        "model = keras.Sequential([\n",
        "    data_augmentation,\n",
        "    \n",
        "\n",
        "    keras.layers.Conv2D(filters = 32,kernel_size = (3,3),strides = 1,activation = \"relu\"),\n",
        "    keras.layers.BatchNormalization(),\n",
        "    keras.layers.MaxPooling2D(pool_size=(2, 2),strides=(2, 2), padding=\"same\"),\n",
        "\n",
        "    keras.layers.Conv2D(filters = 32,kernel_size = (3,3),strides = 1,activation = \"relu\",),\n",
        "    keras.layers.BatchNormalization(),\n",
        "    keras.layers.MaxPooling2D(pool_size=(2, 2),strides=(2, 2), padding=\"same\"),\n",
        "\n",
        "    keras.layers.Conv2D(filters = 64,kernel_size = (3,3),strides = 1,activation = \"relu\",),\n",
        "    keras.layers.BatchNormalization(),\n",
        "    keras.layers.MaxPooling2D(pool_size=(2, 2),strides=(2, 2), padding=\"same\"),\n",
        "\n",
        "    keras.layers.Conv2D(filters = 64,kernel_size = (3,3),strides = 1,activation = \"relu\",),\n",
        "    keras.layers.BatchNormalization(),\n",
        "    keras.layers.MaxPooling2D(pool_size=(2, 2),strides=(2, 2), padding=\"same\"),\n",
        "    keras.layers.Flatten(),\n",
        "\n",
        "\n",
        "    keras.layers.Dense(128, activation = \"relu\", kernel_initializer = \"uniform\"),\n",
        "    keras.layers.BatchNormalization(),\n",
        "\n",
        "    keras.layers.Dense(64, activation = \"relu\", kernel_initializer = \"uniform\"),\n",
        "    keras.layers.BatchNormalization(),\n",
        "\n",
        "    keras.layers.Dense(17,activation = \"softmax\"),\n",
        "\n",
        "])"
      ],
      "metadata": {
        "id": "O0HJHYV-9nxD"
      },
      "execution_count": null,
      "outputs": []
    },
    {
      "cell_type": "code",
      "source": [
        "model.compile(\n",
        "    optimizer = \"adam\",\n",
        "    loss = \"sparse_categorical_crossentropy\",\n",
        "    metrics = [\"accuracy\"]\n",
        ")"
      ],
      "metadata": {
        "id": "28cgddiS9n0r"
      },
      "execution_count": null,
      "outputs": []
    },
    {
      "cell_type": "code",
      "source": [
        "print(model.summary())"
      ],
      "metadata": {
        "colab": {
          "base_uri": "https://localhost:8080/"
        },
        "id": "lJZtnZL79gmc",
        "outputId": "25c3b110-afed-4783-8b63-b15224f40d92"
      },
      "execution_count": null,
      "outputs": [
        {
          "output_type": "stream",
          "name": "stdout",
          "text": [
            "Model: \"sequential_2\"\n",
            "_________________________________________________________________\n",
            " Layer (type)                Output Shape              Param #   \n",
            "=================================================================\n",
            " sequential (Sequential)     (None, 32, 32, 3)         0         \n",
            "                                                                 \n",
            " conv2d_4 (Conv2D)           (None, 30, 30, 32)        896       \n",
            "                                                                 \n",
            " batch_normalization_6 (Batc  (None, 30, 30, 32)       128       \n",
            " hNormalization)                                                 \n",
            "                                                                 \n",
            " max_pooling2d_4 (MaxPooling  (None, 15, 15, 32)       0         \n",
            " 2D)                                                             \n",
            "                                                                 \n",
            " conv2d_5 (Conv2D)           (None, 13, 13, 32)        9248      \n",
            "                                                                 \n",
            " batch_normalization_7 (Batc  (None, 13, 13, 32)       128       \n",
            " hNormalization)                                                 \n",
            "                                                                 \n",
            " max_pooling2d_5 (MaxPooling  (None, 7, 7, 32)         0         \n",
            " 2D)                                                             \n",
            "                                                                 \n",
            " conv2d_6 (Conv2D)           (None, 5, 5, 64)          18496     \n",
            "                                                                 \n",
            " batch_normalization_8 (Batc  (None, 5, 5, 64)         256       \n",
            " hNormalization)                                                 \n",
            "                                                                 \n",
            " max_pooling2d_6 (MaxPooling  (None, 3, 3, 64)         0         \n",
            " 2D)                                                             \n",
            "                                                                 \n",
            " conv2d_7 (Conv2D)           (None, 1, 1, 64)          36928     \n",
            "                                                                 \n",
            " batch_normalization_9 (Batc  (None, 1, 1, 64)         256       \n",
            " hNormalization)                                                 \n",
            "                                                                 \n",
            " max_pooling2d_7 (MaxPooling  (None, 1, 1, 64)         0         \n",
            " 2D)                                                             \n",
            "                                                                 \n",
            " flatten_1 (Flatten)         (None, 64)                0         \n",
            "                                                                 \n",
            " dense_3 (Dense)             (None, 128)               8320      \n",
            "                                                                 \n",
            " batch_normalization_10 (Bat  (None, 128)              512       \n",
            " chNormalization)                                                \n",
            "                                                                 \n",
            " dense_4 (Dense)             (None, 64)                8256      \n",
            "                                                                 \n",
            " batch_normalization_11 (Bat  (None, 64)               256       \n",
            " chNormalization)                                                \n",
            "                                                                 \n",
            " dense_5 (Dense)             (None, 17)                1105      \n",
            "                                                                 \n",
            "=================================================================\n",
            "Total params: 84,785\n",
            "Trainable params: 84,017\n",
            "Non-trainable params: 768\n",
            "_________________________________________________________________\n",
            "None\n"
          ]
        }
      ]
    },
    {
      "cell_type": "code",
      "source": [
        "model.fit(X_train_scaled, y_train, epochs = 1)"
      ],
      "metadata": {
        "colab": {
          "base_uri": "https://localhost:8080/"
        },
        "id": "AbmIjiR69xvr",
        "outputId": "65d027f0-469d-4d6d-9279-891c70dcdcbb"
      },
      "execution_count": null,
      "outputs": [
        {
          "output_type": "stream",
          "name": "stdout",
          "text": [
            "Epoch 1/50\n",
            "904/904 [==============================] - 7s 7ms/step - loss: 1.1990 - accuracy: 0.6204\n",
            "Epoch 2/50\n",
            "904/904 [==============================] - 6s 7ms/step - loss: 0.5700 - accuracy: 0.8162\n",
            "Epoch 3/50\n",
            "904/904 [==============================] - 6s 7ms/step - loss: 0.4172 - accuracy: 0.8638\n",
            "Epoch 4/50\n",
            "904/904 [==============================] - 6s 7ms/step - loss: 0.3372 - accuracy: 0.8908\n",
            "Epoch 5/50\n",
            "904/904 [==============================] - 6s 7ms/step - loss: 0.3080 - accuracy: 0.8999\n",
            "Epoch 6/50\n",
            "904/904 [==============================] - 6s 7ms/step - loss: 0.2734 - accuracy: 0.9084\n",
            "Epoch 7/50\n",
            "904/904 [==============================] - 6s 7ms/step - loss: 0.2531 - accuracy: 0.9169\n",
            "Epoch 8/50\n",
            "904/904 [==============================] - 6s 7ms/step - loss: 0.2296 - accuracy: 0.9242\n",
            "Epoch 9/50\n",
            "904/904 [==============================] - 6s 7ms/step - loss: 0.2255 - accuracy: 0.9266\n",
            "Epoch 10/50\n",
            "904/904 [==============================] - 6s 7ms/step - loss: 0.2055 - accuracy: 0.9349\n",
            "Epoch 11/50\n",
            "904/904 [==============================] - 6s 7ms/step - loss: 0.2042 - accuracy: 0.9328\n",
            "Epoch 12/50\n",
            "904/904 [==============================] - 6s 7ms/step - loss: 0.1885 - accuracy: 0.9392\n",
            "Epoch 13/50\n",
            "904/904 [==============================] - 6s 7ms/step - loss: 0.1826 - accuracy: 0.9408\n",
            "Epoch 14/50\n",
            "904/904 [==============================] - 7s 8ms/step - loss: 0.1795 - accuracy: 0.9412\n",
            "Epoch 15/50\n",
            "904/904 [==============================] - 6s 7ms/step - loss: 0.1685 - accuracy: 0.9449\n",
            "Epoch 16/50\n",
            "904/904 [==============================] - 6s 7ms/step - loss: 0.1589 - accuracy: 0.9488\n",
            "Epoch 17/50\n",
            "904/904 [==============================] - 6s 7ms/step - loss: 0.1643 - accuracy: 0.9463\n",
            "Epoch 18/50\n",
            "904/904 [==============================] - 6s 7ms/step - loss: 0.1532 - accuracy: 0.9499\n",
            "Epoch 19/50\n",
            "904/904 [==============================] - 6s 7ms/step - loss: 0.1492 - accuracy: 0.9510\n",
            "Epoch 20/50\n",
            "904/904 [==============================] - 6s 7ms/step - loss: 0.1426 - accuracy: 0.9546\n",
            "Epoch 21/50\n",
            "904/904 [==============================] - 6s 7ms/step - loss: 0.1456 - accuracy: 0.9523\n",
            "Epoch 22/50\n",
            "904/904 [==============================] - 6s 7ms/step - loss: 0.1376 - accuracy: 0.9537\n",
            "Epoch 23/50\n",
            "904/904 [==============================] - 6s 7ms/step - loss: 0.1433 - accuracy: 0.9543\n",
            "Epoch 24/50\n",
            "904/904 [==============================] - 6s 7ms/step - loss: 0.1304 - accuracy: 0.9585\n",
            "Epoch 25/50\n",
            "904/904 [==============================] - 6s 7ms/step - loss: 0.1247 - accuracy: 0.9590\n",
            "Epoch 26/50\n",
            "904/904 [==============================] - 6s 7ms/step - loss: 0.1259 - accuracy: 0.9590\n",
            "Epoch 27/50\n",
            "904/904 [==============================] - 6s 7ms/step - loss: 0.1215 - accuracy: 0.9597\n",
            "Epoch 28/50\n",
            "904/904 [==============================] - 6s 7ms/step - loss: 0.1268 - accuracy: 0.9580\n",
            "Epoch 29/50\n",
            "904/904 [==============================] - 6s 7ms/step - loss: 0.1206 - accuracy: 0.9608\n",
            "Epoch 30/50\n",
            "904/904 [==============================] - 6s 7ms/step - loss: 0.1195 - accuracy: 0.9622\n",
            "Epoch 31/50\n",
            "904/904 [==============================] - 6s 7ms/step - loss: 0.1144 - accuracy: 0.9633\n",
            "Epoch 32/50\n",
            "904/904 [==============================] - 6s 7ms/step - loss: 0.1142 - accuracy: 0.9643\n",
            "Epoch 33/50\n",
            "904/904 [==============================] - 6s 7ms/step - loss: 0.1123 - accuracy: 0.9643\n",
            "Epoch 34/50\n",
            "904/904 [==============================] - 6s 7ms/step - loss: 0.1122 - accuracy: 0.9633\n",
            "Epoch 35/50\n",
            "904/904 [==============================] - 6s 7ms/step - loss: 0.1152 - accuracy: 0.9622\n",
            "Epoch 36/50\n",
            "904/904 [==============================] - 6s 7ms/step - loss: 0.1061 - accuracy: 0.9663\n",
            "Epoch 37/50\n",
            "904/904 [==============================] - 6s 7ms/step - loss: 0.1057 - accuracy: 0.9661\n",
            "Epoch 38/50\n",
            "904/904 [==============================] - 6s 7ms/step - loss: 0.1085 - accuracy: 0.9649\n",
            "Epoch 39/50\n",
            "904/904 [==============================] - 6s 7ms/step - loss: 0.0970 - accuracy: 0.9694\n",
            "Epoch 40/50\n",
            "904/904 [==============================] - 6s 7ms/step - loss: 0.1067 - accuracy: 0.9661\n",
            "Epoch 41/50\n",
            "904/904 [==============================] - 6s 7ms/step - loss: 0.1078 - accuracy: 0.9640\n",
            "Epoch 42/50\n",
            "904/904 [==============================] - 6s 7ms/step - loss: 0.1017 - accuracy: 0.9666\n",
            "Epoch 43/50\n",
            "904/904 [==============================] - 6s 7ms/step - loss: 0.0968 - accuracy: 0.9689\n",
            "Epoch 44/50\n",
            "904/904 [==============================] - 6s 7ms/step - loss: 0.0998 - accuracy: 0.9677\n",
            "Epoch 45/50\n",
            "904/904 [==============================] - 6s 7ms/step - loss: 0.0926 - accuracy: 0.9702\n",
            "Epoch 46/50\n",
            "904/904 [==============================] - 6s 7ms/step - loss: 0.1007 - accuracy: 0.9682\n",
            "Epoch 47/50\n",
            "904/904 [==============================] - 6s 7ms/step - loss: 0.0900 - accuracy: 0.9713\n",
            "Epoch 48/50\n",
            "904/904 [==============================] - 6s 7ms/step - loss: 0.0919 - accuracy: 0.9691\n",
            "Epoch 49/50\n",
            "904/904 [==============================] - 6s 7ms/step - loss: 0.0892 - accuracy: 0.9707\n",
            "Epoch 50/50\n",
            "904/904 [==============================] - 6s 7ms/step - loss: 0.0925 - accuracy: 0.9692\n"
          ]
        },
        {
          "output_type": "execute_result",
          "data": {
            "text/plain": [
              "<keras.callbacks.History at 0x7fe479d5dbd0>"
            ]
          },
          "metadata": {},
          "execution_count": 45
        }
      ]
    },
    {
      "cell_type": "code",
      "source": [
        "model.evaluate(X_test_scaled, y_test)"
      ],
      "metadata": {
        "colab": {
          "base_uri": "https://localhost:8080/"
        },
        "id": "xh6Iw21j9xzx",
        "outputId": "649db550-3505-418b-9478-00849f37ed94"
      },
      "execution_count": null,
      "outputs": [
        {
          "output_type": "stream",
          "name": "stdout",
          "text": [
            "160/160 [==============================] - 1s 3ms/step - loss: 0.0814 - accuracy: 0.9735\n"
          ]
        },
        {
          "output_type": "execute_result",
          "data": {
            "text/plain": [
              "[0.08138057589530945, 0.9735293984413147]"
            ]
          },
          "metadata": {},
          "execution_count": 46
        }
      ]
    },
    {
      "cell_type": "code",
      "source": [
        "model.predict([X_train_scaled[1]])"
      ],
      "metadata": {
        "colab": {
          "base_uri": "https://localhost:8080/",
          "height": 571
        },
        "id": "MM371xQC9DBZ",
        "outputId": "2bfb421e-d1a5-4cdb-d4a0-de925f83af80"
      },
      "execution_count": null,
      "outputs": [
        {
          "output_type": "error",
          "ename": "ValueError",
          "evalue": "ignored",
          "traceback": [
            "\u001b[0;31m---------------------------------------------------------------------------\u001b[0m",
            "\u001b[0;31mValueError\u001b[0m                                Traceback (most recent call last)",
            "\u001b[0;32m<ipython-input-62-4c38fb2664f6>\u001b[0m in \u001b[0;36m<module>\u001b[0;34m()\u001b[0m\n\u001b[0;32m----> 1\u001b[0;31m \u001b[0mmodel\u001b[0m\u001b[0;34m.\u001b[0m\u001b[0mpredict\u001b[0m\u001b[0;34m(\u001b[0m\u001b[0;34m[\u001b[0m\u001b[0mX_train_scaled\u001b[0m\u001b[0;34m[\u001b[0m\u001b[0;36m1\u001b[0m\u001b[0;34m]\u001b[0m\u001b[0;34m]\u001b[0m\u001b[0;34m)\u001b[0m\u001b[0;34m\u001b[0m\u001b[0;34m\u001b[0m\u001b[0m\n\u001b[0m",
            "\u001b[0;32m/usr/local/lib/python3.7/dist-packages/keras/utils/traceback_utils.py\u001b[0m in \u001b[0;36merror_handler\u001b[0;34m(*args, **kwargs)\u001b[0m\n\u001b[1;32m     65\u001b[0m     \u001b[0;32mexcept\u001b[0m \u001b[0mException\u001b[0m \u001b[0;32mas\u001b[0m \u001b[0me\u001b[0m\u001b[0;34m:\u001b[0m  \u001b[0;31m# pylint: disable=broad-except\u001b[0m\u001b[0;34m\u001b[0m\u001b[0;34m\u001b[0m\u001b[0m\n\u001b[1;32m     66\u001b[0m       \u001b[0mfiltered_tb\u001b[0m \u001b[0;34m=\u001b[0m \u001b[0m_process_traceback_frames\u001b[0m\u001b[0;34m(\u001b[0m\u001b[0me\u001b[0m\u001b[0;34m.\u001b[0m\u001b[0m__traceback__\u001b[0m\u001b[0;34m)\u001b[0m\u001b[0;34m\u001b[0m\u001b[0;34m\u001b[0m\u001b[0m\n\u001b[0;32m---> 67\u001b[0;31m       \u001b[0;32mraise\u001b[0m \u001b[0me\u001b[0m\u001b[0;34m.\u001b[0m\u001b[0mwith_traceback\u001b[0m\u001b[0;34m(\u001b[0m\u001b[0mfiltered_tb\u001b[0m\u001b[0;34m)\u001b[0m \u001b[0;32mfrom\u001b[0m \u001b[0;32mNone\u001b[0m\u001b[0;34m\u001b[0m\u001b[0;34m\u001b[0m\u001b[0m\n\u001b[0m\u001b[1;32m     68\u001b[0m     \u001b[0;32mfinally\u001b[0m\u001b[0;34m:\u001b[0m\u001b[0;34m\u001b[0m\u001b[0;34m\u001b[0m\u001b[0m\n\u001b[1;32m     69\u001b[0m       \u001b[0;32mdel\u001b[0m \u001b[0mfiltered_tb\u001b[0m\u001b[0;34m\u001b[0m\u001b[0;34m\u001b[0m\u001b[0m\n",
            "\u001b[0;32m/usr/local/lib/python3.7/dist-packages/tensorflow/python/framework/func_graph.py\u001b[0m in \u001b[0;36mautograph_handler\u001b[0;34m(*args, **kwargs)\u001b[0m\n\u001b[1;32m   1145\u001b[0m           \u001b[0;32mexcept\u001b[0m \u001b[0mException\u001b[0m \u001b[0;32mas\u001b[0m \u001b[0me\u001b[0m\u001b[0;34m:\u001b[0m  \u001b[0;31m# pylint:disable=broad-except\u001b[0m\u001b[0;34m\u001b[0m\u001b[0;34m\u001b[0m\u001b[0m\n\u001b[1;32m   1146\u001b[0m             \u001b[0;32mif\u001b[0m \u001b[0mhasattr\u001b[0m\u001b[0;34m(\u001b[0m\u001b[0me\u001b[0m\u001b[0;34m,\u001b[0m \u001b[0;34m\"ag_error_metadata\"\u001b[0m\u001b[0;34m)\u001b[0m\u001b[0;34m:\u001b[0m\u001b[0;34m\u001b[0m\u001b[0;34m\u001b[0m\u001b[0m\n\u001b[0;32m-> 1147\u001b[0;31m               \u001b[0;32mraise\u001b[0m \u001b[0me\u001b[0m\u001b[0;34m.\u001b[0m\u001b[0mag_error_metadata\u001b[0m\u001b[0;34m.\u001b[0m\u001b[0mto_exception\u001b[0m\u001b[0;34m(\u001b[0m\u001b[0me\u001b[0m\u001b[0;34m)\u001b[0m\u001b[0;34m\u001b[0m\u001b[0;34m\u001b[0m\u001b[0m\n\u001b[0m\u001b[1;32m   1148\u001b[0m             \u001b[0;32melse\u001b[0m\u001b[0;34m:\u001b[0m\u001b[0;34m\u001b[0m\u001b[0;34m\u001b[0m\u001b[0m\n\u001b[1;32m   1149\u001b[0m               \u001b[0;32mraise\u001b[0m\u001b[0;34m\u001b[0m\u001b[0;34m\u001b[0m\u001b[0m\n",
            "\u001b[0;31mValueError\u001b[0m: in user code:\n\n    File \"/usr/local/lib/python3.7/dist-packages/keras/engine/training.py\", line 1801, in predict_function  *\n        return step_function(self, iterator)\n    File \"/usr/local/lib/python3.7/dist-packages/keras/engine/training.py\", line 1790, in step_function  **\n        outputs = model.distribute_strategy.run(run_step, args=(data,))\n    File \"/usr/local/lib/python3.7/dist-packages/keras/engine/training.py\", line 1783, in run_step  **\n        outputs = model.predict_step(data)\n    File \"/usr/local/lib/python3.7/dist-packages/keras/engine/training.py\", line 1751, in predict_step\n        return self(x, training=False)\n    File \"/usr/local/lib/python3.7/dist-packages/keras/utils/traceback_utils.py\", line 67, in error_handler\n        raise e.with_traceback(filtered_tb) from None\n    File \"/usr/local/lib/python3.7/dist-packages/keras/engine/input_spec.py\", line 264, in assert_input_compatibility\n        raise ValueError(f'Input {input_index} of layer \"{layer_name}\" is '\n\n    ValueError: Input 0 of layer \"sequential_2\" is incompatible with the layer: expected shape=(None, 32, 32, 3), found shape=(32, 32, 3)\n"
          ]
        }
      ]
    },
    {
      "cell_type": "markdown",
      "source": [
        ""
      ],
      "metadata": {
        "id": "EGBrWkWm93Gr"
      }
    },
    {
      "cell_type": "code",
      "source": [
        ""
      ],
      "metadata": {
        "id": "0KxBFEh292T_"
      },
      "execution_count": null,
      "outputs": []
    },
    {
      "cell_type": "code",
      "source": [
        ""
      ],
      "metadata": {
        "id": "0NECztFbCAYK"
      },
      "execution_count": null,
      "outputs": []
    },
    {
      "cell_type": "code",
      "source": [
        ""
      ],
      "metadata": {
        "id": "0NYBT-ATCNd6"
      },
      "execution_count": null,
      "outputs": []
    },
    {
      "cell_type": "code",
      "source": [
        "notes = cv2.imread(\"part1.jpeg\")\n",
        "gray = cv2.cvtColor(notes, cv2.COLOR_BGR2GRAY)"
      ],
      "metadata": {
        "id": "w5o1C8TXCi1u"
      },
      "execution_count": null,
      "outputs": []
    },
    {
      "cell_type": "code",
      "source": [
        "ret, thresh1 = cv2.threshold(gray, 0, 255, cv2.THRESH_OTSU | cv2.THRESH_BINARY_INV)"
      ],
      "metadata": {
        "id": "j8Eq8ENykmW9"
      },
      "execution_count": null,
      "outputs": []
    },
    {
      "cell_type": "code",
      "source": [
        "rect_kernel = cv2.getStructuringElement(cv2.MORPH_RECT, (5, 5))"
      ],
      "metadata": {
        "id": "QLP-4xy5kobR"
      },
      "execution_count": null,
      "outputs": []
    },
    {
      "cell_type": "code",
      "source": [
        "dilation = cv2.dilate(thresh1, rect_kernel, iterations=1)"
      ],
      "metadata": {
        "id": "XCx3Q4sDkq0q"
      },
      "execution_count": null,
      "outputs": []
    },
    {
      "cell_type": "code",
      "source": [
        "contours, hierarchy = cv2.findContours(dilation, cv2.RETR_EXTERNAL, cv2.CHAIN_APPROX_NONE)"
      ],
      "metadata": {
        "id": "n7de20UHksRX"
      },
      "execution_count": null,
      "outputs": []
    },
    {
      "cell_type": "code",
      "source": [
        "print(len(contours))"
      ],
      "metadata": {
        "colab": {
          "base_uri": "https://localhost:8080/"
        },
        "id": "NA4UqBbxkvM-",
        "outputId": "048fea10-c92b-456f-fd64-092f0928e8f4"
      },
      "execution_count": null,
      "outputs": [
        {
          "output_type": "stream",
          "name": "stdout",
          "text": [
            "234\n"
          ]
        }
      ]
    },
    {
      "cell_type": "code",
      "source": [
        "notes2 = notes.copy()"
      ],
      "metadata": {
        "id": "YA06PSbikwrO"
      },
      "execution_count": null,
      "outputs": []
    },
    {
      "cell_type": "code",
      "source": [
        "new_contours = []"
      ],
      "metadata": {
        "id": "-BTnga1Jk5cD"
      },
      "execution_count": null,
      "outputs": []
    },
    {
      "cell_type": "code",
      "source": [
        "for cnt in contours:\n",
        "    x, y, w, h = cv2.boundingRect(cnt)\n",
        "    aspect_ratio_1 = h / w\n",
        "    aspect_ratio_2 = w / h\n",
        "    if aspect_ratio_1 < 3 and aspect_ratio_2 < 2 and w > 18 and h > 20:\n",
        "        new_contours.append(cnt)"
      ],
      "metadata": {
        "id": "yZ3irS-ik6tY"
      },
      "execution_count": null,
      "outputs": []
    },
    {
      "cell_type": "code",
      "source": [
        "passer = []"
      ],
      "metadata": {
        "id": "6Q6ILBmf37Sy"
      },
      "execution_count": null,
      "outputs": []
    },
    {
      "cell_type": "code",
      "source": [
        "num = 0\n",
        "for cnt in new_contours:\n",
        "    x, y, w, h = cv2.boundingRect(cnt)\n",
        "    cropped = thresh1[y:y + h, x:x + w]\n",
        "    passer.append(cropped)\n",
        "    cv2.rectangle(notes, (x-5, y-5), (x + w+5, y + h+5), (0, 0, 255), 2)\n",
        "    cv2.putText(notes, \"{}\".format(num + 1), (x + 40, y - 10), cv2.FONT_HERSHEY_SIMPLEX, 0.5,(0, 0, 255), 2)\n",
        "    num+=1"
      ],
      "metadata": {
        "id": "HvX6PL_s4AFG"
      },
      "execution_count": null,
      "outputs": []
    },
    {
      "cell_type": "code",
      "source": [
        "passer.reverse()"
      ],
      "metadata": {
        "id": "ZCeKhsUV4Fvy"
      },
      "execution_count": null,
      "outputs": []
    },
    {
      "cell_type": "markdown",
      "source": [
        "j = 1 \n",
        "path= '/tmp/'\n",
        "for i in passer:\n",
        "  cv2.imwrite(str(path)+str(j)+'.jpeg', i)\n",
        "  j+=1\n"
      ],
      "metadata": {
        "id": "8zL_Jqzq8O49"
      }
    },
    {
      "cell_type": "code",
      "source": [
        "cv2.imwrite('bounded.jpeg', notes)"
      ],
      "metadata": {
        "colab": {
          "base_uri": "https://localhost:8080/"
        },
        "id": "0aFghisqlC4r",
        "outputId": "64a3a489-7cda-41d3-c06a-985e602f6b76"
      },
      "execution_count": null,
      "outputs": [
        {
          "output_type": "execute_result",
          "data": {
            "text/plain": [
              "True"
            ]
          },
          "metadata": {},
          "execution_count": 59
        }
      ]
    },
    {
      "cell_type": "code",
      "source": [
        "plt.imshow(notes)\n",
        "plt.show()"
      ],
      "metadata": {
        "colab": {
          "base_uri": "https://localhost:8080/",
          "height": 269
        },
        "id": "C2AaNPgSk_9r",
        "outputId": "c057b237-442b-49de-83bd-4d058133917f"
      },
      "execution_count": null,
      "outputs": [
        {
          "output_type": "display_data",
          "data": {
            "text/plain": [
              "<Figure size 432x288 with 1 Axes>"
            ],
            "image/png": "[encoded data removed]"
          },
          "metadata": {
            "needs_background": "light"
          }
        }
      ]
    },
    {
      "cell_type": "code",
      "source": [
        ""
      ],
      "metadata": {
        "id": "QlDAagf_iKbf"
      },
      "execution_count": null,
      "outputs": []
    }
  ]
}