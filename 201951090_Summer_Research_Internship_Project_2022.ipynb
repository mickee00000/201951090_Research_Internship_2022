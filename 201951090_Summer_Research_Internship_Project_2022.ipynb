{
  "nbformat": 4,
  "nbformat_minor": 0,
  "metadata": {
    "colab": {
      "name": "201951090_Summer_Research_Internship_Project_2022.ipynb",
      "provenance": [],
      "collapsed_sections": [],
      "include_colab_link": true
    },
    "kernelspec": {
      "name": "python3",
      "display_name": "Python 3"
    },
    "language_info": {
      "name": "python"
    },
    "accelerator": "GPU",
    "gpuClass": "standard"
  },
  "cells": [
    {
      "cell_type": "markdown",
      "metadata": {
        "id": "view-in-github",
        "colab_type": "text"
      },
      "source": [
        "<a href=\"https://colab.research.google.com/github/mickee00000/Research_Internship/blob/main/201951090_Summer_Research_Internship_Project_2022.ipynb\" target=\"_parent\"><img src=\"https://colab.research.google.com/assets/colab-badge.svg\" alt=\"Open In Colab\"/></a>"
      ]
    },
    {
      "cell_type": "code",
      "execution_count": 1,
      "metadata": {
        "id": "OUamYaZuB5hW",
        "pycharm": {
          "name": "#%%\n"
        }
      },
      "outputs": [],
      "source": [
        "import pandas as pd\n",
        "import numpy as np\n",
        "import matplotlib.pyplot as plt\n",
        "%matplotlib inline"
      ]
    },
    {
      "cell_type": "code",
      "source": [
        "import tensorflow as tf\n",
        "from tensorflow import keras\n",
        "import PIL\n",
        "import cv2"
      ],
      "metadata": {
        "id": "G8Er57iG8rXy",
        "pycharm": {
          "name": "#%%\n"
        }
      },
      "execution_count": 2,
      "outputs": []
    },
    {
      "cell_type": "code",
      "source": [
        "import pathlib\n",
        "import os\n",
        "import sys"
      ],
      "metadata": {
        "id": "XLlmBoyOCl0Q",
        "pycharm": {
          "name": "#%%\n"
        }
      },
      "execution_count": 3,
      "outputs": []
    },
    {
      "cell_type": "code",
      "source": [
        "import requests\n",
        "import IPython"
      ],
      "metadata": {
        "id": "gJTVxkjnDM05",
        "pycharm": {
          "name": "#%%\n"
        }
      },
      "execution_count": 4,
      "outputs": []
    },
    {
      "cell_type": "code",
      "source": [
        "url = 'https://raw.githubusercontent.com/mickee00000/Research_Internship/main/part1.jpeg'\n",
        "r = requests.get(url, allow_redirects=True)\n",
        "open('part1.jpeg', 'wb').write(r.content)"
      ],
      "metadata": {
        "colab": {
          "base_uri": "https://localhost:8080/"
        },
        "id": "cTihHfvKDNyd",
        "outputId": "ed07a9fd-02d4-416e-90de-f305e051288f",
        "pycharm": {
          "name": "#%%\n"
        }
      },
      "execution_count": 5,
      "outputs": [
        {
          "output_type": "execute_result",
          "data": {
            "text/plain": [
              "94205"
            ]
          },
          "metadata": {},
          "execution_count": 5
        }
      ]
    },
    {
      "cell_type": "code",
      "source": [
        "hindi_data = tf.keras.utils.get_file('hindi_text', origin = 'https://archive.ics.uci.edu/ml/machine-learning-databases/00389/DevanagariHandwrittenCharacterDataset.zip', cache_dir='.', extract=True, archive_format='zip')\n",
        "hindi_data"
      ],
      "metadata": {
        "colab": {
          "base_uri": "https://localhost:8080/",
          "height": 108
        },
        "id": "LNjxt3Sc82Zc",
        "outputId": "77ba014c-0a96-49bd-b82f-708ab1cd0b03",
        "pycharm": {
          "name": "#%%\n"
        }
      },
      "execution_count": 6,
      "outputs": [
        {
          "output_type": "stream",
          "name": "stdout",
          "text": [
            "Downloading data from https://archive.ics.uci.edu/ml/machine-learning-databases/00389/DevanagariHandwrittenCharacterDataset.zip\n",
            "80420864/80417803 [==============================] - 2s 0us/step\n",
            "80429056/80417803 [==============================] - 2s 0us/step\n"
          ]
        },
        {
          "output_type": "execute_result",
          "data": {
            "text/plain": [
              "'./datasets/hindi_text'"
            ],
            "application/vnd.google.colaboratory.intrinsic+json": {
              "type": "string"
            }
          },
          "metadata": {},
          "execution_count": 6
        }
      ]
    },
    {
      "cell_type": "code",
      "source": [
        "hindi_data_train = pathlib.Path(r'/content/datasets/DevanagariHandwrittenCharacterDataset/Train')\n",
        "hindi_data_train"
      ],
      "metadata": {
        "colab": {
          "base_uri": "https://localhost:8080/"
        },
        "id": "4zb7GNeB84Bw",
        "outputId": "53214c43-335d-478c-8ac8-fe1f1df9cc50",
        "pycharm": {
          "name": "#%%\n"
        }
      },
      "execution_count": 7,
      "outputs": [
        {
          "output_type": "execute_result",
          "data": {
            "text/plain": [
              "PosixPath('/content/datasets/DevanagariHandwrittenCharacterDataset/Train')"
            ]
          },
          "metadata": {},
          "execution_count": 7
        }
      ]
    },
    {
      "cell_type": "code",
      "source": [
        "hindi_data_test = pathlib.Path(r'/content/datasets/DevanagariHandwrittenCharacterDataset/Test')\n",
        "hindi_data_test"
      ],
      "metadata": {
        "colab": {
          "base_uri": "https://localhost:8080/"
        },
        "id": "cE2nfeR686dQ",
        "outputId": "350ebb7d-8d25-41f3-b421-f958a18e8f0b",
        "pycharm": {
          "name": "#%%\n"
        }
      },
      "execution_count": 8,
      "outputs": [
        {
          "output_type": "execute_result",
          "data": {
            "text/plain": [
              "PosixPath('/content/datasets/DevanagariHandwrittenCharacterDataset/Test')"
            ]
          },
          "metadata": {},
          "execution_count": 8
        }
      ]
    },
    {
      "cell_type": "code",
      "source": [
        "image_count = len(list(hindi_data_train.glob('*/*.png')))\n",
        "image_count"
      ],
      "metadata": {
        "colab": {
          "base_uri": "https://localhost:8080/"
        },
        "id": "OeqbWp8X884J",
        "outputId": "4398c849-e0f7-4f96-ad03-0223df5c6453",
        "pycharm": {
          "name": "#%%\n"
        }
      },
      "execution_count": 9,
      "outputs": [
        {
          "output_type": "execute_result",
          "data": {
            "text/plain": [
              "78200"
            ]
          },
          "metadata": {},
          "execution_count": 9
        }
      ]
    },
    {
      "cell_type": "code",
      "source": [
        "len(list(hindi_data_train.glob('character_3_ga/*')))"
      ],
      "metadata": {
        "colab": {
          "base_uri": "https://localhost:8080/"
        },
        "id": "eFHGkXis8-l1",
        "outputId": "06807970-8b19-43e6-ca44-bdf5635f9fde",
        "pycharm": {
          "name": "#%%\n"
        }
      },
      "execution_count": 10,
      "outputs": [
        {
          "output_type": "execute_result",
          "data": {
            "text/plain": [
              "1700"
            ]
          },
          "metadata": {},
          "execution_count": 10
        }
      ]
    },
    {
      "cell_type": "code",
      "source": [
        "hindi_letters_dict_train = {\n",
        "    'sa': list(hindi_data_train.glob('character_32_patalosaw/*')),\n",
        "    're': list(hindi_data_train.glob('character_27_ra/*')),\n",
        "    'ga': list(hindi_data_train.glob('character_3_ga/*')),\n",
        "    'ma': list(hindi_data_train.glob('character_25_ma/*')),\n",
        "    'pa': list(hindi_data_train.glob('character_21_pa/*')),\n",
        "    'dha': list(hindi_data_train.glob('character_19_dha/*')),\n",
        "    'ni': list(hindi_data_train.glob('character_20_na/*')),\n",
        "    #'zero': list(hindi_data_train.glob('digit_0/*')),\n",
        "    #'one': list(hindi_data_train.glob('digit_1/*')),\n",
        "    #'two': list(hindi_data_train.glob('digit_2/*')),\n",
        "    #'three': list(hindi_data_train.glob('digit_3/*')),\n",
        "    #'four': list(hindi_data_train.glob('digit_4/*')),\n",
        "    #'five': list(hindi_data_train.glob('digit_5/*')),\n",
        "    #'six': list(hindi_data_train.glob('digit_6/*')),\n",
        "    #'seven': list(hindi_data_train.glob('digit_7/*')),\n",
        "    #'eight': list(hindi_data_train.glob('digit_8/*')),\n",
        "    #'nine': list(hindi_data_train.glob('digit_9/*')),\n",
        "}"
      ],
      "metadata": {
        "id": "SLL9I1bk86hc",
        "pycharm": {
          "name": "#%%\n"
        }
      },
      "execution_count": 11,
      "outputs": []
    },
    {
      "cell_type": "code",
      "source": [
        "hindi_letters_dict_test = {\n",
        "    'sa': list(hindi_data_test.glob('character_32_patalosaw/*')),\n",
        "    're': list(hindi_data_test.glob('character_27_ra/*')),\n",
        "    'ga': list(hindi_data_test.glob('character_3_ga/*')),\n",
        "    'ma': list(hindi_data_test.glob('character_25_ma/*')),\n",
        "    'pa': list(hindi_data_test.glob('character_21_pa/*')),\n",
        "    'dha': list(hindi_data_test.glob('character_19_dha/*')),\n",
        "    'ni': list(hindi_data_test.glob('character_20_na/*')),\n",
        "    #'zero': list(hindi_data_test.glob('digit_0/*')),\n",
        "    #'one': list(hindi_data_test.glob('digit_1/*')),\n",
        "    #'two': list(hindi_data_test.glob('digit_2/*')),\n",
        "    #'three': list(hindi_data_test.glob('digit_3/*')),\n",
        "    #'four': list(hindi_data_test.glob('digit_4/*')),\n",
        "    #'five': list(hindi_data_test.glob('digit_5/*')),\n",
        "    #'six': list(hindi_data_test.glob('digit_6/*')),\n",
        "    #'seven': list(hindi_data_test.glob('digit_7/*')),\n",
        "    #'eight': list(hindi_data_test.glob('digit_8/*')),\n",
        "    #'nine': list(hindi_data_test.glob('digit_9/*')),\n",
        "}"
      ],
      "metadata": {
        "id": "9CNuS0pn9Cw5",
        "pycharm": {
          "name": "#%%\n"
        }
      },
      "execution_count": 12,
      "outputs": []
    },
    {
      "cell_type": "code",
      "source": [
        "PIL.Image.open(hindi_letters_dict_train['sa'][0])"
      ],
      "metadata": {
        "colab": {
          "base_uri": "https://localhost:8080/",
          "height": 49
        },
        "id": "02mOyVnD9C6B",
        "outputId": "7b7afeda-a0b8-4b8f-b6e1-ce11b441fef7",
        "pycharm": {
          "name": "#%%\n"
        }
      },
      "execution_count": 13,
      "outputs": [
        {
          "output_type": "execute_result",
          "data": {
            "text/plain": [
              "<PIL.PngImagePlugin.PngImageFile image mode=L size=32x32 at 0x7F85EB621CD0>"
            ],
            "image/png": "[encoded data removed]"
          },
          "metadata": {},
          "execution_count": 13
        }
      ]
    },
    {
      "cell_type": "code",
      "source": [
        "PIL.Image.open(hindi_letters_dict_train['sa'][5])"
      ],
      "metadata": {
        "colab": {
          "base_uri": "https://localhost:8080/",
          "height": 49
        },
        "id": "Deib7_ng9FkT",
        "outputId": "72afcd0c-0661-4440-e6b7-bd6419c234d4",
        "pycharm": {
          "name": "#%%\n"
        }
      },
      "execution_count": 14,
      "outputs": [
        {
          "output_type": "execute_result",
          "data": {
            "text/plain": [
              "<PIL.PngImagePlugin.PngImageFile image mode=L size=32x32 at 0x7F85EADB0590>"
            ],
            "image/png": "[encoded data removed]"
          },
          "metadata": {},
          "execution_count": 14
        }
      ]
    },
    {
      "cell_type": "code",
      "source": [
        "hindi_label_dict = {\n",
        "    'sa': 0,\n",
        "    're': 1,\n",
        "    'ga': 2,\n",
        "    'ma': 3,\n",
        "    'pa': 4,\n",
        "    'dha': 5,\n",
        "    'ni': 6,\n",
        "    #'zero': 7,\n",
        "    #'one': 8,\n",
        "    #'two': 9,\n",
        "    #'three': 10,\n",
        "    #'four': 11,\n",
        "    #'five': 12,\n",
        "    #'six': 13,\n",
        "    #'seven': 14,\n",
        "    #'eight': 15,\n",
        "    #'nine': 16,\n",
        "}"
      ],
      "metadata": {
        "id": "-D1AIjF19Fmz",
        "pycharm": {
          "name": "#%%\n"
        }
      },
      "execution_count": 15,
      "outputs": []
    },
    {
      "cell_type": "code",
      "source": [
        "hindi_name_dict = {\n",
        "     0: 'sa',\n",
        "     1: 're',\n",
        "     2: 'ga',\n",
        "     3: 'ma',\n",
        "     4: 'pa',\n",
        "     5: 'dha',\n",
        "     6: 'ni',\n",
        "     #7: 'zero',\n",
        "     #8: 'one',\n",
        "     #9: 'two',\n",
        "     #10: 'three',\n",
        "     #11: 'four',\n",
        "     #12: 'five',\n",
        "     #13: 'six',\n",
        "     #14: 'seven',\n",
        "     #15: 'eight',\n",
        "     #16: 'nine',\n",
        "}"
      ],
      "metadata": {
        "id": "oAZkVQ0x9FqD",
        "pycharm": {
          "name": "#%%\n"
        }
      },
      "execution_count": 16,
      "outputs": []
    },
    {
      "cell_type": "code",
      "source": [
        "img = cv2.imread(str(hindi_letters_dict_train['re'][0]))\n"
      ],
      "metadata": {
        "id": "Pag7-uWw9FtK",
        "pycharm": {
          "name": "#%%\n"
        }
      },
      "execution_count": 17,
      "outputs": []
    },
    {
      "cell_type": "code",
      "source": [
        "img"
      ],
      "metadata": {
        "colab": {
          "base_uri": "https://localhost:8080/"
        },
        "id": "VmFqzCJJ9Fv1",
        "outputId": "6b941d0e-ba67-466f-a7f3-b262f6ff20a2",
        "pycharm": {
          "name": "#%%\n"
        }
      },
      "execution_count": 18,
      "outputs": [
        {
          "output_type": "execute_result",
          "data": {
            "text/plain": [
              "array([[[  0,   0,   0],\n",
              "        [  0,   0,   0],\n",
              "        [  0,   0,   0],\n",
              "        ...,\n",
              "        [  0,   0,   0],\n",
              "        [  0,   0,   0],\n",
              "        [  0,   0,   0]],\n",
              "\n",
              "       [[  0,   0,   0],\n",
              "        [  0,   0,   0],\n",
              "        [  0,   0,   0],\n",
              "        ...,\n",
              "        [  0,   0,   0],\n",
              "        [  0,   0,   0],\n",
              "        [  0,   0,   0]],\n",
              "\n",
              "       [[  0,   0,   0],\n",
              "        [  0,   0,   0],\n",
              "        [  0,   0,   0],\n",
              "        ...,\n",
              "        [  0,   0,   0],\n",
              "        [  0,   0,   0],\n",
              "        [  0,   0,   0]],\n",
              "\n",
              "       ...,\n",
              "\n",
              "       [[  0,   0,   0],\n",
              "        [  0,   0,   0],\n",
              "        [  0,   0,   0],\n",
              "        ...,\n",
              "        [165, 165, 165],\n",
              "        [  0,   0,   0],\n",
              "        [  0,   0,   0]],\n",
              "\n",
              "       [[  0,   0,   0],\n",
              "        [  0,   0,   0],\n",
              "        [  0,   0,   0],\n",
              "        ...,\n",
              "        [  0,   0,   0],\n",
              "        [  0,   0,   0],\n",
              "        [  0,   0,   0]],\n",
              "\n",
              "       [[  0,   0,   0],\n",
              "        [  0,   0,   0],\n",
              "        [  0,   0,   0],\n",
              "        ...,\n",
              "        [  0,   0,   0],\n",
              "        [  0,   0,   0],\n",
              "        [  0,   0,   0]]], dtype=uint8)"
            ]
          },
          "metadata": {},
          "execution_count": 18
        }
      ]
    },
    {
      "cell_type": "code",
      "source": [
        "X_train = []\n",
        "y_train = []"
      ],
      "metadata": {
        "id": "DlFzmGCH9Fyc",
        "pycharm": {
          "name": "#%%\n"
        }
      },
      "execution_count": 19,
      "outputs": []
    },
    {
      "cell_type": "code",
      "source": [
        "for key, value_list in hindi_letters_dict_train.items():\n",
        "    for value in value_list:\n",
        "        img = cv2.imread(str(value))\n",
        "        img = cv2.resize(img,(32,32))\n",
        "        _, img = cv2.threshold(img, 127,255, cv2.THRESH_BINARY_INV)\n",
        "        X_train.append(img)\n",
        "        y_train.append(hindi_label_dict[key])"
      ],
      "metadata": {
        "id": "1GWpS9KH9F1D",
        "pycharm": {
          "name": "#%%\n"
        }
      },
      "execution_count": 20,
      "outputs": []
    },
    {
      "cell_type": "code",
      "source": [
        "X_test = []\n",
        "y_test = []"
      ],
      "metadata": {
        "id": "2eIpk5AT9E5z",
        "pycharm": {
          "name": "#%%\n"
        }
      },
      "execution_count": 21,
      "outputs": []
    },
    {
      "cell_type": "code",
      "source": [
        "for key, value_list in hindi_letters_dict_test.items():\n",
        "    for value in value_list:\n",
        "        img = cv2.imread(str(value))\n",
        "        img = cv2.resize(img,(32,32))\n",
        "        _, img = cv2.threshold(img, 127,255, cv2.THRESH_BINARY_INV)\n",
        "        X_test.append(img)\n",
        "        y_test.append(hindi_label_dict[key])"
      ],
      "metadata": {
        "id": "GRCpQI2S9Q7j",
        "pycharm": {
          "name": "#%%\n"
        }
      },
      "execution_count": 22,
      "outputs": []
    },
    {
      "cell_type": "code",
      "source": [
        "len(X_train)"
      ],
      "metadata": {
        "colab": {
          "base_uri": "https://localhost:8080/"
        },
        "id": "RLz8H5wb9Q-p",
        "outputId": "787810d4-7772-42d3-ea87-a4f80f47bd91",
        "pycharm": {
          "name": "#%%\n"
        }
      },
      "execution_count": 23,
      "outputs": [
        {
          "output_type": "execute_result",
          "data": {
            "text/plain": [
              "11900"
            ]
          },
          "metadata": {},
          "execution_count": 23
        }
      ]
    },
    {
      "cell_type": "code",
      "source": [
        "len(y_train)"
      ],
      "metadata": {
        "colab": {
          "base_uri": "https://localhost:8080/"
        },
        "id": "yfTV-syd9RBl",
        "outputId": "6631cae7-c22b-41ed-82c6-ec14d4cff7a5",
        "pycharm": {
          "name": "#%%\n"
        }
      },
      "execution_count": 24,
      "outputs": [
        {
          "output_type": "execute_result",
          "data": {
            "text/plain": [
              "11900"
            ]
          },
          "metadata": {},
          "execution_count": 24
        }
      ]
    },
    {
      "cell_type": "code",
      "source": [
        "X_train = np.array(X_train)\n",
        "y_train = np.array(y_train)"
      ],
      "metadata": {
        "id": "WlHgOwCj9RER",
        "pycharm": {
          "name": "#%%\n"
        }
      },
      "execution_count": 25,
      "outputs": []
    },
    {
      "cell_type": "code",
      "source": [
        "X_test = np.array(X_test)\n",
        "y_test = np.array(y_test)"
      ],
      "metadata": {
        "id": "37BgBBdy9RHJ",
        "pycharm": {
          "name": "#%%\n"
        }
      },
      "execution_count": 26,
      "outputs": []
    },
    {
      "cell_type": "code",
      "source": [
        "X_train.shape"
      ],
      "metadata": {
        "colab": {
          "base_uri": "https://localhost:8080/"
        },
        "id": "o2hInN209RJ6",
        "outputId": "4377e918-eaf6-497e-e1c1-c524b51cddd7",
        "pycharm": {
          "name": "#%%\n"
        }
      },
      "execution_count": 27,
      "outputs": [
        {
          "output_type": "execute_result",
          "data": {
            "text/plain": [
              "(11900, 32, 32, 3)"
            ]
          },
          "metadata": {},
          "execution_count": 27
        }
      ]
    },
    {
      "cell_type": "code",
      "source": [
        "X_test.shape"
      ],
      "metadata": {
        "colab": {
          "base_uri": "https://localhost:8080/"
        },
        "id": "qvIGna3r9RMl",
        "outputId": "cc1b534a-20dc-473e-edaa-f57af164fc21",
        "pycharm": {
          "name": "#%%\n"
        }
      },
      "execution_count": 28,
      "outputs": [
        {
          "output_type": "execute_result",
          "data": {
            "text/plain": [
              "(2100, 32, 32, 3)"
            ]
          },
          "metadata": {},
          "execution_count": 28
        }
      ]
    },
    {
      "cell_type": "code",
      "source": [
        "plt.matshow(X_train[11110])"
      ],
      "metadata": {
        "colab": {
          "base_uri": "https://localhost:8080/",
          "height": 292
        },
        "id": "UvNjd0SA9b-b",
        "outputId": "68ba85d2-a9bc-47ba-f329-82749186943d",
        "pycharm": {
          "name": "#%%\n"
        }
      },
      "execution_count": 29,
      "outputs": [
        {
          "output_type": "execute_result",
          "data": {
            "text/plain": [
              "<matplotlib.image.AxesImage at 0x7f85ead6dc50>"
            ]
          },
          "metadata": {},
          "execution_count": 29
        },
        {
          "output_type": "display_data",
          "data": {
            "text/plain": [
              "<Figure size 288x288 with 1 Axes>"
            ],
            "image/png": "[encoded data removed]"
          },
          "metadata": {
            "needs_background": "light"
          }
        }
      ]
    },
    {
      "cell_type": "code",
      "source": [
        "X_train_scaled = X_train / 255\n",
        "X_test_scaled = X_test / 255"
      ],
      "metadata": {
        "id": "FetxL9Tx9cA_",
        "pycharm": {
          "name": "#%%\n"
        }
      },
      "execution_count": 30,
      "outputs": []
    },
    {
      "cell_type": "code",
      "source": [
        "hindi_name_dict[y_train[11110]]"
      ],
      "metadata": {
        "colab": {
          "base_uri": "https://localhost:8080/",
          "height": 36
        },
        "id": "z4o1W9ui9cDX",
        "outputId": "03fc3009-2186-4c58-b3d8-f8c28a70c770",
        "pycharm": {
          "name": "#%%\n"
        }
      },
      "execution_count": 31,
      "outputs": [
        {
          "output_type": "execute_result",
          "data": {
            "text/plain": [
              "'ni'"
            ],
            "application/vnd.google.colaboratory.intrinsic+json": {
              "type": "string"
            }
          },
          "metadata": {},
          "execution_count": 31
        }
      ]
    },
    {
      "cell_type": "code",
      "source": [
        "X_train_scaled.shape"
      ],
      "metadata": {
        "colab": {
          "base_uri": "https://localhost:8080/"
        },
        "id": "VVx2zeLJ9RPU",
        "outputId": "9be5d3d3-6245-44db-c658-4e935ef2345c",
        "pycharm": {
          "name": "#%%\n"
        }
      },
      "execution_count": 32,
      "outputs": [
        {
          "output_type": "execute_result",
          "data": {
            "text/plain": [
              "(11900, 32, 32, 3)"
            ]
          },
          "metadata": {},
          "execution_count": 32
        }
      ]
    },
    {
      "cell_type": "code",
      "source": [
        "#X_train_scaled_flat = np.reshape(#X_train_scaled, (28900, 32*32*3))"
      ],
      "metadata": {
        "id": "5rMnaJ869gYS",
        "pycharm": {
          "name": "#%%\n"
        }
      },
      "execution_count": 33,
      "outputs": []
    },
    {
      "cell_type": "code",
      "source": [
        "y_train[0]"
      ],
      "metadata": {
        "colab": {
          "base_uri": "https://localhost:8080/"
        },
        "id": "u0hf20hP9ga3",
        "outputId": "1289df61-2e9a-47b6-9007-3e4eba0407e0",
        "pycharm": {
          "name": "#%%\n"
        }
      },
      "execution_count": 34,
      "outputs": [
        {
          "output_type": "execute_result",
          "data": {
            "text/plain": [
              "0"
            ]
          },
          "metadata": {},
          "execution_count": 34
        }
      ]
    },
    {
      "cell_type": "code",
      "source": [
        "plt.matshow(X_train[0])"
      ],
      "metadata": {
        "colab": {
          "base_uri": "https://localhost:8080/",
          "height": 292
        },
        "id": "WsNeoME19gea",
        "outputId": "3c3399ed-bdd2-402a-8cf0-a443c964e17e",
        "pycharm": {
          "name": "#%%\n"
        }
      },
      "execution_count": 35,
      "outputs": [
        {
          "output_type": "execute_result",
          "data": {
            "text/plain": [
              "<matplotlib.image.AxesImage at 0x7f85eac2c990>"
            ]
          },
          "metadata": {},
          "execution_count": 35
        },
        {
          "output_type": "display_data",
          "data": {
            "text/plain": [
              "<Figure size 288x288 with 1 Axes>"
            ],
            "image/png": "[encoded data removed]"
          },
          "metadata": {
            "needs_background": "light"
          }
        }
      ]
    },
    {
      "cell_type": "code",
      "source": [
        "data_augmentation = keras.Sequential(\n",
        "    [\n",
        "        keras.layers.experimental.preprocessing.RandomFlip(\"horizontal\",input_shape=(32,32,3,)),\n",
        "        keras.layers.experimental.preprocessing.RandomRotation(0.2),\n",
        "        keras.layers.experimental.preprocessing.RandomZoom(0.1),\n",
        "      \n",
        "    ]\n",
        ")"
      ],
      "metadata": {
        "id": "ERa5zNYQ9ghc",
        "pycharm": {
          "name": "#%%\n"
        }
      },
      "execution_count": 36,
      "outputs": []
    },
    {
      "cell_type": "code",
      "source": [
        "model = keras.Sequential([\n",
        "    data_augmentation,\n",
        "    \n",
        "\n",
        "    keras.layers.Conv2D(filters = 32,kernel_size = (3,3),strides = 1,activation = \"relu\"),\n",
        "    keras.layers.BatchNormalization(),\n",
        "    keras.layers.MaxPooling2D(pool_size=(2, 2),strides=(2, 2), padding=\"same\"),\n",
        "\n",
        "    keras.layers.Conv2D(filters = 32,kernel_size = (3,3),strides = 1,activation = \"relu\",),\n",
        "    keras.layers.BatchNormalization(),\n",
        "    keras.layers.MaxPooling2D(pool_size=(2, 2),strides=(2, 2), padding=\"same\"),\n",
        "\n",
        "    keras.layers.Conv2D(filters = 64,kernel_size = (3,3),strides = 1,activation = \"relu\",),\n",
        "    keras.layers.BatchNormalization(),\n",
        "    keras.layers.MaxPooling2D(pool_size=(2, 2),strides=(2, 2), padding=\"same\"),\n",
        "\n",
        "    keras.layers.Conv2D(filters = 64,kernel_size = (3,3),strides = 1,activation = \"relu\",),\n",
        "    keras.layers.BatchNormalization(),\n",
        "    keras.layers.MaxPooling2D(pool_size=(2, 2),strides=(2, 2), padding=\"same\"),\n",
        "    keras.layers.Flatten(),\n",
        "\n",
        "\n",
        "    keras.layers.Dense(128, activation = \"relu\", kernel_initializer = \"uniform\"),\n",
        "    keras.layers.BatchNormalization(),\n",
        "\n",
        "    keras.layers.Dense(64, activation = \"relu\", kernel_initializer = \"uniform\"),\n",
        "    keras.layers.BatchNormalization(),\n",
        "\n",
        "    keras.layers.Dense(7,activation = \"softmax\"),\n",
        "\n",
        "])"
      ],
      "metadata": {
        "id": "Q77Ko3dF9gkV",
        "pycharm": {
          "name": "#%%\n"
        }
      },
      "execution_count": 37,
      "outputs": []
    },
    {
      "cell_type": "code",
      "source": [
        "model.compile(\n",
        "    optimizer = \"adam\",\n",
        "    loss = \"sparse_categorical_crossentropy\",\n",
        "    metrics = [\"accuracy\"]\n",
        ")"
      ],
      "metadata": {
        "id": "nUYRyY9q9nkO",
        "pycharm": {
          "name": "#%%\n"
        }
      },
      "execution_count": 38,
      "outputs": []
    },
    {
      "cell_type": "code",
      "source": [
        "print(model.summary())"
      ],
      "metadata": {
        "colab": {
          "base_uri": "https://localhost:8080/"
        },
        "id": "nB8qbMVx9nm8",
        "outputId": "e6dc483d-c69b-4836-c6a7-0d143ca27b6a",
        "pycharm": {
          "name": "#%%\n"
        }
      },
      "execution_count": 39,
      "outputs": [
        {
          "output_type": "stream",
          "name": "stdout",
          "text": [
            "Model: \"sequential_1\"\n",
            "_________________________________________________________________\n",
            " Layer (type)                Output Shape              Param #   \n",
            "=================================================================\n",
            " sequential (Sequential)     (None, 32, 32, 3)         0         \n",
            "                                                                 \n",
            " conv2d (Conv2D)             (None, 30, 30, 32)        896       \n",
            "                                                                 \n",
            " batch_normalization (BatchN  (None, 30, 30, 32)       128       \n",
            " ormalization)                                                   \n",
            "                                                                 \n",
            " max_pooling2d (MaxPooling2D  (None, 15, 15, 32)       0         \n",
            " )                                                               \n",
            "                                                                 \n",
            " conv2d_1 (Conv2D)           (None, 13, 13, 32)        9248      \n",
            "                                                                 \n",
            " batch_normalization_1 (Batc  (None, 13, 13, 32)       128       \n",
            " hNormalization)                                                 \n",
            "                                                                 \n",
            " max_pooling2d_1 (MaxPooling  (None, 7, 7, 32)         0         \n",
            " 2D)                                                             \n",
            "                                                                 \n",
            " conv2d_2 (Conv2D)           (None, 5, 5, 64)          18496     \n",
            "                                                                 \n",
            " batch_normalization_2 (Batc  (None, 5, 5, 64)         256       \n",
            " hNormalization)                                                 \n",
            "                                                                 \n",
            " max_pooling2d_2 (MaxPooling  (None, 3, 3, 64)         0         \n",
            " 2D)                                                             \n",
            "                                                                 \n",
            " conv2d_3 (Conv2D)           (None, 1, 1, 64)          36928     \n",
            "                                                                 \n",
            " batch_normalization_3 (Batc  (None, 1, 1, 64)         256       \n",
            " hNormalization)                                                 \n",
            "                                                                 \n",
            " max_pooling2d_3 (MaxPooling  (None, 1, 1, 64)         0         \n",
            " 2D)                                                             \n",
            "                                                                 \n",
            " flatten (Flatten)           (None, 64)                0         \n",
            "                                                                 \n",
            " dense (Dense)               (None, 128)               8320      \n",
            "                                                                 \n",
            " batch_normalization_4 (Batc  (None, 128)              512       \n",
            " hNormalization)                                                 \n",
            "                                                                 \n",
            " dense_1 (Dense)             (None, 64)                8256      \n",
            "                                                                 \n",
            " batch_normalization_5 (Batc  (None, 64)               256       \n",
            " hNormalization)                                                 \n",
            "                                                                 \n",
            " dense_2 (Dense)             (None, 7)                 455       \n",
            "                                                                 \n",
            "=================================================================\n",
            "Total params: 84,135\n",
            "Trainable params: 83,367\n",
            "Non-trainable params: 768\n",
            "_________________________________________________________________\n",
            "None\n"
          ]
        }
      ]
    },
    {
      "cell_type": "code",
      "source": [
        "model.fit(X_train_scaled, y_train, epochs = 80)"
      ],
      "metadata": {
        "colab": {
          "base_uri": "https://localhost:8080/"
        },
        "id": "HxTzpFuy9nqG",
        "outputId": "70bb6276-c211-430d-8247-04ea6b296529",
        "pycharm": {
          "name": "#%%\n"
        }
      },
      "execution_count": null,
      "outputs": [
        {
          "output_type": "stream",
          "name": "stdout",
          "text": [
            "Epoch 1/80\n",
            "372/372 [==============================] - 15s 7ms/step - loss: 1.0755 - accuracy: 0.6139\n",
            "Epoch 2/80\n",
            "372/372 [==============================] - 3s 7ms/step - loss: 0.5079 - accuracy: 0.8229\n",
            "Epoch 3/80\n",
            "372/372 [==============================] - 3s 7ms/step - loss: 0.3714 - accuracy: 0.8734\n",
            "Epoch 4/80\n",
            "372/372 [==============================] - 3s 7ms/step - loss: 0.2892 - accuracy: 0.9000\n",
            "Epoch 5/80\n",
            "372/372 [==============================] - 3s 7ms/step - loss: 0.2533 - accuracy: 0.9149\n",
            "Epoch 6/80\n",
            "372/372 [==============================] - 3s 7ms/step - loss: 0.2189 - accuracy: 0.9255\n",
            "Epoch 7/80\n",
            "372/372 [==============================] - 3s 7ms/step - loss: 0.2082 - accuracy: 0.9316\n",
            "Epoch 8/80\n",
            "372/372 [==============================] - 3s 7ms/step - loss: 0.1907 - accuracy: 0.9357\n",
            "Epoch 9/80\n",
            "372/372 [==============================] - 3s 7ms/step - loss: 0.1763 - accuracy: 0.9424\n",
            "Epoch 10/80\n",
            "372/372 [==============================] - 3s 7ms/step - loss: 0.1643 - accuracy: 0.9477\n",
            "Epoch 11/80\n",
            "372/372 [==============================] - 3s 7ms/step - loss: 0.1450 - accuracy: 0.9513\n",
            "Epoch 12/80\n",
            "372/372 [==============================] - 3s 7ms/step - loss: 0.1373 - accuracy: 0.9543\n",
            "Epoch 13/80\n",
            "372/372 [==============================] - 3s 7ms/step - loss: 0.1497 - accuracy: 0.9503\n",
            "Epoch 14/80\n",
            "372/372 [==============================] - 3s 8ms/step - loss: 0.1409 - accuracy: 0.9546\n",
            "Epoch 15/80\n",
            "372/372 [==============================] - 3s 7ms/step - loss: 0.1284 - accuracy: 0.9566\n",
            "Epoch 16/80\n",
            "372/372 [==============================] - 3s 7ms/step - loss: 0.1226 - accuracy: 0.9590\n",
            "Epoch 17/80\n",
            "372/372 [==============================] - 3s 7ms/step - loss: 0.1139 - accuracy: 0.9629\n",
            "Epoch 18/80\n",
            "372/372 [==============================] - 3s 7ms/step - loss: 0.1165 - accuracy: 0.9626\n",
            "Epoch 19/80\n",
            "372/372 [==============================] - 3s 7ms/step - loss: 0.1003 - accuracy: 0.9674\n",
            "Epoch 20/80\n",
            "372/372 [==============================] - 3s 7ms/step - loss: 0.1054 - accuracy: 0.9650\n",
            "Epoch 21/80\n",
            "372/372 [==============================] - 2s 7ms/step - loss: 0.1010 - accuracy: 0.9678\n",
            "Epoch 22/80\n",
            "372/372 [==============================] - 2s 7ms/step - loss: 0.1020 - accuracy: 0.9663\n",
            "Epoch 23/80\n",
            "372/372 [==============================] - 3s 7ms/step - loss: 0.1047 - accuracy: 0.9649\n",
            "Epoch 24/80\n",
            "372/372 [==============================] - 2s 7ms/step - loss: 0.0908 - accuracy: 0.9697\n",
            "Epoch 25/80\n",
            "372/372 [==============================] - 3s 7ms/step - loss: 0.0943 - accuracy: 0.9676\n",
            "Epoch 26/80\n",
            "372/372 [==============================] - 3s 7ms/step - loss: 0.0867 - accuracy: 0.9719\n",
            "Epoch 27/80\n",
            "372/372 [==============================] - 3s 7ms/step - loss: 0.0931 - accuracy: 0.9681\n",
            "Epoch 28/80\n",
            "372/372 [==============================] - 3s 7ms/step - loss: 0.0801 - accuracy: 0.9734\n",
            "Epoch 29/80\n",
            "372/372 [==============================] - 3s 7ms/step - loss: 0.0891 - accuracy: 0.9724\n",
            "Epoch 30/80\n",
            "372/372 [==============================] - 3s 7ms/step - loss: 0.0725 - accuracy: 0.9769\n",
            "Epoch 31/80\n",
            "372/372 [==============================] - 3s 7ms/step - loss: 0.0855 - accuracy: 0.9707\n",
            "Epoch 32/80\n",
            "372/372 [==============================] - 3s 7ms/step - loss: 0.0745 - accuracy: 0.9742\n",
            "Epoch 33/80\n",
            "372/372 [==============================] - 3s 7ms/step - loss: 0.0784 - accuracy: 0.9746\n",
            "Epoch 34/80\n",
            "372/372 [==============================] - 3s 7ms/step - loss: 0.0825 - accuracy: 0.9746\n",
            "Epoch 35/80\n",
            "372/372 [==============================] - 3s 7ms/step - loss: 0.0749 - accuracy: 0.9755\n",
            "Epoch 36/80\n",
            "372/372 [==============================] - 3s 7ms/step - loss: 0.0739 - accuracy: 0.9763\n",
            "Epoch 37/80\n",
            "372/372 [==============================] - 3s 7ms/step - loss: 0.0643 - accuracy: 0.9782\n",
            "Epoch 38/80\n",
            "372/372 [==============================] - 3s 7ms/step - loss: 0.0666 - accuracy: 0.9777\n",
            "Epoch 39/80\n",
            "372/372 [==============================] - 3s 7ms/step - loss: 0.0663 - accuracy: 0.9778\n",
            "Epoch 40/80\n",
            "372/372 [==============================] - 3s 7ms/step - loss: 0.0676 - accuracy: 0.9774\n",
            "Epoch 41/80\n",
            "372/372 [==============================] - 3s 7ms/step - loss: 0.0614 - accuracy: 0.9799\n",
            "Epoch 42/80\n",
            "372/372 [==============================] - 3s 7ms/step - loss: 0.0600 - accuracy: 0.9786\n",
            "Epoch 43/80\n",
            "372/372 [==============================] - 3s 7ms/step - loss: 0.0715 - accuracy: 0.9753\n",
            "Epoch 44/80\n",
            "372/372 [==============================] - 2s 7ms/step - loss: 0.0665 - accuracy: 0.9791\n",
            "Epoch 45/80\n",
            "372/372 [==============================] - 2s 7ms/step - loss: 0.0629 - accuracy: 0.9805\n",
            "Epoch 46/80\n",
            "372/372 [==============================] - 3s 7ms/step - loss: 0.0544 - accuracy: 0.9825\n",
            "Epoch 47/80\n",
            "372/372 [==============================] - 3s 7ms/step - loss: 0.0572 - accuracy: 0.9810\n",
            "Epoch 48/80\n",
            "372/372 [==============================] - 3s 7ms/step - loss: 0.0585 - accuracy: 0.9803\n",
            "Epoch 49/80\n",
            "372/372 [==============================] - 3s 7ms/step - loss: 0.0556 - accuracy: 0.9819\n",
            "Epoch 50/80\n",
            "372/372 [==============================] - 3s 7ms/step - loss: 0.0576 - accuracy: 0.9817\n",
            "Epoch 51/80\n",
            "372/372 [==============================] - 3s 7ms/step - loss: 0.0520 - accuracy: 0.9813\n",
            "Epoch 52/80\n",
            "372/372 [==============================] - 3s 7ms/step - loss: 0.0569 - accuracy: 0.9818\n",
            "Epoch 53/80\n",
            "372/372 [==============================] - 3s 7ms/step - loss: 0.0518 - accuracy: 0.9833\n",
            "Epoch 54/80\n",
            "372/372 [==============================] - 3s 7ms/step - loss: 0.0600 - accuracy: 0.9812\n",
            "Epoch 55/80\n",
            "372/372 [==============================] - 3s 7ms/step - loss: 0.0528 - accuracy: 0.9827\n",
            "Epoch 56/80\n",
            "372/372 [==============================] - 3s 7ms/step - loss: 0.0555 - accuracy: 0.9818\n",
            "Epoch 57/80\n",
            "372/372 [==============================] - 3s 7ms/step - loss: 0.0548 - accuracy: 0.9834\n",
            "Epoch 58/80\n",
            "372/372 [==============================] - 3s 7ms/step - loss: 0.0585 - accuracy: 0.9810\n",
            "Epoch 59/80\n",
            "372/372 [==============================] - 2s 7ms/step - loss: 0.0561 - accuracy: 0.9823\n",
            "Epoch 60/80\n",
            "372/372 [==============================] - 2s 7ms/step - loss: 0.0500 - accuracy: 0.9834\n",
            "Epoch 61/80\n",
            "372/372 [==============================] - 3s 7ms/step - loss: 0.0499 - accuracy: 0.9822\n",
            "Epoch 62/80\n",
            "372/372 [==============================] - 3s 7ms/step - loss: 0.0513 - accuracy: 0.9838\n",
            "Epoch 63/80\n",
            "372/372 [==============================] - 3s 7ms/step - loss: 0.0445 - accuracy: 0.9854\n",
            "Epoch 64/80\n",
            "372/372 [==============================] - 3s 7ms/step - loss: 0.0454 - accuracy: 0.9856\n",
            "Epoch 65/80\n",
            "372/372 [==============================] - 3s 7ms/step - loss: 0.0485 - accuracy: 0.9846\n",
            "Epoch 66/80\n",
            "372/372 [==============================] - 3s 7ms/step - loss: 0.0498 - accuracy: 0.9841\n",
            "Epoch 67/80\n",
            "372/372 [==============================] - 3s 7ms/step - loss: 0.0501 - accuracy: 0.9839\n",
            "Epoch 68/80\n",
            "372/372 [==============================] - 3s 7ms/step - loss: 0.0453 - accuracy: 0.9850\n",
            "Epoch 69/80\n",
            "372/372 [==============================] - 3s 7ms/step - loss: 0.0409 - accuracy: 0.9871\n",
            "Epoch 70/80\n",
            "372/372 [==============================] - 3s 7ms/step - loss: 0.0417 - accuracy: 0.9866\n",
            "Epoch 71/80\n",
            "372/372 [==============================] - 3s 7ms/step - loss: 0.0479 - accuracy: 0.9854\n",
            "Epoch 72/80\n",
            "372/372 [==============================] - 3s 7ms/step - loss: 0.0512 - accuracy: 0.9837\n",
            "Epoch 73/80\n",
            "372/372 [==============================] - 3s 7ms/step - loss: 0.0387 - accuracy: 0.9875\n",
            "Epoch 74/80\n",
            "372/372 [==============================] - 3s 7ms/step - loss: 0.0392 - accuracy: 0.9882\n",
            "Epoch 75/80\n",
            "372/372 [==============================] - 3s 7ms/step - loss: 0.0474 - accuracy: 0.9844\n",
            "Epoch 76/80\n",
            "372/372 [==============================] - 3s 7ms/step - loss: 0.0487 - accuracy: 0.9852\n",
            "Epoch 77/80\n",
            "372/372 [==============================] - 3s 7ms/step - loss: 0.0421 - accuracy: 0.9865\n",
            "Epoch 78/80\n",
            "372/372 [==============================] - 2s 7ms/step - loss: 0.0431 - accuracy: 0.9868\n",
            "Epoch 79/80\n",
            "372/372 [==============================] - 2s 6ms/step - loss: 0.0377 - accuracy: 0.9864\n",
            "Epoch 80/80\n",
            "211/372 [================>.............] - ETA: 1s - loss: 0.0470 - accuracy: 0.9859"
          ]
        }
      ]
    },
    {
      "cell_type": "code",
      "source": [
        "model.evaluate(X_test_scaled, y_test)"
      ],
      "metadata": {
        "id": "tvNkGlA69ntM",
        "pycharm": {
          "name": "#%%\n"
        }
      },
      "execution_count": null,
      "outputs": []
    },
    {
      "cell_type": "code",
      "source": [
        "print(model.summary())"
      ],
      "metadata": {
        "id": "lJZtnZL79gmc",
        "pycharm": {
          "name": "#%%\n"
        }
      },
      "execution_count": null,
      "outputs": []
    },
    {
      "cell_type": "code",
      "source": [
        "model.evaluate(X_test_scaled, y_test)"
      ],
      "metadata": {
        "id": "xh6Iw21j9xzx",
        "pycharm": {
          "name": "#%%\n"
        }
      },
      "execution_count": null,
      "outputs": []
    },
    {
      "cell_type": "code",
      "source": [
        ""
      ],
      "metadata": {
        "id": "ZT59gu761UwN"
      },
      "execution_count": null,
      "outputs": []
    },
    {
      "cell_type": "code",
      "source": [
        ""
      ],
      "metadata": {
        "id": "VIULvZbA1Uyg"
      },
      "execution_count": null,
      "outputs": []
    },
    {
      "cell_type": "code",
      "source": [
        ""
      ],
      "metadata": {
        "id": "wHbRadbS1U1H"
      },
      "execution_count": null,
      "outputs": []
    },
    {
      "cell_type": "code",
      "source": [
        "url = 'https://raw.githubusercontent.com/mickee00000/Research_Internship/main/part1.jpeg'\n",
        "r = requests.get(url, allow_redirects=True)\n",
        "open('part1.jpeg', 'wb').write(r.content)"
      ],
      "metadata": {
        "id": "8ZCThWDf1U3n"
      },
      "execution_count": null,
      "outputs": []
    },
    {
      "cell_type": "code",
      "source": [
        "notes = cv2.imread(\"part1.jpeg\")\n",
        "gray = cv2.cvtColor(notes, cv2.COLOR_BGR2GRAY)"
      ],
      "metadata": {
        "id": "w5o1C8TXCi1u",
        "pycharm": {
          "name": "#%%\n"
        }
      },
      "execution_count": null,
      "outputs": []
    },
    {
      "cell_type": "code",
      "source": [
        "ret, thresh1 = cv2.threshold(gray, 0, 255, cv2.THRESH_OTSU | cv2.THRESH_BINARY_INV)"
      ],
      "metadata": {
        "id": "j8Eq8ENykmW9",
        "pycharm": {
          "name": "#%%\n"
        }
      },
      "execution_count": null,
      "outputs": []
    },
    {
      "cell_type": "code",
      "source": [
        "rect_kernel = cv2.getStructuringElement(cv2.MORPH_RECT, (5, 5))"
      ],
      "metadata": {
        "id": "QLP-4xy5kobR",
        "pycharm": {
          "name": "#%%\n"
        }
      },
      "execution_count": null,
      "outputs": []
    },
    {
      "cell_type": "code",
      "source": [
        "dilation = cv2.dilate(thresh1, rect_kernel, iterations=1)"
      ],
      "metadata": {
        "id": "XCx3Q4sDkq0q",
        "pycharm": {
          "name": "#%%\n"
        }
      },
      "execution_count": null,
      "outputs": []
    },
    {
      "cell_type": "code",
      "source": [
        "contours, hierarchy = cv2.findContours(dilation, cv2.RETR_EXTERNAL, cv2.CHAIN_APPROX_NONE)"
      ],
      "metadata": {
        "id": "n7de20UHksRX",
        "pycharm": {
          "name": "#%%\n"
        }
      },
      "execution_count": null,
      "outputs": []
    },
    {
      "cell_type": "code",
      "source": [
        "print(len(contours))"
      ],
      "metadata": {
        "id": "NA4UqBbxkvM-",
        "pycharm": {
          "name": "#%%\n"
        }
      },
      "execution_count": null,
      "outputs": []
    },
    {
      "cell_type": "code",
      "source": [
        "notes2 = notes.copy()"
      ],
      "metadata": {
        "id": "YA06PSbikwrO",
        "pycharm": {
          "name": "#%%\n"
        }
      },
      "execution_count": null,
      "outputs": []
    },
    {
      "cell_type": "code",
      "source": [
        "new_contours = []"
      ],
      "metadata": {
        "id": "-BTnga1Jk5cD",
        "pycharm": {
          "name": "#%%\n"
        }
      },
      "execution_count": null,
      "outputs": []
    },
    {
      "cell_type": "code",
      "source": [
        "for cnt in contours:\n",
        "    x, y, w, h = cv2.boundingRect(cnt)\n",
        "    aspect_ratio_1 = h / w\n",
        "    aspect_ratio_2 = w / h\n",
        "    if aspect_ratio_1 < 3 and aspect_ratio_2 < 2 and w > 18 and h > 20:\n",
        "        new_contours.append(cnt)"
      ],
      "metadata": {
        "id": "yZ3irS-ik6tY",
        "pycharm": {
          "name": "#%%\n"
        }
      },
      "execution_count": null,
      "outputs": []
    },
    {
      "cell_type": "code",
      "source": [
        "passer = []"
      ],
      "metadata": {
        "id": "6Q6ILBmf37Sy",
        "pycharm": {
          "name": "#%%\n"
        }
      },
      "execution_count": null,
      "outputs": []
    },
    {
      "cell_type": "code",
      "source": [
        "num = len(new_contours) - 1\n",
        "for cnt in new_contours:\n",
        "    x, y, w, h = cv2.boundingRect(cnt)\n",
        "    cropped = thresh1[y:y + h, x:x + w]\n",
        "    cropped = cv2.cvtColor(cropped, cv2.IMREAD_GRAYSCALE)\n",
        "    cropped = cv2.cvtColor(cropped, cv2.COLOR_BGRA2BGR)\n",
        "    cropped = cv2.resize(cropped,(32,32))\n",
        "    _, cropped = cv2.threshold(cropped, 127,255, cv2.THRESH_BINARY)\n",
        "    cropped = cv2.bitwise_not(cropped)\n",
        "\n",
        "    passer.append(cropped)\n",
        "    cv2.rectangle(notes, (x-5, y-5), (x + w+5, y + h+5), (0, 0, 255), 2)\n",
        "    cv2.putText(notes, \"{}\".format(num + 1), (x + 40, y - 10), cv2.FONT_HERSHEY_SIMPLEX, 0.5,(0, 0, 255), 2)\n",
        "    num-=1"
      ],
      "metadata": {
        "id": "HvX6PL_s4AFG",
        "pycharm": {
          "name": "#%%\n"
        }
      },
      "execution_count": null,
      "outputs": []
    },
    {
      "cell_type": "code",
      "source": [
        ""
      ],
      "metadata": {
        "id": "drXYh_6vN9nz"
      },
      "execution_count": null,
      "outputs": []
    },
    {
      "cell_type": "code",
      "source": [
        "passer.reverse()"
      ],
      "metadata": {
        "id": "ZCeKhsUV4Fvy",
        "pycharm": {
          "name": "#%%\n"
        }
      },
      "execution_count": null,
      "outputs": []
    },
    {
      "cell_type": "code",
      "source": [
        "np.array(passer).shape"
      ],
      "metadata": {
        "id": "3elsqFIYBSDx"
      },
      "execution_count": null,
      "outputs": []
    },
    {
      "cell_type": "markdown",
      "source": [
        "j = 1 \n",
        "path= '/tmp/'\n",
        "for i in passer:\n",
        "  cv2.imwrite(str(path)+str(j)+'.jpeg', i)\n",
        "  j+=1\n"
      ],
      "metadata": {
        "id": "8zL_Jqzq8O49",
        "pycharm": {
          "name": "#%% md\n"
        }
      }
    },
    {
      "cell_type": "code",
      "source": [
        "cv2.imwrite('bounded.jpeg', notes)"
      ],
      "metadata": {
        "id": "0aFghisqlC4r",
        "pycharm": {
          "name": "#%%\n"
        }
      },
      "execution_count": null,
      "outputs": []
    },
    {
      "cell_type": "code",
      "source": [
        "plt.imshow(notes)\n",
        "plt.show()"
      ],
      "metadata": {
        "id": "C2AaNPgSk_9r",
        "pycharm": {
          "name": "#%%\n"
        }
      },
      "execution_count": null,
      "outputs": []
    },
    {
      "cell_type": "code",
      "source": [
        "plt.imshow(passer[0])"
      ],
      "metadata": {
        "id": "jp44E00xMcGt"
      },
      "execution_count": null,
      "outputs": []
    },
    {
      "cell_type": "code",
      "source": [
        "plt.imshow(passer[1])"
      ],
      "metadata": {
        "id": "2r95_anaMqaQ"
      },
      "execution_count": null,
      "outputs": []
    },
    {
      "cell_type": "code",
      "source": [
        "plt.imshow(passer[2])"
      ],
      "metadata": {
        "id": "JxD6rtEdMsOD"
      },
      "execution_count": null,
      "outputs": []
    },
    {
      "cell_type": "code",
      "source": [
        "plt.imshow(passer[3])"
      ],
      "metadata": {
        "id": "Ew75wTpCMu1U"
      },
      "execution_count": null,
      "outputs": []
    },
    {
      "cell_type": "code",
      "source": [
        "plt.imshow(passer[4])"
      ],
      "metadata": {
        "id": "gQZWYtKhMwqO"
      },
      "execution_count": null,
      "outputs": []
    },
    {
      "cell_type": "code",
      "source": [
        "passer = np.array(passer)\n",
        "\n",
        "passer = passer / 255"
      ],
      "metadata": {
        "id": "eBIKXQhDhKDZ"
      },
      "execution_count": null,
      "outputs": []
    },
    {
      "cell_type": "code",
      "source": [
        "result = model.predict(passer)"
      ],
      "metadata": {
        "id": "RObkWBC2_vZc"
      },
      "execution_count": null,
      "outputs": []
    },
    {
      "cell_type": "code",
      "source": [
        "label_result = [np.argmax(i) for i in result]\n",
        "label_result"
      ],
      "metadata": {
        "id": "ZzlOdToWGVI6"
      },
      "execution_count": null,
      "outputs": []
    },
    {
      "cell_type": "code",
      "source": [
        ""
      ],
      "metadata": {
        "id": "WFuVkk7Ng1L4"
      },
      "execution_count": null,
      "outputs": []
    },
    {
      "cell_type": "code",
      "source": [
        "notes_array = [hindi_name_dict[i] for i in label_result]\n",
        "notes_array"
      ],
      "metadata": {
        "id": "ISdDcZeKGgI0"
      },
      "execution_count": null,
      "outputs": []
    },
    {
      "cell_type": "code",
      "source": [
        "music_translate = {\n",
        "    'sa': 'C3',\n",
        "    're': 'D3',\n",
        "    'ga': 'E3',\n",
        "    'ma': 'F3',\n",
        "    'pa': 'G3',\n",
        "    'dha': 'A3',\n",
        "    'ni': 'B3',\n",
        "}"
      ],
      "metadata": {
        "id": "2fWQovwIQtsA"
      },
      "execution_count": null,
      "outputs": []
    },
    {
      "cell_type": "code",
      "source": [
        "western_notes = [music_translate[i] for i in notes_array]\n",
        "western_notes"
      ],
      "metadata": {
        "id": "D45oqQuIRSdA"
      },
      "execution_count": null,
      "outputs": []
    },
    {
      "cell_type": "code",
      "source": [
        "pitchnames = sorted(set(western_notes))\n",
        "\n",
        "pitchnames"
      ],
      "metadata": {
        "id": "DRhc4ttrSLBK"
      },
      "execution_count": null,
      "outputs": []
    },
    {
      "cell_type": "code",
      "source": [
        "from music21 import converter, instrument, note, chord, stream"
      ],
      "metadata": {
        "id": "ITgyT9ExR7c5"
      },
      "execution_count": null,
      "outputs": []
    },
    {
      "cell_type": "code",
      "source": [
        "offset = 0\n",
        "output_notes = []\n",
        "\n",
        "for value in western_notes:\n",
        "    if('.' in value) or value.isdigit():\n",
        "        chord_notes = value.split('.')\n",
        "        notes = []\n",
        "        for current_note in chord_notes:\n",
        "            new_note = note.Note(int(current_note))\n",
        "            new_note.storedInstrument = instrument.Piano()\n",
        "            notes.append(new_note)\n",
        "        new_chord = chord.Chord(notes)\n",
        "        new_chord.offset = offset\n",
        "        output_notes.append(new_chord)\n",
        "    else:\n",
        "        new_note = note.Note(value)\n",
        "        new_note.offset = offset\n",
        "        new_note.storedInstrument = instrument.Piano()\n",
        "        output_notes.append(new_note)\n",
        "    offset += 0.5"
      ],
      "metadata": {
        "id": "xjgg5CMSRloX"
      },
      "execution_count": null,
      "outputs": []
    },
    {
      "cell_type": "code",
      "source": [
        "output_notes"
      ],
      "metadata": {
        "id": "DA_KXxcuYl_A"
      },
      "execution_count": null,
      "outputs": []
    },
    {
      "cell_type": "code",
      "source": [
        "output_notes[0]"
      ],
      "metadata": {
        "id": "xXek28NOaOoU"
      },
      "execution_count": null,
      "outputs": []
    },
    {
      "cell_type": "code",
      "source": [
        "midi_stream = stream.Stream(output_notes)\n",
        "midi_stream.write('midi', fp='test_output.mid')"
      ],
      "metadata": {
        "id": "h-1YjCORSmo0"
      },
      "execution_count": null,
      "outputs": []
    },
    {
      "cell_type": "code",
      "source": [
        "IPython.display.Audio('test_output.wav')"
      ],
      "metadata": {
        "id": "RtzyU49AS4op"
      },
      "execution_count": null,
      "outputs": []
    }
  ]
}