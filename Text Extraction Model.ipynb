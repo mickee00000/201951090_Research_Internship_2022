{
  "cells": [
    {
      "cell_type": "code",
      "execution_count": 62,
      "metadata": {
        "collapsed": true,
        "pycharm": {
          "name": "#%%\n"
        },
        "id": "79tObIOc4Ofz"
      },
      "outputs": [],
      "source": [
        "import numpy as np\n",
        "import pandas as pd\n",
        "import matplotlib.pyplot as plt"
      ]
    },
    {
      "cell_type": "code",
      "execution_count": 63,
      "outputs": [],
      "source": [
        "import tensorflow as tf\n",
        "from tensorflow import keras"
      ],
      "metadata": {
        "pycharm": {
          "name": "#%%\n"
        },
        "id": "cFfX74OU4Of2"
      }
    },
    {
      "cell_type": "code",
      "execution_count": 64,
      "outputs": [],
      "source": [
        "import PIL\n",
        "import os\n",
        "import cv2\n",
        "import pathlib"
      ],
      "metadata": {
        "pycharm": {
          "name": "#%%\n"
        },
        "id": "H245jQC44Of3"
      }
    },
    {
      "cell_type": "code",
      "execution_count": 65,
      "outputs": [
        {
          "output_type": "execute_result",
          "data": {
            "text/plain": [
              "'./datasets/hindi_text'"
            ],
            "application/vnd.google.colaboratory.intrinsic+json": {
              "type": "string"
            }
          },
          "metadata": {},
          "execution_count": 65
        }
      ],
      "source": [
        "hindi_data = tf.keras.utils.get_file('hindi_text', origin = 'https://archive.ics.uci.edu/ml/machine-learning-databases/00389/DevanagariHandwrittenCharacterDataset.zip', cache_dir='.', extract=True, archive_format='zip')\n",
        "hindi_data"
      ],
      "metadata": {
        "pycharm": {
          "name": "#%%\n"
        },
        "id": "RjNgn-BW4Of4",
        "outputId": "16cb498e-ca2c-4021-8b71-ca004529b087",
        "colab": {
          "base_uri": "https://localhost:8080/",
          "height": 36
        }
      }
    },
    {
      "cell_type": "code",
      "execution_count": 66,
      "outputs": [
        {
          "output_type": "execute_result",
          "data": {
            "text/plain": [
              "PosixPath('/content/datasets/DevanagariHandwrittenCharacterDataset/Train')"
            ]
          },
          "metadata": {},
          "execution_count": 66
        }
      ],
      "source": [
        "hindi_data_train = pathlib.Path(r'/content/datasets/DevanagariHandwrittenCharacterDataset/Train')\n",
        "hindi_data_train"
      ],
      "metadata": {
        "pycharm": {
          "name": "#%%\n"
        },
        "id": "tcNVtgZp4Of5",
        "outputId": "69a8a202-cc18-428b-9674-670a5524f2d9",
        "colab": {
          "base_uri": "https://localhost:8080/"
        }
      }
    },
    {
      "cell_type": "code",
      "execution_count": 67,
      "outputs": [
        {
          "output_type": "execute_result",
          "data": {
            "text/plain": [
              "PosixPath('/content/datasets/DevanagariHandwrittenCharacterDataset/Test')"
            ]
          },
          "metadata": {},
          "execution_count": 67
        }
      ],
      "source": [
        "hindi_data_test = pathlib.Path(r'/content/datasets/DevanagariHandwrittenCharacterDataset/Test')\n",
        "hindi_data_test"
      ],
      "metadata": {
        "pycharm": {
          "name": "#%%\n"
        },
        "id": "8WopS7ZM4Of6",
        "outputId": "982b3f27-a59c-4a4e-ee81-4a60af2c5020",
        "colab": {
          "base_uri": "https://localhost:8080/"
        }
      }
    },
    {
      "cell_type": "code",
      "execution_count": 68,
      "outputs": [
        {
          "output_type": "execute_result",
          "data": {
            "text/plain": [
              "78200"
            ]
          },
          "metadata": {},
          "execution_count": 68
        }
      ],
      "source": [
        "image_count = len(list(hindi_data_train.glob('*/*.png')))\n",
        "image_count"
      ],
      "metadata": {
        "pycharm": {
          "name": "#%%\n"
        },
        "id": "63nYX2rO4Of7",
        "outputId": "ac94ce8d-c1b6-4fd8-cca1-de580ee54efa",
        "colab": {
          "base_uri": "https://localhost:8080/"
        }
      }
    },
    {
      "cell_type": "code",
      "execution_count": 69,
      "outputs": [
        {
          "output_type": "execute_result",
          "data": {
            "text/plain": [
              "1700"
            ]
          },
          "metadata": {},
          "execution_count": 69
        }
      ],
      "source": [
        "len(list(hindi_data_train.glob('character_3_ga/*')))"
      ],
      "metadata": {
        "pycharm": {
          "name": "#%%\n"
        },
        "id": "VE9D9fJv4Of8",
        "outputId": "93131f5e-4a86-4562-db0c-264d7a996db2",
        "colab": {
          "base_uri": "https://localhost:8080/"
        }
      }
    },
    {
      "cell_type": "code",
      "execution_count": 70,
      "outputs": [],
      "source": [
        "hindi_letters_dict = {\n",
        "    'sa': list(hindi_data_train.glob('character_32_patalosaw/*')),\n",
        "    're': list(hindi_data_train.glob('character_27_ra/*')),\n",
        "    'ga': list(hindi_data_train.glob('character_3_ga/*')),\n",
        "    'ma': list(hindi_data_train.glob('character_25_ma/*')),\n",
        "    'pa': list(hindi_data_train.glob('character_21_pa/*')),\n",
        "    'dha': list(hindi_data_train.glob('character_19_dha/*')),\n",
        "    'ni': list(hindi_data_train.glob('character_20_na/*')),\n",
        "    'zero': list(hindi_data_train.glob('digit_0/*')),\n",
        "    'one': list(hindi_data_train.glob('digit_1/*')),\n",
        "    'two': list(hindi_data_train.glob('digit_2/*')),\n",
        "    'three': list(hindi_data_train.glob('digit_3/*')),\n",
        "    'four': list(hindi_data_train.glob('digit_4/*')),\n",
        "    'five': list(hindi_data_train.glob('digit_5/*')),\n",
        "    'six': list(hindi_data_train.glob('digit_6/*')),\n",
        "    'seven': list(hindi_data_train.glob('digit_7/*')),\n",
        "    'eight': list(hindi_data_train.glob('digit_8/*')),\n",
        "    'nine': list(hindi_data_train.glob('digit_9/*')),\n",
        "}"
      ],
      "metadata": {
        "pycharm": {
          "name": "#%%\n"
        },
        "id": "5BN-71lJ4Of8"
      }
    },
    {
      "cell_type": "code",
      "execution_count": 71,
      "outputs": [
        {
          "output_type": "execute_result",
          "data": {
            "text/plain": [
              "<PIL.PngImagePlugin.PngImageFile image mode=L size=32x32 at 0x7F831A36B910>"
            ],
            "image/png": "[encoded data removed]"
          },
          "metadata": {},
          "execution_count": 71
        }
      ],
      "source": [
        "PIL.Image.open(hindi_letters_dict['sa'][0])"
      ],
      "metadata": {
        "pycharm": {
          "name": "#%%\n"
        },
        "id": "cU0NiVVe4Of9",
        "outputId": "7a10c70f-13ed-49ba-ac99-15e7b6562a74",
        "colab": {
          "base_uri": "https://localhost:8080/",
          "height": 49
        }
      }
    },
    {
      "cell_type": "code",
      "execution_count": 72,
      "outputs": [
        {
          "output_type": "execute_result",
          "data": {
            "text/plain": [
              "<PIL.PngImagePlugin.PngImageFile image mode=L size=32x32 at 0x7F83977E0D50>"
            ],
            "image/png": "[encoded data removed]"
          },
          "metadata": {},
          "execution_count": 72
        }
      ],
      "source": [
        "PIL.Image.open(hindi_letters_dict['sa'][5])"
      ],
      "metadata": {
        "pycharm": {
          "name": "#%%\n"
        },
        "id": "8sH4_--D4Of9",
        "outputId": "8c2b49eb-41f3-45d8-c5f5-853db2f07be6",
        "colab": {
          "base_uri": "https://localhost:8080/",
          "height": 49
        }
      }
    },
    {
      "cell_type": "code",
      "execution_count": 73,
      "outputs": [],
      "source": [
        "hindi_label_dict = {\n",
        "    'sa': 10,\n",
        "    're': 11,\n",
        "    'ga': 12,\n",
        "    'ma': 13,\n",
        "    'pa': 14,\n",
        "    'dha': 15,\n",
        "    'ni': 16,\n",
        "    'zero': 0,\n",
        "    'one': 1,\n",
        "    'two': 2,\n",
        "    'three': 3,\n",
        "    'four': 4,\n",
        "    'five': 5,\n",
        "    'six': 6,\n",
        "    'seven': 7,\n",
        "    'eight': 8,\n",
        "    'nine': 9,\n",
        "}"
      ],
      "metadata": {
        "pycharm": {
          "name": "#%%\n"
        },
        "id": "CZdQo7mT4Of-"
      }
    },
    {
      "cell_type": "code",
      "source": [
        "hindi_name_dict = {\n",
        "     10: 'sa',\n",
        "     11: 're',\n",
        "     12: 'ga',\n",
        "     13: 'ma',\n",
        "     14: 'pa',\n",
        "     15: 'dha',\n",
        "     16: 'ni',\n",
        "     0: 'zero',\n",
        "     1: 'one',\n",
        "     2: 'two',\n",
        "     3: 'three',\n",
        "     4: 'four',\n",
        "     5: 'five',\n",
        "     6: 'six',\n",
        "     7: 'seven',\n",
        "     8: 'eight',\n",
        "     9: 'nine',\n",
        "}"
      ],
      "metadata": {
        "id": "4D1av98WFt7-"
      },
      "execution_count": 74,
      "outputs": []
    },
    {
      "cell_type": "code",
      "execution_count": 75,
      "outputs": [],
      "source": [
        "img = cv2.imread(str(hindi_letters_dict['re'][0]))\n"
      ],
      "metadata": {
        "pycharm": {
          "name": "#%%\n"
        },
        "id": "WH54lY9s4Of-"
      }
    },
    {
      "cell_type": "code",
      "source": [
        "img"
      ],
      "metadata": {
        "colab": {
          "base_uri": "https://localhost:8080/"
        },
        "id": "nce_kLDv7pUo",
        "outputId": "2abf2498-8d59-4610-b241-a43750bdfbaa"
      },
      "execution_count": 76,
      "outputs": [
        {
          "output_type": "execute_result",
          "data": {
            "text/plain": [
              "array([[[ 0,  0,  0],\n",
              "        [ 0,  0,  0],\n",
              "        [ 0,  0,  0],\n",
              "        ...,\n",
              "        [ 0,  0,  0],\n",
              "        [ 0,  0,  0],\n",
              "        [ 0,  0,  0]],\n",
              "\n",
              "       [[ 0,  0,  0],\n",
              "        [ 0,  0,  0],\n",
              "        [ 0,  0,  0],\n",
              "        ...,\n",
              "        [ 0,  0,  0],\n",
              "        [ 0,  0,  0],\n",
              "        [ 0,  0,  0]],\n",
              "\n",
              "       [[ 0,  0,  0],\n",
              "        [ 0,  0,  0],\n",
              "        [ 0,  0,  0],\n",
              "        ...,\n",
              "        [93, 93, 93],\n",
              "        [ 0,  0,  0],\n",
              "        [ 0,  0,  0]],\n",
              "\n",
              "       ...,\n",
              "\n",
              "       [[ 0,  0,  0],\n",
              "        [ 0,  0,  0],\n",
              "        [ 0,  0,  0],\n",
              "        ...,\n",
              "        [ 0,  0,  0],\n",
              "        [ 0,  0,  0],\n",
              "        [ 0,  0,  0]],\n",
              "\n",
              "       [[ 0,  0,  0],\n",
              "        [ 0,  0,  0],\n",
              "        [ 0,  0,  0],\n",
              "        ...,\n",
              "        [ 0,  0,  0],\n",
              "        [ 0,  0,  0],\n",
              "        [ 0,  0,  0]],\n",
              "\n",
              "       [[ 0,  0,  0],\n",
              "        [ 0,  0,  0],\n",
              "        [ 0,  0,  0],\n",
              "        ...,\n",
              "        [ 0,  0,  0],\n",
              "        [ 0,  0,  0],\n",
              "        [ 0,  0,  0]]], dtype=uint8)"
            ]
          },
          "metadata": {},
          "execution_count": 76
        }
      ]
    },
    {
      "cell_type": "code",
      "execution_count": 77,
      "outputs": [],
      "source": [
        "X_train = []\n",
        "y_train = []"
      ],
      "metadata": {
        "pycharm": {
          "name": "#%%\n"
        },
        "id": "GOq_wMva4Of_"
      }
    },
    {
      "cell_type": "code",
      "execution_count": 78,
      "outputs": [],
      "source": [
        "for key, value_list in hindi_letters_dict.items():\n",
        "    for value in value_list:\n",
        "        img = cv2.imread(str(value))\n",
        "        img = cv2.resize(img,(32,32))\n",
        "        _, img = cv2.threshold(img, 127,255, cv2.THRESH_BINARY_INV)\n",
        "        X_train.append(img)\n",
        "        y_train.append(hindi_label_dict[key])"
      ],
      "metadata": {
        "pycharm": {
          "name": "#%%\n"
        },
        "id": "rA223YmS4Of_"
      }
    },
    {
      "cell_type": "code",
      "execution_count": 79,
      "outputs": [
        {
          "output_type": "execute_result",
          "data": {
            "text/plain": [
              "28900"
            ]
          },
          "metadata": {},
          "execution_count": 79
        }
      ],
      "source": [
        "len(X_train)"
      ],
      "metadata": {
        "pycharm": {
          "name": "#%%\n"
        },
        "id": "JO3Z8S0R4Of_",
        "outputId": "1bbee477-efba-4475-c189-c29cfdc05c27",
        "colab": {
          "base_uri": "https://localhost:8080/"
        }
      }
    },
    {
      "cell_type": "code",
      "execution_count": 80,
      "outputs": [
        {
          "output_type": "execute_result",
          "data": {
            "text/plain": [
              "28900"
            ]
          },
          "metadata": {},
          "execution_count": 80
        }
      ],
      "source": [
        "len(y_train)"
      ],
      "metadata": {
        "pycharm": {
          "name": "#%%\n"
        },
        "id": "etEpDlZA4OgA",
        "outputId": "513ba627-998e-42f4-8f3a-178bd49f4af5",
        "colab": {
          "base_uri": "https://localhost:8080/"
        }
      }
    },
    {
      "cell_type": "code",
      "execution_count": 81,
      "outputs": [],
      "source": [
        "X_train = np.array(X_train)\n",
        "y_train = np.array(y_train)"
      ],
      "metadata": {
        "pycharm": {
          "name": "#%%\n"
        },
        "id": "NnA7Fche4OgA"
      }
    },
    {
      "cell_type": "code",
      "execution_count": 82,
      "outputs": [
        {
          "output_type": "execute_result",
          "data": {
            "text/plain": [
              "(28900, 32, 32, 3)"
            ]
          },
          "metadata": {},
          "execution_count": 82
        }
      ],
      "source": [
        "X_train.shape"
      ],
      "metadata": {
        "pycharm": {
          "name": "#%%\n"
        },
        "id": "4EEU0Rgs4OgB",
        "outputId": "5de2c6fb-cc1f-4948-db71-ed248df7c1af",
        "colab": {
          "base_uri": "https://localhost:8080/"
        }
      }
    },
    {
      "cell_type": "code",
      "execution_count": 83,
      "outputs": [
        {
          "output_type": "execute_result",
          "data": {
            "text/plain": [
              "<matplotlib.image.AxesImage at 0x7f839885ea10>"
            ]
          },
          "metadata": {},
          "execution_count": 83
        },
        {
          "output_type": "display_data",
          "data": {
            "text/plain": [
              "<Figure size 288x288 with 1 Axes>"
            ],
            "image/png": "[encoded data removed]"
          },
          "metadata": {
            "needs_background": "light"
          }
        }
      ],
      "source": [
        "plt.matshow(X_train[11110])"
      ],
      "metadata": {
        "pycharm": {
          "name": "#%%\n"
        },
        "id": "mwX329fN4OgC",
        "outputId": "06029a90-63cd-4279-8306-a438dd234eb6",
        "colab": {
          "base_uri": "https://localhost:8080/",
          "height": 293
        }
      }
    },
    {
      "cell_type": "code",
      "source": [
        ""
      ],
      "metadata": {
        "id": "xlrsan3bEFde"
      },
      "execution_count": 83,
      "outputs": []
    },
    {
      "cell_type": "code",
      "execution_count": 84,
      "outputs": [],
      "source": [
        "X_train_scaled = X_train / 255"
      ],
      "metadata": {
        "pycharm": {
          "name": "#%%\n"
        },
        "id": "CbQx7ebv4OgD"
      }
    },
    {
      "cell_type": "code",
      "execution_count": 85,
      "outputs": [
        {
          "output_type": "execute_result",
          "data": {
            "text/plain": [
              "'ni'"
            ],
            "application/vnd.google.colaboratory.intrinsic+json": {
              "type": "string"
            }
          },
          "metadata": {},
          "execution_count": 85
        }
      ],
      "source": [
        "hindi_name_dict[y_train[11110]]"
      ],
      "metadata": {
        "pycharm": {
          "name": "#%%\n"
        },
        "id": "64ClKH8l4OgE",
        "outputId": "13cf1edf-df01-404d-a222-418a380d1e54",
        "colab": {
          "base_uri": "https://localhost:8080/",
          "height": 36
        }
      }
    },
    {
      "cell_type": "code",
      "source": [
        "X_train_scaled.shape"
      ],
      "metadata": {
        "id": "d7RBvG9A66jD",
        "outputId": "8e031450-7d03-4c52-9552-b78a62ac6930",
        "colab": {
          "base_uri": "https://localhost:8080/"
        }
      },
      "execution_count": 86,
      "outputs": [
        {
          "output_type": "execute_result",
          "data": {
            "text/plain": [
              "(28900, 32, 32, 3)"
            ]
          },
          "metadata": {},
          "execution_count": 86
        }
      ]
    },
    {
      "cell_type": "code",
      "source": [
        "#X_train_scaled_flat = np.reshape(#X_train_scaled, (28900, 32*32*3))"
      ],
      "metadata": {
        "id": "Qp9ihPabHALR"
      },
      "execution_count": 87,
      "outputs": []
    },
    {
      "cell_type": "code",
      "execution_count": 88,
      "outputs": [
        {
          "output_type": "execute_result",
          "data": {
            "text/plain": [
              "10"
            ]
          },
          "metadata": {},
          "execution_count": 88
        }
      ],
      "source": [
        "y_train[0]"
      ],
      "metadata": {
        "pycharm": {
          "name": "#%%\n"
        },
        "id": "8HBsgO_t4OgE",
        "outputId": "eb1660ff-619f-4b76-df51-d13942380968",
        "colab": {
          "base_uri": "https://localhost:8080/"
        }
      }
    },
    {
      "cell_type": "code",
      "source": [
        "plt.matshow(X_train[0])"
      ],
      "metadata": {
        "colab": {
          "base_uri": "https://localhost:8080/",
          "height": 293
        },
        "id": "RfqbI9AeClU5",
        "outputId": "e7757420-a0d4-4912-8a74-8932a760faa6"
      },
      "execution_count": 89,
      "outputs": [
        {
          "output_type": "execute_result",
          "data": {
            "text/plain": [
              "<matplotlib.image.AxesImage at 0x7f8398d69710>"
            ]
          },
          "metadata": {},
          "execution_count": 89
        },
        {
          "output_type": "display_data",
          "data": {
            "text/plain": [
              "<Figure size 288x288 with 1 Axes>"
            ],
            "image/png": "[encoded data removed]"
          },
          "metadata": {
            "needs_background": "light"
          }
        }
      ]
    },
    {
      "cell_type": "code",
      "execution_count": 90,
      "outputs": [],
      "source": [
        "data_augmentation = keras.Sequential(\n",
        "    [\n",
        "        keras.layers.experimental.preprocessing.RandomFlip(\"horizontal\",input_shape=(32,32,3)),\n",
        "        keras.layers.experimental.preprocessing.RandomRotation(0.2),\n",
        "        keras.layers.experimental.preprocessing.RandomZoom(0.1),\n",
        "      \n",
        "    ]\n",
        ")"
      ],
      "metadata": {
        "pycharm": {
          "name": "#%%\n"
        },
        "id": "qpvDnOBg4OgF"
      }
    },
    {
      "cell_type": "code",
      "execution_count": 91,
      "outputs": [],
      "source": [
        "model = keras.Sequential([\n",
        "    data_augmentation,\n",
        "    \n",
        "\n",
        "    keras.layers.Conv2D(filters = 32,kernel_size = (3,3),strides = 1,activation = \"relu\",input_shape = (32,32,3)),\n",
        "    keras.layers.BatchNormalization(),\n",
        "    keras.layers.MaxPooling2D(pool_size=(2, 2),strides=(2, 2), padding=\"same\"),\n",
        "\n",
        "    keras.layers.Conv2D(filters = 32,kernel_size = (3,3),strides = 1,activation = \"relu\",),\n",
        "    keras.layers.BatchNormalization(),\n",
        "    keras.layers.MaxPooling2D(pool_size=(2, 2),strides=(2, 2), padding=\"same\"),\n",
        "\n",
        "    keras.layers.Conv2D(filters = 64,kernel_size = (3,3),strides = 1,activation = \"relu\",),\n",
        "    keras.layers.BatchNormalization(),\n",
        "    keras.layers.MaxPooling2D(pool_size=(2, 2),strides=(2, 2), padding=\"same\"),\n",
        "\n",
        "    keras.layers.Conv2D(filters = 64,kernel_size = (3,3),strides = 1,activation = \"relu\",),\n",
        "    keras.layers.BatchNormalization(),\n",
        "    keras.layers.MaxPooling2D(pool_size=(2, 2),strides=(2, 2), padding=\"same\"),\n",
        "    keras.layers.Flatten(),\n",
        "\n",
        "\n",
        "    keras.layers.Dense(128, activation = \"relu\", kernel_initializer = \"uniform\"),\n",
        "    keras.layers.BatchNormalization(),\n",
        "\n",
        "    keras.layers.Dense(64, activation = \"relu\", kernel_initializer = \"uniform\"),\n",
        "    keras.layers.BatchNormalization(),\n",
        "\n",
        "    keras.layers.Dense(17,activation = \"softmax\"),\n",
        "\n",
        "])"
      ],
      "metadata": {
        "pycharm": {
          "name": "#%%\n"
        },
        "id": "yMWPKsmo4OgF"
      }
    },
    {
      "cell_type": "code",
      "execution_count": 92,
      "outputs": [],
      "source": [
        "model.compile(\n",
        "    optimizer = \"adam\",\n",
        "    loss = \"sparse_categorical_crossentropy\",\n",
        "    metrics = [\"accuracy\"]\n",
        ")"
      ],
      "metadata": {
        "pycharm": {
          "name": "#%%\n"
        },
        "id": "OE4Q3GhF4OgG"
      }
    },
    {
      "cell_type": "code",
      "source": [
        "print(model.summary())"
      ],
      "metadata": {
        "colab": {
          "base_uri": "https://localhost:8080/"
        },
        "id": "V6ssvYCa_zUz",
        "outputId": "a3888c6f-f997-4805-a4f9-a6e7987b60a4"
      },
      "execution_count": 93,
      "outputs": [
        {
          "output_type": "stream",
          "name": "stdout",
          "text": [
            "Model: \"sequential_13\"\n",
            "_________________________________________________________________\n",
            " Layer (type)                Output Shape              Param #   \n",
            "=================================================================\n",
            " sequential_12 (Sequential)  (None, 32, 32, 3)         0         \n",
            "                                                                 \n",
            " conv2d_40 (Conv2D)          (None, 30, 30, 32)        896       \n",
            "                                                                 \n",
            " batch_normalization_60 (Bat  (None, 30, 30, 32)       128       \n",
            " chNormalization)                                                \n",
            "                                                                 \n",
            " max_pooling2d_40 (MaxPoolin  (None, 15, 15, 32)       0         \n",
            " g2D)                                                            \n",
            "                                                                 \n",
            " conv2d_41 (Conv2D)          (None, 13, 13, 32)        9248      \n",
            "                                                                 \n",
            " batch_normalization_61 (Bat  (None, 13, 13, 32)       128       \n",
            " chNormalization)                                                \n",
            "                                                                 \n",
            " max_pooling2d_41 (MaxPoolin  (None, 7, 7, 32)         0         \n",
            " g2D)                                                            \n",
            "                                                                 \n",
            " conv2d_42 (Conv2D)          (None, 5, 5, 64)          18496     \n",
            "                                                                 \n",
            " batch_normalization_62 (Bat  (None, 5, 5, 64)         256       \n",
            " chNormalization)                                                \n",
            "                                                                 \n",
            " max_pooling2d_42 (MaxPoolin  (None, 3, 3, 64)         0         \n",
            " g2D)                                                            \n",
            "                                                                 \n",
            " conv2d_43 (Conv2D)          (None, 1, 1, 64)          36928     \n",
            "                                                                 \n",
            " batch_normalization_63 (Bat  (None, 1, 1, 64)         256       \n",
            " chNormalization)                                                \n",
            "                                                                 \n",
            " max_pooling2d_43 (MaxPoolin  (None, 1, 1, 64)         0         \n",
            " g2D)                                                            \n",
            "                                                                 \n",
            " flatten_4 (Flatten)         (None, 64)                0         \n",
            "                                                                 \n",
            " dense_30 (Dense)            (None, 128)               8320      \n",
            "                                                                 \n",
            " batch_normalization_64 (Bat  (None, 128)              512       \n",
            " chNormalization)                                                \n",
            "                                                                 \n",
            " dense_31 (Dense)            (None, 64)                8256      \n",
            "                                                                 \n",
            " batch_normalization_65 (Bat  (None, 64)               256       \n",
            " chNormalization)                                                \n",
            "                                                                 \n",
            " dense_32 (Dense)            (None, 17)                1105      \n",
            "                                                                 \n",
            "=================================================================\n",
            "Total params: 84,785\n",
            "Trainable params: 84,017\n",
            "Non-trainable params: 768\n",
            "_________________________________________________________________\n",
            "None\n"
          ]
        }
      ]
    },
    {
      "cell_type": "code",
      "execution_count": null,
      "outputs": [
        {
          "output_type": "stream",
          "name": "stdout",
          "text": [
            "Epoch 1/10\n",
            "904/904 [==============================] - 6s 7ms/step - loss: 0.5695 - accuracy: 0.8141\n",
            "Epoch 2/10\n",
            "904/904 [==============================] - 6s 7ms/step - loss: 0.4205 - accuracy: 0.8617\n",
            "Epoch 3/10\n",
            "904/904 [==============================] - 6s 7ms/step - loss: 0.3597 - accuracy: 0.8837\n",
            "Epoch 4/10\n",
            "904/904 [==============================] - 6s 7ms/step - loss: 0.3125 - accuracy: 0.8991\n",
            "Epoch 5/10\n",
            "904/904 [==============================] - 6s 7ms/step - loss: 0.2758 - accuracy: 0.9089\n",
            "Epoch 6/10\n",
            "904/904 [==============================] - 6s 7ms/step - loss: 0.2717 - accuracy: 0.9118\n",
            "Epoch 7/10\n",
            "904/904 [==============================] - 6s 7ms/step - loss: 0.2499 - accuracy: 0.9182\n",
            "Epoch 8/10\n",
            "904/904 [==============================] - 6s 7ms/step - loss: 0.2263 - accuracy: 0.9282\n",
            "Epoch 9/10\n",
            "547/904 [=================>............] - ETA: 2s - loss: 0.2118 - accuracy: 0.9313"
          ]
        }
      ],
      "source": [
        "model.fit(X_train_scaled, y_train, epochs = 10)"
      ],
      "metadata": {
        "pycharm": {
          "name": "#%%\n"
        },
        "id": "xrXvtMok4OgH",
        "colab": {
          "base_uri": "https://localhost:8080/"
        },
        "outputId": "12fdc095-6728-44ab-a7dc-578ec9d80036"
      }
    },
    {
      "cell_type": "code",
      "source": [
        "model.predict(X_train[0])"
      ],
      "metadata": {
        "colab": {
          "base_uri": "https://localhost:8080/",
          "height": 592
        },
        "id": "icRFLOTwDdDi",
        "outputId": "20c6ce89-0279-440a-bdb4-23cff9fb3d03"
      },
      "execution_count": 95,
      "outputs": [
        {
          "output_type": "error",
          "ename": "ValueError",
          "evalue": "ignored",
          "traceback": [
            "\u001b[0;31m---------------------------------------------------------------------------\u001b[0m",
            "\u001b[0;31mValueError\u001b[0m                                Traceback (most recent call last)",
            "\u001b[0;32m<ipython-input-95-6fed98f14d48>\u001b[0m in \u001b[0;36m<module>\u001b[0;34m()\u001b[0m\n\u001b[0;32m----> 1\u001b[0;31m \u001b[0mmodel\u001b[0m\u001b[0;34m.\u001b[0m\u001b[0mpredict\u001b[0m\u001b[0;34m(\u001b[0m\u001b[0mX_train\u001b[0m\u001b[0;34m[\u001b[0m\u001b[0;36m0\u001b[0m\u001b[0;34m]\u001b[0m\u001b[0;34m)\u001b[0m\u001b[0;34m\u001b[0m\u001b[0;34m\u001b[0m\u001b[0m\n\u001b[0m",
            "\u001b[0;32m/usr/local/lib/python3.7/dist-packages/keras/utils/traceback_utils.py\u001b[0m in \u001b[0;36merror_handler\u001b[0;34m(*args, **kwargs)\u001b[0m\n\u001b[1;32m     65\u001b[0m     \u001b[0;32mexcept\u001b[0m \u001b[0mException\u001b[0m \u001b[0;32mas\u001b[0m \u001b[0me\u001b[0m\u001b[0;34m:\u001b[0m  \u001b[0;31m# pylint: disable=broad-except\u001b[0m\u001b[0;34m\u001b[0m\u001b[0;34m\u001b[0m\u001b[0m\n\u001b[1;32m     66\u001b[0m       \u001b[0mfiltered_tb\u001b[0m \u001b[0;34m=\u001b[0m \u001b[0m_process_traceback_frames\u001b[0m\u001b[0;34m(\u001b[0m\u001b[0me\u001b[0m\u001b[0;34m.\u001b[0m\u001b[0m__traceback__\u001b[0m\u001b[0;34m)\u001b[0m\u001b[0;34m\u001b[0m\u001b[0;34m\u001b[0m\u001b[0m\n\u001b[0;32m---> 67\u001b[0;31m       \u001b[0;32mraise\u001b[0m \u001b[0me\u001b[0m\u001b[0;34m.\u001b[0m\u001b[0mwith_traceback\u001b[0m\u001b[0;34m(\u001b[0m\u001b[0mfiltered_tb\u001b[0m\u001b[0;34m)\u001b[0m \u001b[0;32mfrom\u001b[0m \u001b[0;32mNone\u001b[0m\u001b[0;34m\u001b[0m\u001b[0;34m\u001b[0m\u001b[0m\n\u001b[0m\u001b[1;32m     68\u001b[0m     \u001b[0;32mfinally\u001b[0m\u001b[0;34m:\u001b[0m\u001b[0;34m\u001b[0m\u001b[0;34m\u001b[0m\u001b[0m\n\u001b[1;32m     69\u001b[0m       \u001b[0;32mdel\u001b[0m \u001b[0mfiltered_tb\u001b[0m\u001b[0;34m\u001b[0m\u001b[0;34m\u001b[0m\u001b[0m\n",
            "\u001b[0;32m/usr/local/lib/python3.7/dist-packages/tensorflow/python/framework/func_graph.py\u001b[0m in \u001b[0;36mautograph_handler\u001b[0;34m(*args, **kwargs)\u001b[0m\n\u001b[1;32m   1145\u001b[0m           \u001b[0;32mexcept\u001b[0m \u001b[0mException\u001b[0m \u001b[0;32mas\u001b[0m \u001b[0me\u001b[0m\u001b[0;34m:\u001b[0m  \u001b[0;31m# pylint:disable=broad-except\u001b[0m\u001b[0;34m\u001b[0m\u001b[0;34m\u001b[0m\u001b[0m\n\u001b[1;32m   1146\u001b[0m             \u001b[0;32mif\u001b[0m \u001b[0mhasattr\u001b[0m\u001b[0;34m(\u001b[0m\u001b[0me\u001b[0m\u001b[0;34m,\u001b[0m \u001b[0;34m\"ag_error_metadata\"\u001b[0m\u001b[0;34m)\u001b[0m\u001b[0;34m:\u001b[0m\u001b[0;34m\u001b[0m\u001b[0;34m\u001b[0m\u001b[0m\n\u001b[0;32m-> 1147\u001b[0;31m               \u001b[0;32mraise\u001b[0m \u001b[0me\u001b[0m\u001b[0;34m.\u001b[0m\u001b[0mag_error_metadata\u001b[0m\u001b[0;34m.\u001b[0m\u001b[0mto_exception\u001b[0m\u001b[0;34m(\u001b[0m\u001b[0me\u001b[0m\u001b[0;34m)\u001b[0m\u001b[0;34m\u001b[0m\u001b[0;34m\u001b[0m\u001b[0m\n\u001b[0m\u001b[1;32m   1148\u001b[0m             \u001b[0;32melse\u001b[0m\u001b[0;34m:\u001b[0m\u001b[0;34m\u001b[0m\u001b[0;34m\u001b[0m\u001b[0m\n\u001b[1;32m   1149\u001b[0m               \u001b[0;32mraise\u001b[0m\u001b[0;34m\u001b[0m\u001b[0;34m\u001b[0m\u001b[0m\n",
            "\u001b[0;31mValueError\u001b[0m: in user code:\n\n    File \"/usr/local/lib/python3.7/dist-packages/keras/engine/training.py\", line 1801, in predict_function  *\n        return step_function(self, iterator)\n    File \"/usr/local/lib/python3.7/dist-packages/keras/engine/training.py\", line 1790, in step_function  **\n        outputs = model.distribute_strategy.run(run_step, args=(data,))\n    File \"/usr/local/lib/python3.7/dist-packages/keras/engine/training.py\", line 1783, in run_step  **\n        outputs = model.predict_step(data)\n    File \"/usr/local/lib/python3.7/dist-packages/keras/engine/training.py\", line 1751, in predict_step\n        return self(x, training=False)\n    File \"/usr/local/lib/python3.7/dist-packages/keras/utils/traceback_utils.py\", line 67, in error_handler\n        raise e.with_traceback(filtered_tb) from None\n    File \"/usr/local/lib/python3.7/dist-packages/keras/engine/input_spec.py\", line 264, in assert_input_compatibility\n        raise ValueError(f'Input {input_index} of layer \"{layer_name}\" is '\n\n    ValueError: Input 0 of layer \"sequential_13\" is incompatible with the layer: expected shape=(None, 32, 32, 3), found shape=(32, 32, 3)\n"
          ]
        }
      ]
    },
    {
      "cell_type": "code",
      "source": [
        ""
      ],
      "metadata": {
        "id": "HaEnKaSBDkTo"
      },
      "execution_count": null,
      "outputs": []
    }
  ],
  "metadata": {
    "kernelspec": {
      "display_name": "Python 3",
      "language": "python",
      "name": "python3"
    },
    "language_info": {
      "codemirror_mode": {
        "name": "ipython",
        "version": 2
      },
      "file_extension": ".py",
      "mimetype": "text/x-python",
      "name": "python",
      "nbconvert_exporter": "python",
      "pygments_lexer": "ipython2",
      "version": "2.7.6"
    },
    "colab": {
      "name": "Copy of Text Extraction Model.ipynb",
      "provenance": [],
      "collapsed_sections": []
    },
    "accelerator": "GPU",
    "gpuClass": "standard"
  },
  "nbformat": 4,
  "nbformat_minor": 0
}