{
  "cells": [
    {
      "cell_type": "markdown",
      "metadata": {
        "id": "view-in-github",
        "colab_type": "text"
      },
      "source": [
        "<a href=\"https://colab.research.google.com/github/mickee00000/Research_Internship/blob/main/Text%20Extraction%20Model.ipynb\" target=\"_parent\"><img src=\"https://colab.research.google.com/assets/colab-badge.svg\" alt=\"Open In Colab\"/></a>"
      ]
    },
    {
      "cell_type": "code",
      "execution_count": 1,
      "metadata": {
        "collapsed": true,
        "pycharm": {
          "name": "#%%\n"
        },
        "id": "79tObIOc4Ofz"
      },
      "outputs": [],
      "source": [
        "import numpy as np\n",
        "import pandas as pd\n",
        "import matplotlib.pyplot as plt"
      ]
    },
    {
      "cell_type": "code",
      "execution_count": 2,
      "outputs": [],
      "source": [
        "import tensorflow as tf\n",
        "from tensorflow import keras"
      ],
      "metadata": {
        "pycharm": {
          "name": "#%%\n"
        },
        "id": "cFfX74OU4Of2"
      }
    },
    {
      "cell_type": "code",
      "execution_count": 3,
      "outputs": [],
      "source": [
        "import PIL\n",
        "import os\n",
        "import cv2\n",
        "import pathlib"
      ],
      "metadata": {
        "pycharm": {
          "name": "#%%\n"
        },
        "id": "H245jQC44Of3"
      }
    },
    {
      "cell_type": "code",
      "execution_count": 4,
      "outputs": [
        {
          "output_type": "execute_result",
          "data": {
            "text/plain": [
              "'./datasets/hindi_text'"
            ],
            "application/vnd.google.colaboratory.intrinsic+json": {
              "type": "string"
            }
          },
          "metadata": {},
          "execution_count": 4
        }
      ],
      "source": [
        "hindi_data = tf.keras.utils.get_file('hindi_text', origin = 'https://archive.ics.uci.edu/ml/machine-learning-databases/00389/DevanagariHandwrittenCharacterDataset.zip', cache_dir='.', extract=True, archive_format='zip')\n",
        "hindi_data"
      ],
      "metadata": {
        "pycharm": {
          "name": "#%%\n"
        },
        "id": "RjNgn-BW4Of4",
        "outputId": "e6b14253-6a31-46aa-b42d-445c00961db6",
        "colab": {
          "base_uri": "https://localhost:8080/",
          "height": 35
        }
      }
    },
    {
      "cell_type": "code",
      "execution_count": 5,
      "outputs": [
        {
          "output_type": "execute_result",
          "data": {
            "text/plain": [
              "PosixPath('/content/datasets/DevanagariHandwrittenCharacterDataset/Train')"
            ]
          },
          "metadata": {},
          "execution_count": 5
        }
      ],
      "source": [
        "hindi_data_train = pathlib.Path(r'/content/datasets/DevanagariHandwrittenCharacterDataset/Train')\n",
        "hindi_data_train"
      ],
      "metadata": {
        "pycharm": {
          "name": "#%%\n"
        },
        "id": "tcNVtgZp4Of5",
        "outputId": "ce694845-370f-4471-fbb4-ebfda7431b20",
        "colab": {
          "base_uri": "https://localhost:8080/"
        }
      }
    },
    {
      "cell_type": "code",
      "execution_count": 6,
      "outputs": [
        {
          "output_type": "execute_result",
          "data": {
            "text/plain": [
              "PosixPath('/content/datasets/DevanagariHandwrittenCharacterDataset/Test')"
            ]
          },
          "metadata": {},
          "execution_count": 6
        }
      ],
      "source": [
        "hindi_data_test = pathlib.Path(r'/content/datasets/DevanagariHandwrittenCharacterDataset/Test')\n",
        "hindi_data_test"
      ],
      "metadata": {
        "pycharm": {
          "name": "#%%\n"
        },
        "id": "8WopS7ZM4Of6",
        "outputId": "50fefba7-49fb-4077-96c2-6d481c91e162",
        "colab": {
          "base_uri": "https://localhost:8080/"
        }
      }
    },
    {
      "cell_type": "code",
      "execution_count": 7,
      "outputs": [
        {
          "output_type": "execute_result",
          "data": {
            "text/plain": [
              "78200"
            ]
          },
          "metadata": {},
          "execution_count": 7
        }
      ],
      "source": [
        "image_count = len(list(hindi_data_train.glob('*/*.png')))\n",
        "image_count"
      ],
      "metadata": {
        "pycharm": {
          "name": "#%%\n"
        },
        "id": "63nYX2rO4Of7",
        "outputId": "a5f09612-ede9-4963-a7d7-f08c26feba38",
        "colab": {
          "base_uri": "https://localhost:8080/"
        }
      }
    },
    {
      "cell_type": "code",
      "execution_count": 8,
      "outputs": [
        {
          "output_type": "execute_result",
          "data": {
            "text/plain": [
              "1700"
            ]
          },
          "metadata": {},
          "execution_count": 8
        }
      ],
      "source": [
        "len(list(hindi_data_train.glob('character_3_ga/*')))"
      ],
      "metadata": {
        "pycharm": {
          "name": "#%%\n"
        },
        "id": "VE9D9fJv4Of8",
        "outputId": "549e83bb-c8cf-41ff-b4f7-f822273ca03a",
        "colab": {
          "base_uri": "https://localhost:8080/"
        }
      }
    },
    {
      "cell_type": "code",
      "execution_count": 9,
      "outputs": [],
      "source": [
        "hindi_letters_dict_train = {\n",
        "    'sa': list(hindi_data_train.glob('character_32_patalosaw/*')),\n",
        "    're': list(hindi_data_train.glob('character_27_ra/*')),\n",
        "    'ga': list(hindi_data_train.glob('character_3_ga/*')),\n",
        "    'ma': list(hindi_data_train.glob('character_25_ma/*')),\n",
        "    'pa': list(hindi_data_train.glob('character_21_pa/*')),\n",
        "    'dha': list(hindi_data_train.glob('character_19_dha/*')),\n",
        "    'ni': list(hindi_data_train.glob('character_20_na/*')),\n",
        "    'zero': list(hindi_data_train.glob('digit_0/*')),\n",
        "    'one': list(hindi_data_train.glob('digit_1/*')),\n",
        "    'two': list(hindi_data_train.glob('digit_2/*')),\n",
        "    'three': list(hindi_data_train.glob('digit_3/*')),\n",
        "    'four': list(hindi_data_train.glob('digit_4/*')),\n",
        "    'five': list(hindi_data_train.glob('digit_5/*')),\n",
        "    'six': list(hindi_data_train.glob('digit_6/*')),\n",
        "    'seven': list(hindi_data_train.glob('digit_7/*')),\n",
        "    'eight': list(hindi_data_train.glob('digit_8/*')),\n",
        "    'nine': list(hindi_data_train.glob('digit_9/*')),\n",
        "}"
      ],
      "metadata": {
        "pycharm": {
          "name": "#%%\n"
        },
        "id": "5BN-71lJ4Of8"
      }
    },
    {
      "cell_type": "code",
      "source": [
        "hindi_letters_dict_test = {\n",
        "    'sa': list(hindi_data_test.glob('character_32_patalosaw/*')),\n",
        "    're': list(hindi_data_test.glob('character_27_ra/*')),\n",
        "    'ga': list(hindi_data_test.glob('character_3_ga/*')),\n",
        "    'ma': list(hindi_data_test.glob('character_25_ma/*')),\n",
        "    'pa': list(hindi_data_test.glob('character_21_pa/*')),\n",
        "    'dha': list(hindi_data_test.glob('character_19_dha/*')),\n",
        "    'ni': list(hindi_data_test.glob('character_20_na/*')),\n",
        "    'zero': list(hindi_data_test.glob('digit_0/*')),\n",
        "    'one': list(hindi_data_test.glob('digit_1/*')),\n",
        "    'two': list(hindi_data_test.glob('digit_2/*')),\n",
        "    'three': list(hindi_data_test.glob('digit_3/*')),\n",
        "    'four': list(hindi_data_test.glob('digit_4/*')),\n",
        "    'five': list(hindi_data_test.glob('digit_5/*')),\n",
        "    'six': list(hindi_data_test.glob('digit_6/*')),\n",
        "    'seven': list(hindi_data_test.glob('digit_7/*')),\n",
        "    'eight': list(hindi_data_test.glob('digit_8/*')),\n",
        "    'nine': list(hindi_data_test.glob('digit_9/*')),\n",
        "}"
      ],
      "metadata": {
        "id": "x86uMAwrNKai"
      },
      "execution_count": 10,
      "outputs": []
    },
    {
      "cell_type": "code",
      "execution_count": 11,
      "outputs": [
        {
          "output_type": "execute_result",
          "data": {
            "text/plain": [
              "<PIL.PngImagePlugin.PngImageFile image mode=L size=32x32 at 0x7F9C18519E10>"
            ],
            "image/png": "[encoded data removed]"
          },
          "metadata": {},
          "execution_count": 11
        }
      ],
      "source": [
        "PIL.Image.open(hindi_letters_dict_train['sa'][0])"
      ],
      "metadata": {
        "pycharm": {
          "name": "#%%\n"
        },
        "id": "cU0NiVVe4Of9",
        "outputId": "d01b1539-fcbb-499e-92e9-e64c5d3c4194",
        "colab": {
          "base_uri": "https://localhost:8080/",
          "height": 49
        }
      }
    },
    {
      "cell_type": "code",
      "execution_count": 12,
      "outputs": [
        {
          "output_type": "execute_result",
          "data": {
            "text/plain": [
              "<PIL.PngImagePlugin.PngImageFile image mode=L size=32x32 at 0x7F9C182F5A10>"
            ],
            "image/png": "[encoded data removed]"
          },
          "metadata": {},
          "execution_count": 12
        }
      ],
      "source": [
        "PIL.Image.open(hindi_letters_dict_train['sa'][5])"
      ],
      "metadata": {
        "pycharm": {
          "name": "#%%\n"
        },
        "id": "8sH4_--D4Of9",
        "outputId": "98851a15-b81d-41ca-b1ba-2c5244badaba",
        "colab": {
          "base_uri": "https://localhost:8080/",
          "height": 49
        }
      }
    },
    {
      "cell_type": "code",
      "execution_count": 13,
      "outputs": [],
      "source": [
        "hindi_label_dict = {\n",
        "    'sa': 10,\n",
        "    're': 11,\n",
        "    'ga': 12,\n",
        "    'ma': 13,\n",
        "    'pa': 14,\n",
        "    'dha': 15,\n",
        "    'ni': 16,\n",
        "    'zero': 0,\n",
        "    'one': 1,\n",
        "    'two': 2,\n",
        "    'three': 3,\n",
        "    'four': 4,\n",
        "    'five': 5,\n",
        "    'six': 6,\n",
        "    'seven': 7,\n",
        "    'eight': 8,\n",
        "    'nine': 9,\n",
        "}"
      ],
      "metadata": {
        "pycharm": {
          "name": "#%%\n"
        },
        "id": "CZdQo7mT4Of-"
      }
    },
    {
      "cell_type": "code",
      "source": [
        "hindi_name_dict = {\n",
        "     10: 'sa',\n",
        "     11: 're',\n",
        "     12: 'ga',\n",
        "     13: 'ma',\n",
        "     14: 'pa',\n",
        "     15: 'dha',\n",
        "     16: 'ni',\n",
        "     0: 'zero',\n",
        "     1: 'one',\n",
        "     2: 'two',\n",
        "     3: 'three',\n",
        "     4: 'four',\n",
        "     5: 'five',\n",
        "     6: 'six',\n",
        "     7: 'seven',\n",
        "     8: 'eight',\n",
        "     9: 'nine',\n",
        "}"
      ],
      "metadata": {
        "id": "4D1av98WFt7-"
      },
      "execution_count": 14,
      "outputs": []
    },
    {
      "cell_type": "code",
      "execution_count": 15,
      "outputs": [],
      "source": [
        "img = cv2.imread(str(hindi_letters_dict_train['re'][0]))\n"
      ],
      "metadata": {
        "pycharm": {
          "name": "#%%\n"
        },
        "id": "WH54lY9s4Of-"
      }
    },
    {
      "cell_type": "code",
      "source": [
        "img"
      ],
      "metadata": {
        "colab": {
          "base_uri": "https://localhost:8080/"
        },
        "id": "nce_kLDv7pUo",
        "outputId": "b433b8ad-76c7-4ad3-f2c8-a05976831a7d"
      },
      "execution_count": 16,
      "outputs": [
        {
          "output_type": "execute_result",
          "data": {
            "text/plain": [
              "array([[[ 0,  0,  0],\n",
              "        [ 0,  0,  0],\n",
              "        [ 0,  0,  0],\n",
              "        ...,\n",
              "        [ 0,  0,  0],\n",
              "        [ 0,  0,  0],\n",
              "        [ 0,  0,  0]],\n",
              "\n",
              "       [[ 0,  0,  0],\n",
              "        [ 0,  0,  0],\n",
              "        [ 0,  0,  0],\n",
              "        ...,\n",
              "        [ 0,  0,  0],\n",
              "        [ 0,  0,  0],\n",
              "        [ 0,  0,  0]],\n",
              "\n",
              "       [[ 0,  0,  0],\n",
              "        [ 0,  0,  0],\n",
              "        [ 0,  0,  0],\n",
              "        ...,\n",
              "        [93, 93, 93],\n",
              "        [ 0,  0,  0],\n",
              "        [ 0,  0,  0]],\n",
              "\n",
              "       ...,\n",
              "\n",
              "       [[ 0,  0,  0],\n",
              "        [ 0,  0,  0],\n",
              "        [ 0,  0,  0],\n",
              "        ...,\n",
              "        [ 0,  0,  0],\n",
              "        [ 0,  0,  0],\n",
              "        [ 0,  0,  0]],\n",
              "\n",
              "       [[ 0,  0,  0],\n",
              "        [ 0,  0,  0],\n",
              "        [ 0,  0,  0],\n",
              "        ...,\n",
              "        [ 0,  0,  0],\n",
              "        [ 0,  0,  0],\n",
              "        [ 0,  0,  0]],\n",
              "\n",
              "       [[ 0,  0,  0],\n",
              "        [ 0,  0,  0],\n",
              "        [ 0,  0,  0],\n",
              "        ...,\n",
              "        [ 0,  0,  0],\n",
              "        [ 0,  0,  0],\n",
              "        [ 0,  0,  0]]], dtype=uint8)"
            ]
          },
          "metadata": {},
          "execution_count": 16
        }
      ]
    },
    {
      "cell_type": "code",
      "execution_count": 17,
      "outputs": [],
      "source": [
        "X_train = []\n",
        "y_train = []"
      ],
      "metadata": {
        "pycharm": {
          "name": "#%%\n"
        },
        "id": "GOq_wMva4Of_"
      }
    },
    {
      "cell_type": "code",
      "execution_count": 18,
      "outputs": [],
      "source": [
        "for key, value_list in hindi_letters_dict_train.items():\n",
        "    for value in value_list:\n",
        "        img = cv2.imread(str(value))\n",
        "        img = cv2.resize(img,(32,32))\n",
        "        _, img = cv2.threshold(img, 127,255, cv2.THRESH_BINARY_INV)\n",
        "        X_train.append(img)\n",
        "        y_train.append(hindi_label_dict[key])"
      ],
      "metadata": {
        "pycharm": {
          "name": "#%%\n"
        },
        "id": "rA223YmS4Of_"
      }
    },
    {
      "cell_type": "code",
      "source": [
        "X_test = []\n",
        "y_test = []"
      ],
      "metadata": {
        "id": "vQuMWsh2M_SN"
      },
      "execution_count": 19,
      "outputs": []
    },
    {
      "cell_type": "code",
      "source": [
        "for key, value_list in hindi_letters_dict_test.items():\n",
        "    for value in value_list:\n",
        "        img = cv2.imread(str(value))\n",
        "        img = cv2.resize(img,(32,32))\n",
        "        _, img = cv2.threshold(img, 127,255, cv2.THRESH_BINARY_INV)\n",
        "        X_test.append(img)\n",
        "        y_test.append(hindi_label_dict[key])"
      ],
      "metadata": {
        "id": "QdIqWC0-NCun"
      },
      "execution_count": 20,
      "outputs": []
    },
    {
      "cell_type": "code",
      "execution_count": 21,
      "outputs": [
        {
          "output_type": "execute_result",
          "data": {
            "text/plain": [
              "28900"
            ]
          },
          "metadata": {},
          "execution_count": 21
        }
      ],
      "source": [
        "len(X_train)"
      ],
      "metadata": {
        "pycharm": {
          "name": "#%%\n"
        },
        "id": "JO3Z8S0R4Of_",
        "outputId": "895c24b4-f1b2-490a-f3f8-63ebe64f6283",
        "colab": {
          "base_uri": "https://localhost:8080/"
        }
      }
    },
    {
      "cell_type": "code",
      "execution_count": 22,
      "outputs": [
        {
          "output_type": "execute_result",
          "data": {
            "text/plain": [
              "28900"
            ]
          },
          "metadata": {},
          "execution_count": 22
        }
      ],
      "source": [
        "len(y_train)"
      ],
      "metadata": {
        "pycharm": {
          "name": "#%%\n"
        },
        "id": "etEpDlZA4OgA",
        "outputId": "5a02f85f-da9a-458b-e06e-7e8e76e251ab",
        "colab": {
          "base_uri": "https://localhost:8080/"
        }
      }
    },
    {
      "cell_type": "code",
      "execution_count": 23,
      "outputs": [],
      "source": [
        "X_train = np.array(X_train)\n",
        "y_train = np.array(y_train)"
      ],
      "metadata": {
        "pycharm": {
          "name": "#%%\n"
        },
        "id": "NnA7Fche4OgA"
      }
    },
    {
      "cell_type": "code",
      "source": [
        "X_test = np.array(X_test)\n",
        "y_test = np.array(y_test)"
      ],
      "metadata": {
        "id": "2Qf-11HmNd4f"
      },
      "execution_count": 24,
      "outputs": []
    },
    {
      "cell_type": "code",
      "execution_count": 25,
      "outputs": [
        {
          "output_type": "execute_result",
          "data": {
            "text/plain": [
              "(28900, 32, 32, 3)"
            ]
          },
          "metadata": {},
          "execution_count": 25
        }
      ],
      "source": [
        "X_train.shape"
      ],
      "metadata": {
        "pycharm": {
          "name": "#%%\n"
        },
        "id": "4EEU0Rgs4OgB",
        "outputId": "a6ec9260-a44e-425d-9f1f-583999669891",
        "colab": {
          "base_uri": "https://localhost:8080/"
        }
      }
    },
    {
      "cell_type": "code",
      "source": [
        "X_test.shape"
      ],
      "metadata": {
        "id": "9Mha4kDYNik7",
        "outputId": "ccae6698-d8c3-4f80-bdf1-12bb7523ecae",
        "colab": {
          "base_uri": "https://localhost:8080/"
        }
      },
      "execution_count": 26,
      "outputs": [
        {
          "output_type": "execute_result",
          "data": {
            "text/plain": [
              "(5100, 32, 32, 3)"
            ]
          },
          "metadata": {},
          "execution_count": 26
        }
      ]
    },
    {
      "cell_type": "code",
      "execution_count": 27,
      "outputs": [
        {
          "output_type": "execute_result",
          "data": {
            "text/plain": [
              "<matplotlib.image.AxesImage at 0x7f9c17b43e90>"
            ]
          },
          "metadata": {},
          "execution_count": 27
        },
        {
          "output_type": "display_data",
          "data": {
            "text/plain": [
              "<Figure size 288x288 with 1 Axes>"
            ],
            "image/png": "[encoded data removed]"
          },
          "metadata": {
            "needs_background": "light"
          }
        }
      ],
      "source": [
        "plt.matshow(X_train[11110])"
      ],
      "metadata": {
        "pycharm": {
          "name": "#%%\n"
        },
        "id": "mwX329fN4OgC",
        "outputId": "b51e3d2c-0f31-42fa-9306-4fa20f15e6a0",
        "colab": {
          "base_uri": "https://localhost:8080/",
          "height": 292
        }
      }
    },
    {
      "cell_type": "code",
      "source": [
        ""
      ],
      "metadata": {
        "id": "xlrsan3bEFde"
      },
      "execution_count": 27,
      "outputs": []
    },
    {
      "cell_type": "code",
      "execution_count": 28,
      "outputs": [],
      "source": [
        "X_train_scaled = X_train / 255\n",
        "X_test_scaled = X_test / 255"
      ],
      "metadata": {
        "pycharm": {
          "name": "#%%\n"
        },
        "id": "CbQx7ebv4OgD"
      }
    },
    {
      "cell_type": "code",
      "execution_count": 29,
      "outputs": [
        {
          "output_type": "execute_result",
          "data": {
            "text/plain": [
              "'ni'"
            ],
            "application/vnd.google.colaboratory.intrinsic+json": {
              "type": "string"
            }
          },
          "metadata": {},
          "execution_count": 29
        }
      ],
      "source": [
        "hindi_name_dict[y_train[11110]]"
      ],
      "metadata": {
        "pycharm": {
          "name": "#%%\n"
        },
        "id": "64ClKH8l4OgE",
        "outputId": "a3432d04-2f90-4854-8a5f-4951a5d54519",
        "colab": {
          "base_uri": "https://localhost:8080/",
          "height": 35
        }
      }
    },
    {
      "cell_type": "code",
      "source": [
        "X_train_scaled.shape"
      ],
      "metadata": {
        "id": "d7RBvG9A66jD",
        "outputId": "44ee7523-20df-44cf-fbad-dce8cf00f52a",
        "colab": {
          "base_uri": "https://localhost:8080/"
        }
      },
      "execution_count": 30,
      "outputs": [
        {
          "output_type": "execute_result",
          "data": {
            "text/plain": [
              "(28900, 32, 32, 3)"
            ]
          },
          "metadata": {},
          "execution_count": 30
        }
      ]
    },
    {
      "cell_type": "code",
      "source": [
        "#X_train_scaled_flat = np.reshape(#X_train_scaled, (28900, 32*32*3))"
      ],
      "metadata": {
        "id": "Qp9ihPabHALR"
      },
      "execution_count": 31,
      "outputs": []
    },
    {
      "cell_type": "code",
      "execution_count": 32,
      "outputs": [
        {
          "output_type": "execute_result",
          "data": {
            "text/plain": [
              "10"
            ]
          },
          "metadata": {},
          "execution_count": 32
        }
      ],
      "source": [
        "y_train[0]"
      ],
      "metadata": {
        "pycharm": {
          "name": "#%%\n"
        },
        "id": "8HBsgO_t4OgE",
        "outputId": "b236d377-c9a3-4bf4-ae55-49cbad610901",
        "colab": {
          "base_uri": "https://localhost:8080/"
        }
      }
    },
    {
      "cell_type": "code",
      "source": [
        "plt.matshow(X_train[0])"
      ],
      "metadata": {
        "colab": {
          "base_uri": "https://localhost:8080/",
          "height": 292
        },
        "id": "RfqbI9AeClU5",
        "outputId": "6a1fc214-7877-4220-8fa7-5ddaf6b1c979"
      },
      "execution_count": 33,
      "outputs": [
        {
          "output_type": "execute_result",
          "data": {
            "text/plain": [
              "<matplotlib.image.AxesImage at 0x7f9c17c26e90>"
            ]
          },
          "metadata": {},
          "execution_count": 33
        },
        {
          "output_type": "display_data",
          "data": {
            "text/plain": [
              "<Figure size 288x288 with 1 Axes>"
            ],
            "image/png": "[encoded data removed]"
          },
          "metadata": {
            "needs_background": "light"
          }
        }
      ]
    },
    {
      "cell_type": "code",
      "execution_count": 34,
      "outputs": [],
      "source": [
        "data_augmentation = keras.Sequential(\n",
        "    [\n",
        "        keras.layers.experimental.preprocessing.RandomFlip(\"horizontal\",input_shape=(32,32,3)),\n",
        "        keras.layers.experimental.preprocessing.RandomRotation(0.2),\n",
        "        keras.layers.experimental.preprocessing.RandomZoom(0.1),\n",
        "      \n",
        "    ]\n",
        ")"
      ],
      "metadata": {
        "pycharm": {
          "name": "#%%\n"
        },
        "id": "qpvDnOBg4OgF"
      }
    },
    {
      "cell_type": "code",
      "execution_count": 35,
      "outputs": [],
      "source": [
        "model = keras.Sequential([\n",
        "    data_augmentation,\n",
        "    \n",
        "\n",
        "    keras.layers.Conv2D(filters = 32,kernel_size = (3,3),strides = 1,activation = \"relu\"),\n",
        "    keras.layers.BatchNormalization(),\n",
        "    keras.layers.MaxPooling2D(pool_size=(2, 2),strides=(2, 2), padding=\"same\"),\n",
        "\n",
        "    keras.layers.Conv2D(filters = 32,kernel_size = (3,3),strides = 1,activation = \"relu\",),\n",
        "    keras.layers.BatchNormalization(),\n",
        "    keras.layers.MaxPooling2D(pool_size=(2, 2),strides=(2, 2), padding=\"same\"),\n",
        "\n",
        "    keras.layers.Conv2D(filters = 64,kernel_size = (3,3),strides = 1,activation = \"relu\",),\n",
        "    keras.layers.BatchNormalization(),\n",
        "    keras.layers.MaxPooling2D(pool_size=(2, 2),strides=(2, 2), padding=\"same\"),\n",
        "\n",
        "    keras.layers.Conv2D(filters = 64,kernel_size = (3,3),strides = 1,activation = \"relu\",),\n",
        "    keras.layers.BatchNormalization(),\n",
        "    keras.layers.MaxPooling2D(pool_size=(2, 2),strides=(2, 2), padding=\"same\"),\n",
        "    keras.layers.Flatten(),\n",
        "\n",
        "\n",
        "    keras.layers.Dense(128, activation = \"relu\", kernel_initializer = \"uniform\"),\n",
        "    keras.layers.BatchNormalization(),\n",
        "\n",
        "    keras.layers.Dense(64, activation = \"relu\", kernel_initializer = \"uniform\"),\n",
        "    keras.layers.BatchNormalization(),\n",
        "\n",
        "    keras.layers.Dense(17,activation = \"softmax\"),\n",
        "\n",
        "])"
      ],
      "metadata": {
        "pycharm": {
          "name": "#%%\n"
        },
        "id": "yMWPKsmo4OgF"
      }
    },
    {
      "cell_type": "code",
      "execution_count": 36,
      "outputs": [],
      "source": [
        "model.compile(\n",
        "    optimizer = \"adam\",\n",
        "    loss = \"sparse_categorical_crossentropy\",\n",
        "    metrics = [\"accuracy\"]\n",
        ")"
      ],
      "metadata": {
        "pycharm": {
          "name": "#%%\n"
        },
        "id": "OE4Q3GhF4OgG"
      }
    },
    {
      "cell_type": "code",
      "source": [
        "print(model.summary())"
      ],
      "metadata": {
        "colab": {
          "base_uri": "https://localhost:8080/"
        },
        "id": "V6ssvYCa_zUz",
        "outputId": "b72d9669-3179-45e8-f44b-39742923c534"
      },
      "execution_count": 37,
      "outputs": [
        {
          "output_type": "stream",
          "name": "stdout",
          "text": [
            "Model: \"sequential_1\"\n",
            "_________________________________________________________________\n",
            " Layer (type)                Output Shape              Param #   \n",
            "=================================================================\n",
            " sequential (Sequential)     (None, 32, 32, 3)         0         \n",
            "                                                                 \n",
            " conv2d (Conv2D)             (None, 30, 30, 32)        896       \n",
            "                                                                 \n",
            " batch_normalization (BatchN  (None, 30, 30, 32)       128       \n",
            " ormalization)                                                   \n",
            "                                                                 \n",
            " max_pooling2d (MaxPooling2D  (None, 15, 15, 32)       0         \n",
            " )                                                               \n",
            "                                                                 \n",
            " conv2d_1 (Conv2D)           (None, 13, 13, 32)        9248      \n",
            "                                                                 \n",
            " batch_normalization_1 (Batc  (None, 13, 13, 32)       128       \n",
            " hNormalization)                                                 \n",
            "                                                                 \n",
            " max_pooling2d_1 (MaxPooling  (None, 7, 7, 32)         0         \n",
            " 2D)                                                             \n",
            "                                                                 \n",
            " conv2d_2 (Conv2D)           (None, 5, 5, 64)          18496     \n",
            "                                                                 \n",
            " batch_normalization_2 (Batc  (None, 5, 5, 64)         256       \n",
            " hNormalization)                                                 \n",
            "                                                                 \n",
            " max_pooling2d_2 (MaxPooling  (None, 3, 3, 64)         0         \n",
            " 2D)                                                             \n",
            "                                                                 \n",
            " conv2d_3 (Conv2D)           (None, 1, 1, 64)          36928     \n",
            "                                                                 \n",
            " batch_normalization_3 (Batc  (None, 1, 1, 64)         256       \n",
            " hNormalization)                                                 \n",
            "                                                                 \n",
            " max_pooling2d_3 (MaxPooling  (None, 1, 1, 64)         0         \n",
            " 2D)                                                             \n",
            "                                                                 \n",
            " flatten (Flatten)           (None, 64)                0         \n",
            "                                                                 \n",
            " dense (Dense)               (None, 128)               8320      \n",
            "                                                                 \n",
            " batch_normalization_4 (Batc  (None, 128)              512       \n",
            " hNormalization)                                                 \n",
            "                                                                 \n",
            " dense_1 (Dense)             (None, 64)                8256      \n",
            "                                                                 \n",
            " batch_normalization_5 (Batc  (None, 64)               256       \n",
            " hNormalization)                                                 \n",
            "                                                                 \n",
            " dense_2 (Dense)             (None, 17)                1105      \n",
            "                                                                 \n",
            "=================================================================\n",
            "Total params: 84,785\n",
            "Trainable params: 84,017\n",
            "Non-trainable params: 768\n",
            "_________________________________________________________________\n",
            "None\n"
          ]
        }
      ]
    },
    {
      "cell_type": "code",
      "execution_count": 38,
      "outputs": [
        {
          "output_type": "stream",
          "name": "stdout",
          "text": [
            "Epoch 1/50\n",
            "904/904 [==============================] - 10s 7ms/step - loss: 1.2603 - accuracy: 0.6016\n",
            "Epoch 2/50\n",
            "904/904 [==============================] - 6s 7ms/step - loss: 0.6051 - accuracy: 0.8012\n",
            "Epoch 3/50\n",
            "904/904 [==============================] - 7s 8ms/step - loss: 0.4496 - accuracy: 0.8520\n",
            "Epoch 4/50\n",
            "904/904 [==============================] - 6s 7ms/step - loss: 0.3748 - accuracy: 0.8793\n",
            "Epoch 5/50\n",
            "904/904 [==============================] - 6s 7ms/step - loss: 0.3200 - accuracy: 0.8966\n",
            "Epoch 6/50\n",
            "904/904 [==============================] - 6s 7ms/step - loss: 0.2885 - accuracy: 0.9043\n",
            "Epoch 7/50\n",
            "904/904 [==============================] - 6s 7ms/step - loss: 0.2542 - accuracy: 0.9169\n",
            "Epoch 8/50\n",
            "904/904 [==============================] - 6s 7ms/step - loss: 0.2577 - accuracy: 0.9167\n",
            "Epoch 9/50\n",
            "904/904 [==============================] - 6s 7ms/step - loss: 0.2296 - accuracy: 0.9247\n",
            "Epoch 10/50\n",
            "904/904 [==============================] - 6s 7ms/step - loss: 0.2170 - accuracy: 0.9293\n",
            "Epoch 11/50\n",
            "904/904 [==============================] - 6s 7ms/step - loss: 0.2056 - accuracy: 0.9325\n",
            "Epoch 12/50\n",
            "904/904 [==============================] - 6s 7ms/step - loss: 0.1966 - accuracy: 0.9354\n",
            "Epoch 13/50\n",
            "904/904 [==============================] - 6s 7ms/step - loss: 0.1946 - accuracy: 0.9367\n",
            "Epoch 14/50\n",
            "904/904 [==============================] - 7s 7ms/step - loss: 0.1797 - accuracy: 0.9425\n",
            "Epoch 15/50\n",
            "904/904 [==============================] - 6s 7ms/step - loss: 0.1729 - accuracy: 0.9448\n",
            "Epoch 16/50\n",
            "904/904 [==============================] - 6s 7ms/step - loss: 0.1652 - accuracy: 0.9465\n",
            "Epoch 17/50\n",
            "904/904 [==============================] - 6s 7ms/step - loss: 0.1686 - accuracy: 0.9460\n",
            "Epoch 18/50\n",
            "904/904 [==============================] - 6s 7ms/step - loss: 0.1653 - accuracy: 0.9453\n",
            "Epoch 19/50\n",
            "904/904 [==============================] - 8s 8ms/step - loss: 0.1548 - accuracy: 0.9498\n",
            "Epoch 20/50\n",
            "904/904 [==============================] - 7s 8ms/step - loss: 0.1532 - accuracy: 0.9508\n",
            "Epoch 21/50\n",
            "904/904 [==============================] - 6s 7ms/step - loss: 0.1457 - accuracy: 0.9533\n",
            "Epoch 22/50\n",
            "904/904 [==============================] - 6s 7ms/step - loss: 0.1474 - accuracy: 0.9526\n",
            "Epoch 23/50\n",
            "904/904 [==============================] - 6s 7ms/step - loss: 0.1355 - accuracy: 0.9558\n",
            "Epoch 24/50\n",
            "904/904 [==============================] - 6s 7ms/step - loss: 0.1304 - accuracy: 0.9582\n",
            "Epoch 25/50\n",
            "904/904 [==============================] - 6s 7ms/step - loss: 0.1363 - accuracy: 0.9554\n",
            "Epoch 26/50\n",
            "904/904 [==============================] - 6s 7ms/step - loss: 0.1359 - accuracy: 0.9565\n",
            "Epoch 27/50\n",
            "904/904 [==============================] - 6s 7ms/step - loss: 0.1354 - accuracy: 0.9564\n",
            "Epoch 28/50\n",
            "904/904 [==============================] - 6s 7ms/step - loss: 0.1184 - accuracy: 0.9614\n",
            "Epoch 29/50\n",
            "904/904 [==============================] - 6s 7ms/step - loss: 0.1236 - accuracy: 0.9595\n",
            "Epoch 30/50\n",
            "904/904 [==============================] - 6s 7ms/step - loss: 0.1153 - accuracy: 0.9629\n",
            "Epoch 31/50\n",
            "904/904 [==============================] - 6s 7ms/step - loss: 0.1216 - accuracy: 0.9613\n",
            "Epoch 32/50\n",
            "904/904 [==============================] - 6s 7ms/step - loss: 0.1195 - accuracy: 0.9615\n",
            "Epoch 33/50\n",
            "904/904 [==============================] - 7s 7ms/step - loss: 0.1144 - accuracy: 0.9635\n",
            "Epoch 34/50\n",
            "904/904 [==============================] - 6s 7ms/step - loss: 0.1353 - accuracy: 0.9556\n",
            "Epoch 35/50\n",
            "904/904 [==============================] - 6s 7ms/step - loss: 0.1073 - accuracy: 0.9650\n",
            "Epoch 36/50\n",
            "904/904 [==============================] - 6s 7ms/step - loss: 0.1097 - accuracy: 0.9646\n",
            "Epoch 37/50\n",
            "904/904 [==============================] - 6s 7ms/step - loss: 0.1240 - accuracy: 0.9587\n",
            "Epoch 38/50\n",
            "904/904 [==============================] - 6s 7ms/step - loss: 0.1056 - accuracy: 0.9656\n",
            "Epoch 39/50\n",
            "904/904 [==============================] - 6s 7ms/step - loss: 0.1003 - accuracy: 0.9675\n",
            "Epoch 40/50\n",
            "904/904 [==============================] - 6s 7ms/step - loss: 0.1084 - accuracy: 0.9649\n",
            "Epoch 41/50\n",
            "904/904 [==============================] - 6s 7ms/step - loss: 0.1011 - accuracy: 0.9660\n",
            "Epoch 42/50\n",
            "904/904 [==============================] - 6s 7ms/step - loss: 0.1023 - accuracy: 0.9665\n",
            "Epoch 43/50\n",
            "904/904 [==============================] - 6s 7ms/step - loss: 0.1128 - accuracy: 0.9637\n",
            "Epoch 44/50\n",
            "904/904 [==============================] - 6s 7ms/step - loss: 0.1043 - accuracy: 0.9663\n",
            "Epoch 45/50\n",
            "904/904 [==============================] - 6s 7ms/step - loss: 0.1015 - accuracy: 0.9662\n",
            "Epoch 46/50\n",
            "904/904 [==============================] - 6s 7ms/step - loss: 0.1021 - accuracy: 0.9669\n",
            "Epoch 47/50\n",
            "904/904 [==============================] - 6s 7ms/step - loss: 0.0961 - accuracy: 0.9678\n",
            "Epoch 48/50\n",
            "904/904 [==============================] - 6s 7ms/step - loss: 0.1006 - accuracy: 0.9685\n",
            "Epoch 49/50\n",
            "904/904 [==============================] - 6s 7ms/step - loss: 0.1048 - accuracy: 0.9662\n",
            "Epoch 50/50\n",
            "904/904 [==============================] - 7s 8ms/step - loss: 0.0897 - accuracy: 0.9707\n"
          ]
        },
        {
          "output_type": "execute_result",
          "data": {
            "text/plain": [
              "<keras.callbacks.History at 0x7f9c1769fdd0>"
            ]
          },
          "metadata": {},
          "execution_count": 38
        }
      ],
      "source": [
        "model.fit(X_train_scaled, y_train, epochs = 50)"
      ],
      "metadata": {
        "pycharm": {
          "name": "#%%\n"
        },
        "id": "xrXvtMok4OgH",
        "colab": {
          "base_uri": "https://localhost:8080/"
        },
        "outputId": "27249946-0dcc-4c9b-c247-886a20dcd6aa"
      }
    },
    {
      "cell_type": "code",
      "source": [
        "model.evaluate(X_test_scaled, y_test)"
      ],
      "metadata": {
        "colab": {
          "base_uri": "https://localhost:8080/"
        },
        "id": "icRFLOTwDdDi",
        "outputId": "a626d6af-0c5a-4f31-e239-7a37176f7c3f"
      },
      "execution_count": 40,
      "outputs": [
        {
          "output_type": "stream",
          "name": "stdout",
          "text": [
            "160/160 [==============================] - 1s 4ms/step - loss: 0.0602 - accuracy: 0.9812\n"
          ]
        },
        {
          "output_type": "execute_result",
          "data": {
            "text/plain": [
              "[0.06019900366663933, 0.981176495552063]"
            ]
          },
          "metadata": {},
          "execution_count": 40
        }
      ]
    }
  ],
  "metadata": {
    "kernelspec": {
      "display_name": "Python 3",
      "language": "python",
      "name": "python3"
    },
    "language_info": {
      "codemirror_mode": {
        "name": "ipython",
        "version": 2
      },
      "file_extension": ".py",
      "mimetype": "text/x-python",
      "name": "python",
      "nbconvert_exporter": "python",
      "pygments_lexer": "ipython2",
      "version": "2.7.6"
    },
    "colab": {
      "name": "Copy of Text Extraction Model.ipynb",
      "provenance": [],
      "collapsed_sections": [],
      "include_colab_link": true
    },
    "accelerator": "GPU",
    "gpuClass": "standard"
  },
  "nbformat": 4,
  "nbformat_minor": 0
}