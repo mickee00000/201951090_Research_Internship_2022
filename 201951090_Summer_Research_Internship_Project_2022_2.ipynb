{
 "cells": [
  {
   "cell_type": "code",
   "execution_count": 1,
   "id": "acb91a97",
   "metadata": {
    "execution": {
     "iopub.execute_input": "2022-07-06T07:27:17.668405Z",
     "iopub.status.busy": "2022-07-06T07:27:17.667224Z",
     "iopub.status.idle": "2022-07-06T07:27:17.681272Z",
     "shell.execute_reply": "2022-07-06T07:27:17.680414Z"
    },
    "id": "OUamYaZuB5hW",
    "papermill": {
     "duration": 0.040851,
     "end_time": "2022-07-06T07:27:17.683400",
     "exception": false,
     "start_time": "2022-07-06T07:27:17.642549",
     "status": "completed"
    },
    "pycharm": {
     "name": "#%%\n"
    },
    "tags": []
   },
   "outputs": [],
   "source": [
    "import pandas as pd\n",
    "import numpy as np\n",
    "import matplotlib.pyplot as plt\n",
    "%matplotlib inline"
   ]
  },
  {
   "cell_type": "code",
   "execution_count": 2,
   "id": "7728090c",
   "metadata": {
    "execution": {
     "iopub.execute_input": "2022-07-06T07:27:17.724234Z",
     "iopub.status.busy": "2022-07-06T07:27:17.723945Z",
     "iopub.status.idle": "2022-07-06T07:27:23.079593Z",
     "shell.execute_reply": "2022-07-06T07:27:23.078525Z"
    },
    "id": "G8Er57iG8rXy",
    "papermill": {
     "duration": 5.379157,
     "end_time": "2022-07-06T07:27:23.082359",
     "exception": false,
     "start_time": "2022-07-06T07:27:17.703202",
     "status": "completed"
    },
    "pycharm": {
     "name": "#%%\n"
    },
    "tags": []
   },
   "outputs": [],
   "source": [
    "import tensorflow as tf\n",
    "from tensorflow import keras\n",
    "import PIL\n",
    "import cv2"
   ]
  },
  {
   "cell_type": "code",
   "execution_count": 3,
   "id": "5562959f",
   "metadata": {
    "execution": {
     "iopub.execute_input": "2022-07-06T07:27:23.126957Z",
     "iopub.status.busy": "2022-07-06T07:27:23.126200Z",
     "iopub.status.idle": "2022-07-06T07:27:23.130415Z",
     "shell.execute_reply": "2022-07-06T07:27:23.129453Z"
    },
    "id": "XLlmBoyOCl0Q",
    "papermill": {
     "duration": 0.02714,
     "end_time": "2022-07-06T07:27:23.132229",
     "exception": false,
     "start_time": "2022-07-06T07:27:23.105089",
     "status": "completed"
    },
    "pycharm": {
     "name": "#%%\n"
    },
    "tags": []
   },
   "outputs": [],
   "source": [
    "import pathlib\n",
    "import os\n",
    "import sys"
   ]
  },
  {
   "cell_type": "code",
   "execution_count": 4,
   "id": "cdbba025",
   "metadata": {
    "execution": {
     "iopub.execute_input": "2022-07-06T07:27:23.173548Z",
     "iopub.status.busy": "2022-07-06T07:27:23.172566Z",
     "iopub.status.idle": "2022-07-06T07:27:23.177163Z",
     "shell.execute_reply": "2022-07-06T07:27:23.176328Z"
    },
    "id": "gJTVxkjnDM05",
    "papermill": {
     "duration": 0.026951,
     "end_time": "2022-07-06T07:27:23.179056",
     "exception": false,
     "start_time": "2022-07-06T07:27:23.152105",
     "status": "completed"
    },
    "pycharm": {
     "name": "#%%\n"
    },
    "tags": []
   },
   "outputs": [],
   "source": [
    "import requests\n",
    "import IPython"
   ]
  },
  {
   "cell_type": "code",
   "execution_count": 5,
   "id": "9ca06834",
   "metadata": {
    "execution": {
     "iopub.execute_input": "2022-07-06T07:27:23.219927Z",
     "iopub.status.busy": "2022-07-06T07:27:23.219302Z",
     "iopub.status.idle": "2022-07-06T07:27:23.379041Z",
     "shell.execute_reply": "2022-07-06T07:27:23.378096Z"
    },
    "id": "cTihHfvKDNyd",
    "papermill": {
     "duration": 0.183149,
     "end_time": "2022-07-06T07:27:23.381543",
     "exception": false,
     "start_time": "2022-07-06T07:27:23.198394",
     "status": "completed"
    },
    "pycharm": {
     "name": "#%%\n"
    },
    "tags": []
   },
   "outputs": [
    {
     "data": {
      "text/plain": [
       "94205"
      ]
     },
     "execution_count": 5,
     "metadata": {},
     "output_type": "execute_result"
    }
   ],
   "source": [
    "url = 'https://raw.githubusercontent.com/mickee00000/Research_Internship/main/part1.jpeg'\n",
    "r = requests.get(url, allow_redirects=True)\n",
    "open('part1.jpeg', 'wb').write(r.content)"
   ]
  },
  {
   "cell_type": "code",
   "execution_count": 6,
   "id": "8ec40e21",
   "metadata": {
    "execution": {
     "iopub.execute_input": "2022-07-06T07:27:23.423506Z",
     "iopub.status.busy": "2022-07-06T07:27:23.422480Z",
     "iopub.status.idle": "2022-07-06T07:27:37.408517Z",
     "shell.execute_reply": "2022-07-06T07:27:37.406721Z"
    },
    "id": "LNjxt3Sc82Zc",
    "papermill": {
     "duration": 14.012836,
     "end_time": "2022-07-06T07:27:37.414048",
     "exception": false,
     "start_time": "2022-07-06T07:27:23.401212",
     "status": "completed"
    },
    "pycharm": {
     "name": "#%%\n"
    },
    "tags": []
   },
   "outputs": [
    {
     "name": "stdout",
     "output_type": "stream",
     "text": [
      "Downloading data from https://archive.ics.uci.edu/ml/machine-learning-databases/00389/DevanagariHandwrittenCharacterDataset.zip\n",
      "80420864/80417803 [==============================] - 2s 0us/step\n",
      "80429056/80417803 [==============================] - 2s 0us/step\n"
     ]
    },
    {
     "data": {
      "text/plain": [
       "'./datasets/hindi_text'"
      ]
     },
     "execution_count": 6,
     "metadata": {},
     "output_type": "execute_result"
    }
   ],
   "source": [
    "hindi_data = tf.keras.utils.get_file('hindi_text', origin = 'https://archive.ics.uci.edu/ml/machine-learning-databases/00389/DevanagariHandwrittenCharacterDataset.zip', cache_dir='.', extract=True, archive_format='zip')\n",
    "hindi_data"
   ]
  },
  {
   "cell_type": "code",
   "execution_count": 7,
   "id": "146d5fde",
   "metadata": {
    "execution": {
     "iopub.execute_input": "2022-07-06T07:27:37.496583Z",
     "iopub.status.busy": "2022-07-06T07:27:37.495451Z",
     "iopub.status.idle": "2022-07-06T07:27:37.504797Z",
     "shell.execute_reply": "2022-07-06T07:27:37.503910Z"
    },
    "id": "4zb7GNeB84Bw",
    "papermill": {
     "duration": 0.051946,
     "end_time": "2022-07-06T07:27:37.507391",
     "exception": false,
     "start_time": "2022-07-06T07:27:37.455445",
     "status": "completed"
    },
    "pycharm": {
     "name": "#%%\n"
    },
    "tags": []
   },
   "outputs": [
    {
     "data": {
      "text/plain": [
       "PosixPath('datasets/DevanagariHandwrittenCharacterDataset/Train')"
      ]
     },
     "execution_count": 7,
     "metadata": {},
     "output_type": "execute_result"
    }
   ],
   "source": [
    "hindi_data_train = pathlib.Path(r'datasets/DevanagariHandwrittenCharacterDataset/Train')\n",
    "hindi_data_train"
   ]
  },
  {
   "cell_type": "code",
   "execution_count": 8,
   "id": "c7a81ccc",
   "metadata": {
    "execution": {
     "iopub.execute_input": "2022-07-06T07:27:37.586398Z",
     "iopub.status.busy": "2022-07-06T07:27:37.585286Z",
     "iopub.status.idle": "2022-07-06T07:27:37.594780Z",
     "shell.execute_reply": "2022-07-06T07:27:37.593689Z"
    },
    "id": "cE2nfeR686dQ",
    "papermill": {
     "duration": 0.052567,
     "end_time": "2022-07-06T07:27:37.597463",
     "exception": false,
     "start_time": "2022-07-06T07:27:37.544896",
     "status": "completed"
    },
    "pycharm": {
     "name": "#%%\n"
    },
    "tags": []
   },
   "outputs": [
    {
     "data": {
      "text/plain": [
       "PosixPath('datasets/DevanagariHandwrittenCharacterDataset/Test')"
      ]
     },
     "execution_count": 8,
     "metadata": {},
     "output_type": "execute_result"
    }
   ],
   "source": [
    "hindi_data_test = pathlib.Path(r'datasets/DevanagariHandwrittenCharacterDataset/Test')\n",
    "hindi_data_test"
   ]
  },
  {
   "cell_type": "code",
   "execution_count": 9,
   "id": "491ee2a9",
   "metadata": {
    "execution": {
     "iopub.execute_input": "2022-07-06T07:27:37.678644Z",
     "iopub.status.busy": "2022-07-06T07:27:37.678243Z",
     "iopub.status.idle": "2022-07-06T07:27:38.319272Z",
     "shell.execute_reply": "2022-07-06T07:27:38.318348Z"
    },
    "id": "OeqbWp8X884J",
    "papermill": {
     "duration": 0.686582,
     "end_time": "2022-07-06T07:27:38.321241",
     "exception": false,
     "start_time": "2022-07-06T07:27:37.634659",
     "status": "completed"
    },
    "pycharm": {
     "name": "#%%\n"
    },
    "tags": []
   },
   "outputs": [
    {
     "data": {
      "text/plain": [
       "78200"
      ]
     },
     "execution_count": 9,
     "metadata": {},
     "output_type": "execute_result"
    }
   ],
   "source": [
    "image_count = len(list(hindi_data_train.glob('*/*.png')))\n",
    "image_count"
   ]
  },
  {
   "cell_type": "code",
   "execution_count": 10,
   "id": "e397ff55",
   "metadata": {
    "execution": {
     "iopub.execute_input": "2022-07-06T07:27:39.105478Z",
     "iopub.status.busy": "2022-07-06T07:27:39.104437Z",
     "iopub.status.idle": "2022-07-06T07:27:39.119965Z",
     "shell.execute_reply": "2022-07-06T07:27:39.119163Z"
    },
    "id": "eFHGkXis8-l1",
    "papermill": {
     "duration": 0.775405,
     "end_time": "2022-07-06T07:27:39.122107",
     "exception": false,
     "start_time": "2022-07-06T07:27:38.346702",
     "status": "completed"
    },
    "pycharm": {
     "name": "#%%\n"
    },
    "tags": []
   },
   "outputs": [
    {
     "data": {
      "text/plain": [
       "1700"
      ]
     },
     "execution_count": 10,
     "metadata": {},
     "output_type": "execute_result"
    }
   ],
   "source": [
    "len(list(hindi_data_train.glob('character_3_ga/*')))"
   ]
  },
  {
   "cell_type": "code",
   "execution_count": 11,
   "id": "aa74e201",
   "metadata": {
    "execution": {
     "iopub.execute_input": "2022-07-06T07:27:39.169502Z",
     "iopub.status.busy": "2022-07-06T07:27:39.168844Z",
     "iopub.status.idle": "2022-07-06T07:27:39.217391Z",
     "shell.execute_reply": "2022-07-06T07:27:39.216402Z"
    },
    "id": "SLL9I1bk86hc",
    "papermill": {
     "duration": 0.074736,
     "end_time": "2022-07-06T07:27:39.219768",
     "exception": false,
     "start_time": "2022-07-06T07:27:39.145032",
     "status": "completed"
    },
    "pycharm": {
     "name": "#%%\n"
    },
    "tags": []
   },
   "outputs": [],
   "source": [
    "hindi_letters_dict_train = {\n",
    "    'sa': list(hindi_data_train.glob('character_32_patalosaw/*')),\n",
    "    're': list(hindi_data_train.glob('character_27_ra/*')),\n",
    "    'ga': list(hindi_data_train.glob('character_3_ga/*')),\n",
    "    'ma': list(hindi_data_train.glob('character_25_ma/*')),\n",
    "    'pa': list(hindi_data_train.glob('character_21_pa/*')),\n",
    "    'dha': list(hindi_data_train.glob('character_19_dha/*')),\n",
    "    'ni': list(hindi_data_train.glob('character_20_na/*')),\n",
    "    #'zero': list(hindi_data_train.glob('digit_0/*')),\n",
    "    #'one': list(hindi_data_train.glob('digit_1/*')),\n",
    "    #'two': list(hindi_data_train.glob('digit_2/*')),\n",
    "    #'three': list(hindi_data_train.glob('digit_3/*')),\n",
    "    #'four': list(hindi_data_train.glob('digit_4/*')),\n",
    "    #'five': list(hindi_data_train.glob('digit_5/*')),\n",
    "    #'six': list(hindi_data_train.glob('digit_6/*')),\n",
    "    #'seven': list(hindi_data_train.glob('digit_7/*')),\n",
    "    #'eight': list(hindi_data_train.glob('digit_8/*')),\n",
    "    #'nine': list(hindi_data_train.glob('digit_9/*')),\n",
    "}"
   ]
  },
  {
   "cell_type": "code",
   "execution_count": 12,
   "id": "626d32c9",
   "metadata": {
    "execution": {
     "iopub.execute_input": "2022-07-06T07:27:39.266003Z",
     "iopub.status.busy": "2022-07-06T07:27:39.265079Z",
     "iopub.status.idle": "2022-07-06T07:27:39.280856Z",
     "shell.execute_reply": "2022-07-06T07:27:39.279841Z"
    },
    "id": "9CNuS0pn9Cw5",
    "papermill": {
     "duration": 0.040969,
     "end_time": "2022-07-06T07:27:39.282963",
     "exception": false,
     "start_time": "2022-07-06T07:27:39.241994",
     "status": "completed"
    },
    "pycharm": {
     "name": "#%%\n"
    },
    "tags": []
   },
   "outputs": [],
   "source": [
    "hindi_letters_dict_test = {\n",
    "    'sa': list(hindi_data_test.glob('character_32_patalosaw/*')),\n",
    "    're': list(hindi_data_test.glob('character_27_ra/*')),\n",
    "    'ga': list(hindi_data_test.glob('character_3_ga/*')),\n",
    "    'ma': list(hindi_data_test.glob('character_25_ma/*')),\n",
    "    'pa': list(hindi_data_test.glob('character_21_pa/*')),\n",
    "    'dha': list(hindi_data_test.glob('character_19_dha/*')),\n",
    "    'ni': list(hindi_data_test.glob('character_20_na/*')),\n",
    "    #'zero': list(hindi_data_test.glob('digit_0/*')),\n",
    "    #'one': list(hindi_data_test.glob('digit_1/*')),\n",
    "    #'two': list(hindi_data_test.glob('digit_2/*')),\n",
    "    #'three': list(hindi_data_test.glob('digit_3/*')),\n",
    "    #'four': list(hindi_data_test.glob('digit_4/*')),\n",
    "    #'five': list(hindi_data_test.glob('digit_5/*')),\n",
    "    #'six': list(hindi_data_test.glob('digit_6/*')),\n",
    "    #'seven': list(hindi_data_test.glob('digit_7/*')),\n",
    "    #'eight': list(hindi_data_test.glob('digit_8/*')),\n",
    "    #'nine': list(hindi_data_test.glob('digit_9/*')),\n",
    "}"
   ]
  },
  {
   "cell_type": "code",
   "execution_count": 13,
   "id": "78aeb973",
   "metadata": {
    "execution": {
     "iopub.execute_input": "2022-07-06T07:27:39.329305Z",
     "iopub.status.busy": "2022-07-06T07:27:39.328402Z",
     "iopub.status.idle": "2022-07-06T07:27:39.344947Z",
     "shell.execute_reply": "2022-07-06T07:27:39.343956Z"
    },
    "id": "02mOyVnD9C6B",
    "papermill": {
     "duration": 0.041696,
     "end_time": "2022-07-06T07:27:39.346917",
     "exception": false,
     "start_time": "2022-07-06T07:27:39.305221",
     "status": "completed"
    },
    "pycharm": {
     "name": "#%%\n"
    },
    "tags": []
   },
   "outputs": [
    {
     "data": {
      "image/png": "[encoded data removed]",
      "text/plain": [
       "<PIL.PngImagePlugin.PngImageFile image mode=L size=32x32>"
      ]
     },
     "execution_count": 13,
     "metadata": {},
     "output_type": "execute_result"
    }
   ],
   "source": [
    "PIL.Image.open(hindi_letters_dict_train['sa'][0])"
   ]
  },
  {
   "cell_type": "code",
   "execution_count": 14,
   "id": "80dd8182",
   "metadata": {
    "execution": {
     "iopub.execute_input": "2022-07-06T07:27:39.392802Z",
     "iopub.status.busy": "2022-07-06T07:27:39.392323Z",
     "iopub.status.idle": "2022-07-06T07:27:39.399597Z",
     "shell.execute_reply": "2022-07-06T07:27:39.398689Z"
    },
    "id": "Deib7_ng9FkT",
    "papermill": {
     "duration": 0.032023,
     "end_time": "2022-07-06T07:27:39.401509",
     "exception": false,
     "start_time": "2022-07-06T07:27:39.369486",
     "status": "completed"
    },
    "pycharm": {
     "name": "#%%\n"
    },
    "tags": []
   },
   "outputs": [
    {
     "data": {
      "image/png": "[encoded data removed]",
      "text/plain": [
       "<PIL.PngImagePlugin.PngImageFile image mode=L size=32x32>"
      ]
     },
     "execution_count": 14,
     "metadata": {},
     "output_type": "execute_result"
    }
   ],
   "source": [
    "PIL.Image.open(hindi_letters_dict_train['sa'][5])"
   ]
  },
  {
   "cell_type": "code",
   "execution_count": 15,
   "id": "e7983b89",
   "metadata": {
    "execution": {
     "iopub.execute_input": "2022-07-06T07:27:39.447293Z",
     "iopub.status.busy": "2022-07-06T07:27:39.446553Z",
     "iopub.status.idle": "2022-07-06T07:27:39.451794Z",
     "shell.execute_reply": "2022-07-06T07:27:39.450986Z"
    },
    "id": "-D1AIjF19Fmz",
    "papermill": {
     "duration": 0.030201,
     "end_time": "2022-07-06T07:27:39.453647",
     "exception": false,
     "start_time": "2022-07-06T07:27:39.423446",
     "status": "completed"
    },
    "pycharm": {
     "name": "#%%\n"
    },
    "tags": []
   },
   "outputs": [],
   "source": [
    "hindi_label_dict = {\n",
    "    'sa': 0,\n",
    "    're': 1,\n",
    "    'ga': 2,\n",
    "    'ma': 3,\n",
    "    'pa': 4,\n",
    "    'dha': 5,\n",
    "    'ni': 6,\n",
    "    #'zero': 7,\n",
    "    #'one': 8,\n",
    "    #'two': 9,\n",
    "    #'three': 10,\n",
    "    #'four': 11,\n",
    "    #'five': 12,\n",
    "    #'six': 13,\n",
    "    #'seven': 14,\n",
    "    #'eight': 15,\n",
    "    #'nine': 16,\n",
    "}"
   ]
  },
  {
   "cell_type": "code",
   "execution_count": 16,
   "id": "ab6442ea",
   "metadata": {
    "execution": {
     "iopub.execute_input": "2022-07-06T07:27:39.502449Z",
     "iopub.status.busy": "2022-07-06T07:27:39.502110Z",
     "iopub.status.idle": "2022-07-06T07:27:39.507550Z",
     "shell.execute_reply": "2022-07-06T07:27:39.506509Z"
    },
    "id": "oAZkVQ0x9FqD",
    "papermill": {
     "duration": 0.03057,
     "end_time": "2022-07-06T07:27:39.509664",
     "exception": false,
     "start_time": "2022-07-06T07:27:39.479094",
     "status": "completed"
    },
    "pycharm": {
     "name": "#%%\n"
    },
    "tags": []
   },
   "outputs": [],
   "source": [
    "hindi_name_dict = {\n",
    "     0: 'sa',\n",
    "     1: 're',\n",
    "     2: 'ga',\n",
    "     3: 'ma',\n",
    "     4: 'pa',\n",
    "     5: 'dha',\n",
    "     6: 'ni',\n",
    "     #7: 'zero',\n",
    "     #8: 'one',\n",
    "     #9: 'two',\n",
    "     #10: 'three',\n",
    "     #11: 'four',\n",
    "     #12: 'five',\n",
    "     #13: 'six',\n",
    "     #14: 'seven',\n",
    "     #15: 'eight',\n",
    "     #16: 'nine',\n",
    "}"
   ]
  },
  {
   "cell_type": "code",
   "execution_count": 17,
   "id": "c873961c",
   "metadata": {
    "execution": {
     "iopub.execute_input": "2022-07-06T07:27:39.556335Z",
     "iopub.status.busy": "2022-07-06T07:27:39.555515Z",
     "iopub.status.idle": "2022-07-06T07:27:39.576698Z",
     "shell.execute_reply": "2022-07-06T07:27:39.575794Z"
    },
    "id": "Pag7-uWw9FtK",
    "papermill": {
     "duration": 0.046652,
     "end_time": "2022-07-06T07:27:39.578890",
     "exception": false,
     "start_time": "2022-07-06T07:27:39.532238",
     "status": "completed"
    },
    "pycharm": {
     "name": "#%%\n"
    },
    "tags": []
   },
   "outputs": [],
   "source": [
    "img = cv2.imread(str(hindi_letters_dict_train['re'][0]))\n"
   ]
  },
  {
   "cell_type": "code",
   "execution_count": 18,
   "id": "cffd3e61",
   "metadata": {
    "execution": {
     "iopub.execute_input": "2022-07-06T07:27:39.626215Z",
     "iopub.status.busy": "2022-07-06T07:27:39.625413Z",
     "iopub.status.idle": "2022-07-06T07:27:39.633844Z",
     "shell.execute_reply": "2022-07-06T07:27:39.632941Z"
    },
    "id": "VmFqzCJJ9Fv1",
    "papermill": {
     "duration": 0.03389,
     "end_time": "2022-07-06T07:27:39.635786",
     "exception": false,
     "start_time": "2022-07-06T07:27:39.601896",
     "status": "completed"
    },
    "pycharm": {
     "name": "#%%\n"
    },
    "tags": []
   },
   "outputs": [
    {
     "data": {
      "text/plain": [
       "array([[[  0,   0,   0],\n",
       "        [  0,   0,   0],\n",
       "        [  0,   0,   0],\n",
       "        ...,\n",
       "        [  0,   0,   0],\n",
       "        [  0,   0,   0],\n",
       "        [  0,   0,   0]],\n",
       "\n",
       "       [[  0,   0,   0],\n",
       "        [  0,   0,   0],\n",
       "        [  0,   0,   0],\n",
       "        ...,\n",
       "        [  0,   0,   0],\n",
       "        [  0,   0,   0],\n",
       "        [  0,   0,   0]],\n",
       "\n",
       "       [[  0,   0,   0],\n",
       "        [  0,   0,   0],\n",
       "        [ 42,  42,  42],\n",
       "        ...,\n",
       "        [  0,   0,   0],\n",
       "        [  0,   0,   0],\n",
       "        [  0,   0,   0]],\n",
       "\n",
       "       ...,\n",
       "\n",
       "       [[  0,   0,   0],\n",
       "        [  0,   0,   0],\n",
       "        [  0,   0,   0],\n",
       "        ...,\n",
       "        [240, 240, 240],\n",
       "        [  0,   0,   0],\n",
       "        [  0,   0,   0]],\n",
       "\n",
       "       [[  0,   0,   0],\n",
       "        [  0,   0,   0],\n",
       "        [  0,   0,   0],\n",
       "        ...,\n",
       "        [  0,   0,   0],\n",
       "        [  0,   0,   0],\n",
       "        [  0,   0,   0]],\n",
       "\n",
       "       [[  0,   0,   0],\n",
       "        [  0,   0,   0],\n",
       "        [  0,   0,   0],\n",
       "        ...,\n",
       "        [  0,   0,   0],\n",
       "        [  0,   0,   0],\n",
       "        [  0,   0,   0]]], dtype=uint8)"
      ]
     },
     "execution_count": 18,
     "metadata": {},
     "output_type": "execute_result"
    }
   ],
   "source": [
    "img"
   ]
  },
  {
   "cell_type": "code",
   "execution_count": 19,
   "id": "4cb61bac",
   "metadata": {
    "execution": {
     "iopub.execute_input": "2022-07-06T07:27:39.683776Z",
     "iopub.status.busy": "2022-07-06T07:27:39.682719Z",
     "iopub.status.idle": "2022-07-06T07:27:39.687750Z",
     "shell.execute_reply": "2022-07-06T07:27:39.686916Z"
    },
    "id": "DlFzmGCH9Fyc",
    "papermill": {
     "duration": 0.030544,
     "end_time": "2022-07-06T07:27:39.689621",
     "exception": false,
     "start_time": "2022-07-06T07:27:39.659077",
     "status": "completed"
    },
    "pycharm": {
     "name": "#%%\n"
    },
    "tags": []
   },
   "outputs": [],
   "source": [
    "X_train = []\n",
    "y_train = []"
   ]
  },
  {
   "cell_type": "code",
   "execution_count": 20,
   "id": "ef0c9fd6",
   "metadata": {
    "execution": {
     "iopub.execute_input": "2022-07-06T07:27:39.736561Z",
     "iopub.status.busy": "2022-07-06T07:27:39.735926Z",
     "iopub.status.idle": "2022-07-06T07:27:40.349113Z",
     "shell.execute_reply": "2022-07-06T07:27:40.348175Z"
    },
    "id": "1GWpS9KH9F1D",
    "papermill": {
     "duration": 0.639591,
     "end_time": "2022-07-06T07:27:40.351768",
     "exception": false,
     "start_time": "2022-07-06T07:27:39.712177",
     "status": "completed"
    },
    "pycharm": {
     "name": "#%%\n"
    },
    "tags": []
   },
   "outputs": [],
   "source": [
    "for key, value_list in hindi_letters_dict_train.items():\n",
    "    for value in value_list:\n",
    "        img = cv2.imread(str(value))\n",
    "        img = cv2.resize(img,(32,32))\n",
    "        _, img = cv2.threshold(img, 127,255, cv2.THRESH_BINARY_INV)\n",
    "        X_train.append(img)\n",
    "        y_train.append(hindi_label_dict[key])"
   ]
  },
  {
   "cell_type": "code",
   "execution_count": 21,
   "id": "b7827b0c",
   "metadata": {
    "execution": {
     "iopub.execute_input": "2022-07-06T07:27:40.400029Z",
     "iopub.status.busy": "2022-07-06T07:27:40.399141Z",
     "iopub.status.idle": "2022-07-06T07:27:40.403675Z",
     "shell.execute_reply": "2022-07-06T07:27:40.402666Z"
    },
    "id": "2eIpk5AT9E5z",
    "papermill": {
     "duration": 0.031057,
     "end_time": "2022-07-06T07:27:40.405895",
     "exception": false,
     "start_time": "2022-07-06T07:27:40.374838",
     "status": "completed"
    },
    "pycharm": {
     "name": "#%%\n"
    },
    "tags": []
   },
   "outputs": [],
   "source": [
    "X_test = []\n",
    "y_test = []"
   ]
  },
  {
   "cell_type": "code",
   "execution_count": 22,
   "id": "33d1ee4c",
   "metadata": {
    "execution": {
     "iopub.execute_input": "2022-07-06T07:27:40.453663Z",
     "iopub.status.busy": "2022-07-06T07:27:40.452878Z",
     "iopub.status.idle": "2022-07-06T07:27:40.633902Z",
     "shell.execute_reply": "2022-07-06T07:27:40.632449Z"
    },
    "id": "GRCpQI2S9Q7j",
    "papermill": {
     "duration": 0.208459,
     "end_time": "2022-07-06T07:27:40.637336",
     "exception": false,
     "start_time": "2022-07-06T07:27:40.428877",
     "status": "completed"
    },
    "pycharm": {
     "name": "#%%\n"
    },
    "tags": []
   },
   "outputs": [],
   "source": [
    "for key, value_list in hindi_letters_dict_test.items():\n",
    "    for value in value_list:\n",
    "        img = cv2.imread(str(value))\n",
    "        img = cv2.resize(img,(32,32))\n",
    "        _, img = cv2.threshold(img, 127,255, cv2.THRESH_BINARY_INV)\n",
    "        X_test.append(img)\n",
    "        y_test.append(hindi_label_dict[key])"
   ]
  },
  {
   "cell_type": "code",
   "execution_count": 23,
   "id": "4efaad68",
   "metadata": {
    "execution": {
     "iopub.execute_input": "2022-07-06T07:27:40.729087Z",
     "iopub.status.busy": "2022-07-06T07:27:40.728545Z",
     "iopub.status.idle": "2022-07-06T07:27:40.735339Z",
     "shell.execute_reply": "2022-07-06T07:27:40.734330Z"
    },
    "id": "RLz8H5wb9Q-p",
    "papermill": {
     "duration": 0.054613,
     "end_time": "2022-07-06T07:27:40.741417",
     "exception": false,
     "start_time": "2022-07-06T07:27:40.686804",
     "status": "completed"
    },
    "pycharm": {
     "name": "#%%\n"
    },
    "tags": []
   },
   "outputs": [
    {
     "data": {
      "text/plain": [
       "11900"
      ]
     },
     "execution_count": 23,
     "metadata": {},
     "output_type": "execute_result"
    }
   ],
   "source": [
    "len(X_train)"
   ]
  },
  {
   "cell_type": "code",
   "execution_count": 24,
   "id": "be0cfaee",
   "metadata": {
    "execution": {
     "iopub.execute_input": "2022-07-06T07:27:40.816707Z",
     "iopub.status.busy": "2022-07-06T07:27:40.816153Z",
     "iopub.status.idle": "2022-07-06T07:27:40.822865Z",
     "shell.execute_reply": "2022-07-06T07:27:40.822038Z"
    },
    "id": "yfTV-syd9RBl",
    "papermill": {
     "duration": 0.050366,
     "end_time": "2022-07-06T07:27:40.828548",
     "exception": false,
     "start_time": "2022-07-06T07:27:40.778182",
     "status": "completed"
    },
    "pycharm": {
     "name": "#%%\n"
    },
    "tags": []
   },
   "outputs": [
    {
     "data": {
      "text/plain": [
       "11900"
      ]
     },
     "execution_count": 24,
     "metadata": {},
     "output_type": "execute_result"
    }
   ],
   "source": [
    "len(y_train)"
   ]
  },
  {
   "cell_type": "code",
   "execution_count": 25,
   "id": "b8249e35",
   "metadata": {
    "execution": {
     "iopub.execute_input": "2022-07-06T07:27:40.902626Z",
     "iopub.status.busy": "2022-07-06T07:27:40.902209Z",
     "iopub.status.idle": "2022-07-06T07:27:40.940034Z",
     "shell.execute_reply": "2022-07-06T07:27:40.939029Z"
    },
    "id": "WlHgOwCj9RER",
    "papermill": {
     "duration": 0.07838,
     "end_time": "2022-07-06T07:27:40.943348",
     "exception": false,
     "start_time": "2022-07-06T07:27:40.864968",
     "status": "completed"
    },
    "pycharm": {
     "name": "#%%\n"
    },
    "tags": []
   },
   "outputs": [],
   "source": [
    "X_train = np.array(X_train)\n",
    "y_train = np.array(y_train)"
   ]
  },
  {
   "cell_type": "code",
   "execution_count": 26,
   "id": "65b8bada",
   "metadata": {
    "execution": {
     "iopub.execute_input": "2022-07-06T07:27:41.022107Z",
     "iopub.status.busy": "2022-07-06T07:27:41.021551Z",
     "iopub.status.idle": "2022-07-06T07:27:41.032273Z",
     "shell.execute_reply": "2022-07-06T07:27:41.031468Z"
    },
    "id": "37BgBBdy9RHJ",
    "papermill": {
     "duration": 0.053108,
     "end_time": "2022-07-06T07:27:41.035213",
     "exception": false,
     "start_time": "2022-07-06T07:27:40.982105",
     "status": "completed"
    },
    "pycharm": {
     "name": "#%%\n"
    },
    "tags": []
   },
   "outputs": [],
   "source": [
    "X_test = np.array(X_test)\n",
    "y_test = np.array(y_test)"
   ]
  },
  {
   "cell_type": "code",
   "execution_count": 27,
   "id": "6a9e3ae6",
   "metadata": {
    "execution": {
     "iopub.execute_input": "2022-07-06T07:27:41.107215Z",
     "iopub.status.busy": "2022-07-06T07:27:41.106760Z",
     "iopub.status.idle": "2022-07-06T07:27:41.113840Z",
     "shell.execute_reply": "2022-07-06T07:27:41.112970Z"
    },
    "id": "o2hInN209RJ6",
    "papermill": {
     "duration": 0.044389,
     "end_time": "2022-07-06T07:27:41.115787",
     "exception": false,
     "start_time": "2022-07-06T07:27:41.071398",
     "status": "completed"
    },
    "pycharm": {
     "name": "#%%\n"
    },
    "tags": []
   },
   "outputs": [
    {
     "data": {
      "text/plain": [
       "(11900, 32, 32, 3)"
      ]
     },
     "execution_count": 27,
     "metadata": {},
     "output_type": "execute_result"
    }
   ],
   "source": [
    "X_train.shape"
   ]
  },
  {
   "cell_type": "code",
   "execution_count": 28,
   "id": "f2d5807b",
   "metadata": {
    "execution": {
     "iopub.execute_input": "2022-07-06T07:27:41.163375Z",
     "iopub.status.busy": "2022-07-06T07:27:41.162548Z",
     "iopub.status.idle": "2022-07-06T07:27:41.168770Z",
     "shell.execute_reply": "2022-07-06T07:27:41.167864Z"
    },
    "id": "qvIGna3r9RMl",
    "papermill": {
     "duration": 0.032427,
     "end_time": "2022-07-06T07:27:41.170714",
     "exception": false,
     "start_time": "2022-07-06T07:27:41.138287",
     "status": "completed"
    },
    "pycharm": {
     "name": "#%%\n"
    },
    "tags": []
   },
   "outputs": [
    {
     "data": {
      "text/plain": [
       "(2100, 32, 32, 3)"
      ]
     },
     "execution_count": 28,
     "metadata": {},
     "output_type": "execute_result"
    }
   ],
   "source": [
    "X_test.shape"
   ]
  },
  {
   "cell_type": "code",
   "execution_count": 29,
   "id": "8e7ac42b",
   "metadata": {
    "execution": {
     "iopub.execute_input": "2022-07-06T07:27:41.218841Z",
     "iopub.status.busy": "2022-07-06T07:27:41.218529Z",
     "iopub.status.idle": "2022-07-06T07:27:41.450723Z",
     "shell.execute_reply": "2022-07-06T07:27:41.449668Z"
    },
    "id": "UvNjd0SA9b-b",
    "papermill": {
     "duration": 0.259723,
     "end_time": "2022-07-06T07:27:41.453881",
     "exception": false,
     "start_time": "2022-07-06T07:27:41.194158",
     "status": "completed"
    },
    "pycharm": {
     "name": "#%%\n"
    },
    "tags": []
   },
   "outputs": [
    {
     "data": {
      "text/plain": [
       "<matplotlib.image.AxesImage at 0x7f390f78fe10>"
      ]
     },
     "execution_count": 29,
     "metadata": {},
     "output_type": "execute_result"
    },
    {
     "data": {
      "image/png": "[encoded data removed]",
      "text/plain": [
       "<Figure size 288x288 with 1 Axes>"
      ]
     },
     "metadata": {
      "needs_background": "light"
     },
     "output_type": "display_data"
    }
   ],
   "source": [
    "plt.matshow(X_train[11110])"
   ]
  },
  {
   "cell_type": "code",
   "execution_count": 30,
   "id": "95de085c",
   "metadata": {
    "execution": {
     "iopub.execute_input": "2022-07-06T07:27:41.537855Z",
     "iopub.status.busy": "2022-07-06T07:27:41.537510Z",
     "iopub.status.idle": "2022-07-06T07:27:41.647273Z",
     "shell.execute_reply": "2022-07-06T07:27:41.646295Z"
    },
    "id": "FetxL9Tx9cA_",
    "papermill": {
     "duration": 0.152579,
     "end_time": "2022-07-06T07:27:41.649804",
     "exception": false,
     "start_time": "2022-07-06T07:27:41.497225",
     "status": "completed"
    },
    "pycharm": {
     "name": "#%%\n"
    },
    "tags": []
   },
   "outputs": [],
   "source": [
    "X_train_scaled = X_train / 255\n",
    "X_test_scaled = X_test / 255"
   ]
  },
  {
   "cell_type": "code",
   "execution_count": 31,
   "id": "4d0759da",
   "metadata": {
    "execution": {
     "iopub.execute_input": "2022-07-06T07:27:41.698563Z",
     "iopub.status.busy": "2022-07-06T07:27:41.698254Z",
     "iopub.status.idle": "2022-07-06T07:27:41.704350Z",
     "shell.execute_reply": "2022-07-06T07:27:41.703306Z"
    },
    "id": "z4o1W9ui9cDX",
    "papermill": {
     "duration": 0.0325,
     "end_time": "2022-07-06T07:27:41.706167",
     "exception": false,
     "start_time": "2022-07-06T07:27:41.673667",
     "status": "completed"
    },
    "pycharm": {
     "name": "#%%\n"
    },
    "tags": []
   },
   "outputs": [
    {
     "data": {
      "text/plain": [
       "'ni'"
      ]
     },
     "execution_count": 31,
     "metadata": {},
     "output_type": "execute_result"
    }
   ],
   "source": [
    "hindi_name_dict[y_train[11110]]"
   ]
  },
  {
   "cell_type": "code",
   "execution_count": 32,
   "id": "f8721380",
   "metadata": {
    "execution": {
     "iopub.execute_input": "2022-07-06T07:27:41.754652Z",
     "iopub.status.busy": "2022-07-06T07:27:41.753855Z",
     "iopub.status.idle": "2022-07-06T07:27:41.760252Z",
     "shell.execute_reply": "2022-07-06T07:27:41.759292Z"
    },
    "id": "VVx2zeLJ9RPU",
    "papermill": {
     "duration": 0.032435,
     "end_time": "2022-07-06T07:27:41.762116",
     "exception": false,
     "start_time": "2022-07-06T07:27:41.729681",
     "status": "completed"
    },
    "pycharm": {
     "name": "#%%\n"
    },
    "tags": []
   },
   "outputs": [
    {
     "data": {
      "text/plain": [
       "(11900, 32, 32, 3)"
      ]
     },
     "execution_count": 32,
     "metadata": {},
     "output_type": "execute_result"
    }
   ],
   "source": [
    "X_train_scaled.shape"
   ]
  },
  {
   "cell_type": "code",
   "execution_count": 33,
   "id": "d69b68a5",
   "metadata": {
    "execution": {
     "iopub.execute_input": "2022-07-06T07:27:41.811409Z",
     "iopub.status.busy": "2022-07-06T07:27:41.810579Z",
     "iopub.status.idle": "2022-07-06T07:27:41.815784Z",
     "shell.execute_reply": "2022-07-06T07:27:41.814981Z"
    },
    "id": "5rMnaJ869gYS",
    "papermill": {
     "duration": 0.031783,
     "end_time": "2022-07-06T07:27:41.817657",
     "exception": false,
     "start_time": "2022-07-06T07:27:41.785874",
     "status": "completed"
    },
    "pycharm": {
     "name": "#%%\n"
    },
    "tags": []
   },
   "outputs": [],
   "source": [
    "#X_train_scaled_flat = np.reshape(#X_train_scaled, (28900, 32*32*3))"
   ]
  },
  {
   "cell_type": "code",
   "execution_count": 34,
   "id": "4f879d00",
   "metadata": {
    "execution": {
     "iopub.execute_input": "2022-07-06T07:27:41.866505Z",
     "iopub.status.busy": "2022-07-06T07:27:41.865932Z",
     "iopub.status.idle": "2022-07-06T07:27:41.871781Z",
     "shell.execute_reply": "2022-07-06T07:27:41.870906Z"
    },
    "id": "u0hf20hP9ga3",
    "papermill": {
     "duration": 0.032379,
     "end_time": "2022-07-06T07:27:41.873808",
     "exception": false,
     "start_time": "2022-07-06T07:27:41.841429",
     "status": "completed"
    },
    "pycharm": {
     "name": "#%%\n"
    },
    "tags": []
   },
   "outputs": [
    {
     "data": {
      "text/plain": [
       "0"
      ]
     },
     "execution_count": 34,
     "metadata": {},
     "output_type": "execute_result"
    }
   ],
   "source": [
    "y_train[0]"
   ]
  },
  {
   "cell_type": "code",
   "execution_count": 35,
   "id": "3f3c2b3d",
   "metadata": {
    "execution": {
     "iopub.execute_input": "2022-07-06T07:27:41.923091Z",
     "iopub.status.busy": "2022-07-06T07:27:41.922181Z",
     "iopub.status.idle": "2022-07-06T07:27:42.128368Z",
     "shell.execute_reply": "2022-07-06T07:27:42.127213Z"
    },
    "id": "WsNeoME19gea",
    "papermill": {
     "duration": 0.233546,
     "end_time": "2022-07-06T07:27:42.131075",
     "exception": false,
     "start_time": "2022-07-06T07:27:41.897529",
     "status": "completed"
    },
    "pycharm": {
     "name": "#%%\n"
    },
    "tags": []
   },
   "outputs": [
    {
     "data": {
      "text/plain": [
       "<matplotlib.image.AxesImage at 0x7f390f48b610>"
      ]
     },
     "execution_count": 35,
     "metadata": {},
     "output_type": "execute_result"
    },
    {
     "data": {
      "image/png": "[encoded data removed]",
      "text/plain": [
       "<Figure size 288x288 with 1 Axes>"
      ]
     },
     "metadata": {
      "needs_background": "light"
     },
     "output_type": "display_data"
    }
   ],
   "source": [
    "plt.matshow(X_train[0])"
   ]
  },
  {
   "cell_type": "code",
   "execution_count": 36,
   "id": "a1baf88c",
   "metadata": {
    "execution": {
     "iopub.execute_input": "2022-07-06T07:27:42.216957Z",
     "iopub.status.busy": "2022-07-06T07:27:42.216575Z",
     "iopub.status.idle": "2022-07-06T07:27:45.395520Z",
     "shell.execute_reply": "2022-07-06T07:27:45.394549Z"
    },
    "id": "ERa5zNYQ9ghc",
    "papermill": {
     "duration": 3.223207,
     "end_time": "2022-07-06T07:27:45.398120",
     "exception": false,
     "start_time": "2022-07-06T07:27:42.174913",
     "status": "completed"
    },
    "pycharm": {
     "name": "#%%\n"
    },
    "tags": []
   },
   "outputs": [
    {
     "name": "stderr",
     "output_type": "stream",
     "text": [
      "2022-07-06 07:27:42.308690: I tensorflow/stream_executor/cuda/cuda_gpu_executor.cc:937] successful NUMA node read from SysFS had negative value (-1), but there must be at least one NUMA node, so returning NUMA node zero\n",
      "2022-07-06 07:27:42.420547: I tensorflow/stream_executor/cuda/cuda_gpu_executor.cc:937] successful NUMA node read from SysFS had negative value (-1), but there must be at least one NUMA node, so returning NUMA node zero\n",
      "2022-07-06 07:27:42.421285: I tensorflow/stream_executor/cuda/cuda_gpu_executor.cc:937] successful NUMA node read from SysFS had negative value (-1), but there must be at least one NUMA node, so returning NUMA node zero\n",
      "2022-07-06 07:27:42.422551: I tensorflow/core/platform/cpu_feature_guard.cc:142] This TensorFlow binary is optimized with oneAPI Deep Neural Network Library (oneDNN) to use the following CPU instructions in performance-critical operations:  AVX2 AVX512F FMA\n",
      "To enable them in other operations, rebuild TensorFlow with the appropriate compiler flags.\n",
      "2022-07-06 07:27:42.422844: I tensorflow/stream_executor/cuda/cuda_gpu_executor.cc:937] successful NUMA node read from SysFS had negative value (-1), but there must be at least one NUMA node, so returning NUMA node zero\n",
      "2022-07-06 07:27:42.423558: I tensorflow/stream_executor/cuda/cuda_gpu_executor.cc:937] successful NUMA node read from SysFS had negative value (-1), but there must be at least one NUMA node, so returning NUMA node zero\n",
      "2022-07-06 07:27:42.424210: I tensorflow/stream_executor/cuda/cuda_gpu_executor.cc:937] successful NUMA node read from SysFS had negative value (-1), but there must be at least one NUMA node, so returning NUMA node zero\n",
      "2022-07-06 07:27:44.950850: I tensorflow/stream_executor/cuda/cuda_gpu_executor.cc:937] successful NUMA node read from SysFS had negative value (-1), but there must be at least one NUMA node, so returning NUMA node zero\n",
      "2022-07-06 07:27:44.951709: I tensorflow/stream_executor/cuda/cuda_gpu_executor.cc:937] successful NUMA node read from SysFS had negative value (-1), but there must be at least one NUMA node, so returning NUMA node zero\n",
      "2022-07-06 07:27:44.952505: I tensorflow/stream_executor/cuda/cuda_gpu_executor.cc:937] successful NUMA node read from SysFS had negative value (-1), but there must be at least one NUMA node, so returning NUMA node zero\n",
      "2022-07-06 07:27:44.953230: I tensorflow/core/common_runtime/gpu/gpu_device.cc:1510] Created device /job:localhost/replica:0/task:0/device:GPU:0 with 15403 MB memory:  -> device: 0, name: Tesla P100-PCIE-16GB, pci bus id: 0000:00:04.0, compute capability: 6.0\n"
     ]
    }
   ],
   "source": [
    "data_augmentation = keras.Sequential(\n",
    "    [\n",
    "        keras.layers.experimental.preprocessing.RandomFlip(\"horizontal\",input_shape=(32,32,3,)),\n",
    "        keras.layers.experimental.preprocessing.RandomRotation(0.2),\n",
    "        keras.layers.experimental.preprocessing.RandomZoom(0.1),\n",
    "      \n",
    "    ]\n",
    ")"
   ]
  },
  {
   "cell_type": "code",
   "execution_count": 37,
   "id": "5cdf7261",
   "metadata": {
    "execution": {
     "iopub.execute_input": "2022-07-06T07:27:45.448357Z",
     "iopub.status.busy": "2022-07-06T07:27:45.447939Z",
     "iopub.status.idle": "2022-07-06T07:27:45.710419Z",
     "shell.execute_reply": "2022-07-06T07:27:45.709471Z"
    },
    "id": "Q77Ko3dF9gkV",
    "papermill": {
     "duration": 0.290367,
     "end_time": "2022-07-06T07:27:45.712922",
     "exception": false,
     "start_time": "2022-07-06T07:27:45.422555",
     "status": "completed"
    },
    "pycharm": {
     "name": "#%%\n"
    },
    "tags": []
   },
   "outputs": [],
   "source": [
    "model = keras.Sequential([\n",
    "    data_augmentation,\n",
    "    \n",
    "\n",
    "    keras.layers.Conv2D(filters = 32,kernel_size = (3,3),strides = 1,activation = \"relu\"),\n",
    "    keras.layers.BatchNormalization(),\n",
    "    keras.layers.MaxPooling2D(pool_size=(2, 2),strides=(2, 2), padding=\"same\"),\n",
    "\n",
    "    keras.layers.Conv2D(filters = 32,kernel_size = (3,3),strides = 1,activation = \"relu\",),\n",
    "    keras.layers.BatchNormalization(),\n",
    "    keras.layers.MaxPooling2D(pool_size=(2, 2),strides=(2, 2), padding=\"same\"),\n",
    "\n",
    "    keras.layers.Conv2D(filters = 64,kernel_size = (3,3),strides = 1,activation = \"relu\",),\n",
    "    keras.layers.BatchNormalization(),\n",
    "    keras.layers.MaxPooling2D(pool_size=(2, 2),strides=(2, 2), padding=\"same\"),\n",
    "\n",
    "    keras.layers.Conv2D(filters = 64,kernel_size = (3,3),strides = 1,activation = \"relu\",),\n",
    "    keras.layers.BatchNormalization(),\n",
    "    keras.layers.MaxPooling2D(pool_size=(2, 2),strides=(2, 2), padding=\"same\"),\n",
    "    keras.layers.Flatten(),\n",
    "\n",
    "\n",
    "    keras.layers.Dense(128, activation = \"relu\", kernel_initializer = \"uniform\"),\n",
    "    keras.layers.BatchNormalization(),\n",
    "\n",
    "    keras.layers.Dense(64, activation = \"relu\", kernel_initializer = \"uniform\"),\n",
    "    keras.layers.BatchNormalization(),\n",
    "\n",
    "    keras.layers.Dense(7,activation = \"softmax\"),\n",
    "\n",
    "])"
   ]
  },
  {
   "cell_type": "code",
   "execution_count": 38,
   "id": "edf1f603",
   "metadata": {
    "execution": {
     "iopub.execute_input": "2022-07-06T07:27:45.763550Z",
     "iopub.status.busy": "2022-07-06T07:27:45.762982Z",
     "iopub.status.idle": "2022-07-06T07:27:45.777633Z",
     "shell.execute_reply": "2022-07-06T07:27:45.776698Z"
    },
    "id": "nUYRyY9q9nkO",
    "papermill": {
     "duration": 0.042418,
     "end_time": "2022-07-06T07:27:45.779847",
     "exception": false,
     "start_time": "2022-07-06T07:27:45.737429",
     "status": "completed"
    },
    "pycharm": {
     "name": "#%%\n"
    },
    "tags": []
   },
   "outputs": [],
   "source": [
    "model.compile(\n",
    "    optimizer = \"adam\",\n",
    "    loss = \"sparse_categorical_crossentropy\",\n",
    "    metrics = [\"accuracy\"]\n",
    ")"
   ]
  },
  {
   "cell_type": "code",
   "execution_count": 39,
   "id": "e734d1c4",
   "metadata": {
    "execution": {
     "iopub.execute_input": "2022-07-06T07:27:45.829720Z",
     "iopub.status.busy": "2022-07-06T07:27:45.829378Z",
     "iopub.status.idle": "2022-07-06T07:27:45.837224Z",
     "shell.execute_reply": "2022-07-06T07:27:45.836118Z"
    },
    "id": "nB8qbMVx9nm8",
    "papermill": {
     "duration": 0.036745,
     "end_time": "2022-07-06T07:27:45.840485",
     "exception": false,
     "start_time": "2022-07-06T07:27:45.803740",
     "status": "completed"
    },
    "pycharm": {
     "name": "#%%\n"
    },
    "tags": []
   },
   "outputs": [
    {
     "name": "stdout",
     "output_type": "stream",
     "text": [
      "Model: \"sequential_1\"\n",
      "_________________________________________________________________\n",
      "Layer (type)                 Output Shape              Param #   \n",
      "=================================================================\n",
      "sequential (Sequential)      (None, 32, 32, 3)         0         \n",
      "_________________________________________________________________\n",
      "conv2d (Conv2D)              (None, 30, 30, 32)        896       \n",
      "_________________________________________________________________\n",
      "batch_normalization (BatchNo (None, 30, 30, 32)        128       \n",
      "_________________________________________________________________\n",
      "max_pooling2d (MaxPooling2D) (None, 15, 15, 32)        0         \n",
      "_________________________________________________________________\n",
      "conv2d_1 (Conv2D)            (None, 13, 13, 32)        9248      \n",
      "_________________________________________________________________\n",
      "batch_normalization_1 (Batch (None, 13, 13, 32)        128       \n",
      "_________________________________________________________________\n",
      "max_pooling2d_1 (MaxPooling2 (None, 7, 7, 32)          0         \n",
      "_________________________________________________________________\n",
      "conv2d_2 (Conv2D)            (None, 5, 5, 64)          18496     \n",
      "_________________________________________________________________\n",
      "batch_normalization_2 (Batch (None, 5, 5, 64)          256       \n",
      "_________________________________________________________________\n",
      "max_pooling2d_2 (MaxPooling2 (None, 3, 3, 64)          0         \n",
      "_________________________________________________________________\n",
      "conv2d_3 (Conv2D)            (None, 1, 1, 64)          36928     \n",
      "_________________________________________________________________\n",
      "batch_normalization_3 (Batch (None, 1, 1, 64)          256       \n",
      "_________________________________________________________________\n",
      "max_pooling2d_3 (MaxPooling2 (None, 1, 1, 64)          0         \n",
      "_________________________________________________________________\n",
      "flatten (Flatten)            (None, 64)                0         \n",
      "_________________________________________________________________\n",
      "dense (Dense)                (None, 128)               8320      \n",
      "_________________________________________________________________\n",
      "batch_normalization_4 (Batch (None, 128)               512       \n",
      "_________________________________________________________________\n",
      "dense_1 (Dense)              (None, 64)                8256      \n",
      "_________________________________________________________________\n",
      "batch_normalization_5 (Batch (None, 64)                256       \n",
      "_________________________________________________________________\n",
      "dense_2 (Dense)              (None, 7)                 455       \n",
      "=================================================================\n",
      "Total params: 84,135\n",
      "Trainable params: 83,367\n",
      "Non-trainable params: 768\n",
      "_________________________________________________________________\n",
      "None\n"
     ]
    }
   ],
   "source": [
    "print(model.summary())"
   ]
  },
  {
   "cell_type": "code",
   "execution_count": 40,
   "id": "b2901b90",
   "metadata": {
    "execution": {
     "iopub.execute_input": "2022-07-06T07:27:45.891156Z",
     "iopub.status.busy": "2022-07-06T07:27:45.890794Z",
     "iopub.status.idle": "2022-07-06T07:32:08.695167Z",
     "shell.execute_reply": "2022-07-06T07:32:08.694133Z"
    },
    "id": "HxTzpFuy9nqG",
    "outputId": "78010450-2d83-4708-85eb-c5376c61a87d",
    "papermill": {
     "duration": 262.832593,
     "end_time": "2022-07-06T07:32:08.697509",
     "exception": false,
     "start_time": "2022-07-06T07:27:45.864916",
     "status": "completed"
    },
    "pycharm": {
     "name": "#%%\n"
    },
    "tags": []
   },
   "outputs": [
    {
     "name": "stderr",
     "output_type": "stream",
     "text": [
      "2022-07-06 07:27:46.268105: I tensorflow/compiler/mlir/mlir_graph_optimization_pass.cc:185] None of the MLIR Optimization Passes are enabled (registered 2)\n"
     ]
    },
    {
     "name": "stdout",
     "output_type": "stream",
     "text": [
      "Epoch 1/100\n"
     ]
    },
    {
     "name": "stderr",
     "output_type": "stream",
     "text": [
      "2022-07-06 07:27:48.584563: I tensorflow/stream_executor/cuda/cuda_dnn.cc:369] Loaded cuDNN version 8005\n"
     ]
    },
    {
     "name": "stdout",
     "output_type": "stream",
     "text": [
      "372/372 [==============================] - 11s 7ms/step - loss: 1.0030 - accuracy: 0.6371\n",
      "Epoch 2/100\n",
      "372/372 [==============================] - 2s 7ms/step - loss: 0.4587 - accuracy: 0.8458\n",
      "Epoch 3/100\n",
      "372/372 [==============================] - 2s 7ms/step - loss: 0.3352 - accuracy: 0.8829\n",
      "Epoch 4/100\n",
      "372/372 [==============================] - 3s 8ms/step - loss: 0.2898 - accuracy: 0.9031\n",
      "Epoch 5/100\n",
      "372/372 [==============================] - 3s 8ms/step - loss: 0.2415 - accuracy: 0.9169\n",
      "Epoch 6/100\n",
      "372/372 [==============================] - 3s 8ms/step - loss: 0.2060 - accuracy: 0.9311\n",
      "Epoch 7/100\n",
      "372/372 [==============================] - 3s 7ms/step - loss: 0.1854 - accuracy: 0.9361\n",
      "Epoch 8/100\n",
      "372/372 [==============================] - 3s 7ms/step - loss: 0.1756 - accuracy: 0.9445\n",
      "Epoch 9/100\n",
      "372/372 [==============================] - 2s 6ms/step - loss: 0.1668 - accuracy: 0.9435\n",
      "Epoch 10/100\n",
      "372/372 [==============================] - 2s 7ms/step - loss: 0.1494 - accuracy: 0.9497\n",
      "Epoch 11/100\n",
      "372/372 [==============================] - 2s 7ms/step - loss: 0.1495 - accuracy: 0.9508\n",
      "Epoch 12/100\n",
      "372/372 [==============================] - 3s 7ms/step - loss: 0.1438 - accuracy: 0.9515\n",
      "Epoch 13/100\n",
      "372/372 [==============================] - 2s 7ms/step - loss: 0.1335 - accuracy: 0.9571\n",
      "Epoch 14/100\n",
      "372/372 [==============================] - 2s 7ms/step - loss: 0.1242 - accuracy: 0.9591\n",
      "Epoch 15/100\n",
      "372/372 [==============================] - 2s 6ms/step - loss: 0.1204 - accuracy: 0.9605\n",
      "Epoch 16/100\n",
      "372/372 [==============================] - 3s 7ms/step - loss: 0.1151 - accuracy: 0.9608\n",
      "Epoch 17/100\n",
      "372/372 [==============================] - 2s 7ms/step - loss: 0.1065 - accuracy: 0.9652\n",
      "Epoch 18/100\n",
      "372/372 [==============================] - 2s 6ms/step - loss: 0.1112 - accuracy: 0.9637\n",
      "Epoch 19/100\n",
      "372/372 [==============================] - 2s 6ms/step - loss: 0.1076 - accuracy: 0.9628\n",
      "Epoch 20/100\n",
      "372/372 [==============================] - 3s 9ms/step - loss: 0.1121 - accuracy: 0.9645\n",
      "Epoch 21/100\n",
      "372/372 [==============================] - 2s 7ms/step - loss: 0.0984 - accuracy: 0.9685\n",
      "Epoch 22/100\n",
      "372/372 [==============================] - 2s 7ms/step - loss: 0.0929 - accuracy: 0.9692\n",
      "Epoch 23/100\n",
      "372/372 [==============================] - 2s 7ms/step - loss: 0.0931 - accuracy: 0.9695\n",
      "Epoch 24/100\n",
      "372/372 [==============================] - 2s 7ms/step - loss: 0.0888 - accuracy: 0.9718\n",
      "Epoch 25/100\n",
      "372/372 [==============================] - 3s 7ms/step - loss: 0.0878 - accuracy: 0.9740\n",
      "Epoch 26/100\n",
      "372/372 [==============================] - 2s 6ms/step - loss: 0.0916 - accuracy: 0.9694\n",
      "Epoch 27/100\n",
      "372/372 [==============================] - 2s 6ms/step - loss: 0.0871 - accuracy: 0.9712\n",
      "Epoch 28/100\n",
      "372/372 [==============================] - 2s 7ms/step - loss: 0.0780 - accuracy: 0.9742\n",
      "Epoch 29/100\n",
      "372/372 [==============================] - 3s 7ms/step - loss: 0.0821 - accuracy: 0.9728\n",
      "Epoch 30/100\n",
      "372/372 [==============================] - 2s 6ms/step - loss: 0.0839 - accuracy: 0.9718\n",
      "Epoch 31/100\n",
      "372/372 [==============================] - 2s 7ms/step - loss: 0.0646 - accuracy: 0.9801\n",
      "Epoch 32/100\n",
      "372/372 [==============================] - 3s 8ms/step - loss: 0.0814 - accuracy: 0.9730\n",
      "Epoch 33/100\n",
      "372/372 [==============================] - 3s 7ms/step - loss: 0.0660 - accuracy: 0.9779\n",
      "Epoch 34/100\n",
      "372/372 [==============================] - 2s 6ms/step - loss: 0.0789 - accuracy: 0.9748\n",
      "Epoch 35/100\n",
      "372/372 [==============================] - 2s 6ms/step - loss: 0.0702 - accuracy: 0.9770\n",
      "Epoch 36/100\n",
      "372/372 [==============================] - 2s 6ms/step - loss: 0.0691 - accuracy: 0.9761\n",
      "Epoch 37/100\n",
      "372/372 [==============================] - 2s 6ms/step - loss: 0.0687 - accuracy: 0.9781\n",
      "Epoch 38/100\n",
      "372/372 [==============================] - 3s 7ms/step - loss: 0.0628 - accuracy: 0.9795\n",
      "Epoch 39/100\n",
      "372/372 [==============================] - 2s 6ms/step - loss: 0.0646 - accuracy: 0.9773\n",
      "Epoch 40/100\n",
      "372/372 [==============================] - 2s 7ms/step - loss: 0.0669 - accuracy: 0.9787\n",
      "Epoch 41/100\n",
      "372/372 [==============================] - 2s 6ms/step - loss: 0.0693 - accuracy: 0.9778\n",
      "Epoch 42/100\n",
      "372/372 [==============================] - 3s 7ms/step - loss: 0.0603 - accuracy: 0.9797\n",
      "Epoch 43/100\n",
      "372/372 [==============================] - 3s 7ms/step - loss: 0.0657 - accuracy: 0.9785\n",
      "Epoch 44/100\n",
      "372/372 [==============================] - 3s 7ms/step - loss: 0.0610 - accuracy: 0.9798\n",
      "Epoch 45/100\n",
      "372/372 [==============================] - 3s 8ms/step - loss: 0.0656 - accuracy: 0.9784\n",
      "Epoch 46/100\n",
      "372/372 [==============================] - 3s 7ms/step - loss: 0.0524 - accuracy: 0.9821\n",
      "Epoch 47/100\n",
      "372/372 [==============================] - 2s 6ms/step - loss: 0.0552 - accuracy: 0.9821\n",
      "Epoch 48/100\n",
      "372/372 [==============================] - 2s 6ms/step - loss: 0.0638 - accuracy: 0.9802\n",
      "Epoch 49/100\n",
      "372/372 [==============================] - 2s 6ms/step - loss: 0.0498 - accuracy: 0.9844\n",
      "Epoch 50/100\n",
      "372/372 [==============================] - 2s 6ms/step - loss: 0.0583 - accuracy: 0.9819\n",
      "Epoch 51/100\n",
      "372/372 [==============================] - 3s 7ms/step - loss: 0.0543 - accuracy: 0.9819\n",
      "Epoch 52/100\n",
      "372/372 [==============================] - 2s 6ms/step - loss: 0.0511 - accuracy: 0.9818\n",
      "Epoch 53/100\n",
      "372/372 [==============================] - 2s 6ms/step - loss: 0.0478 - accuracy: 0.9842\n",
      "Epoch 54/100\n",
      "372/372 [==============================] - 2s 6ms/step - loss: 0.0548 - accuracy: 0.9821\n",
      "Epoch 55/100\n",
      "372/372 [==============================] - 3s 7ms/step - loss: 0.0480 - accuracy: 0.9847\n",
      "Epoch 56/100\n",
      "372/372 [==============================] - 3s 7ms/step - loss: 0.0531 - accuracy: 0.9835\n",
      "Epoch 57/100\n",
      "372/372 [==============================] - 2s 6ms/step - loss: 0.0542 - accuracy: 0.9829\n",
      "Epoch 58/100\n",
      "372/372 [==============================] - 3s 8ms/step - loss: 0.0486 - accuracy: 0.9827\n",
      "Epoch 59/100\n",
      "372/372 [==============================] - 3s 7ms/step - loss: 0.0525 - accuracy: 0.9827\n",
      "Epoch 60/100\n",
      "372/372 [==============================] - 2s 7ms/step - loss: 0.0439 - accuracy: 0.9855\n",
      "Epoch 61/100\n",
      "372/372 [==============================] - 2s 6ms/step - loss: 0.0422 - accuracy: 0.9871\n",
      "Epoch 62/100\n",
      "372/372 [==============================] - 2s 6ms/step - loss: 0.0446 - accuracy: 0.9855\n",
      "Epoch 63/100\n",
      "372/372 [==============================] - 2s 6ms/step - loss: 0.0501 - accuracy: 0.9837\n",
      "Epoch 64/100\n",
      "372/372 [==============================] - 3s 7ms/step - loss: 0.0419 - accuracy: 0.9851\n",
      "Epoch 65/100\n",
      "372/372 [==============================] - 2s 6ms/step - loss: 0.0441 - accuracy: 0.9855\n",
      "Epoch 66/100\n",
      "372/372 [==============================] - 2s 6ms/step - loss: 0.0532 - accuracy: 0.9834\n",
      "Epoch 67/100\n",
      "372/372 [==============================] - 2s 6ms/step - loss: 0.0430 - accuracy: 0.9847\n",
      "Epoch 68/100\n",
      "372/372 [==============================] - 3s 7ms/step - loss: 0.0425 - accuracy: 0.9866\n",
      "Epoch 69/100\n",
      "372/372 [==============================] - 3s 7ms/step - loss: 0.0408 - accuracy: 0.9861\n",
      "Epoch 70/100\n",
      "372/372 [==============================] - 2s 7ms/step - loss: 0.0445 - accuracy: 0.9845\n",
      "Epoch 71/100\n",
      "372/372 [==============================] - 3s 7ms/step - loss: 0.0411 - accuracy: 0.9861\n",
      "Epoch 72/100\n",
      "372/372 [==============================] - 3s 7ms/step - loss: 0.0445 - accuracy: 0.9860\n",
      "Epoch 73/100\n",
      "372/372 [==============================] - 3s 7ms/step - loss: 0.0373 - accuracy: 0.9875\n",
      "Epoch 74/100\n",
      "372/372 [==============================] - 2s 6ms/step - loss: 0.0419 - accuracy: 0.9855\n",
      "Epoch 75/100\n",
      "372/372 [==============================] - 2s 6ms/step - loss: 0.0399 - accuracy: 0.9877\n",
      "Epoch 76/100\n",
      "372/372 [==============================] - 2s 7ms/step - loss: 0.0397 - accuracy: 0.9864\n",
      "Epoch 77/100\n",
      "372/372 [==============================] - 3s 7ms/step - loss: 0.0389 - accuracy: 0.9868\n",
      "Epoch 78/100\n",
      "372/372 [==============================] - 2s 6ms/step - loss: 0.0377 - accuracy: 0.9870\n",
      "Epoch 79/100\n",
      "372/372 [==============================] - 2s 6ms/step - loss: 0.0424 - accuracy: 0.9861\n",
      "Epoch 80/100\n",
      "372/372 [==============================] - 2s 6ms/step - loss: 0.0357 - accuracy: 0.9875\n",
      "Epoch 81/100\n",
      "372/372 [==============================] - 3s 7ms/step - loss: 0.0341 - accuracy: 0.9881\n",
      "Epoch 82/100\n",
      "372/372 [==============================] - 3s 7ms/step - loss: 0.0394 - accuracy: 0.9871\n",
      "Epoch 83/100\n",
      "372/372 [==============================] - 2s 6ms/step - loss: 0.0367 - accuracy: 0.9877\n",
      "Epoch 84/100\n",
      "372/372 [==============================] - 3s 7ms/step - loss: 0.0419 - accuracy: 0.9868\n",
      "Epoch 85/100\n",
      "372/372 [==============================] - 3s 8ms/step - loss: 0.0339 - accuracy: 0.9887\n",
      "Epoch 86/100\n",
      "372/372 [==============================] - 3s 7ms/step - loss: 0.0395 - accuracy: 0.9877\n",
      "Epoch 87/100\n",
      "372/372 [==============================] - 2s 6ms/step - loss: 0.0378 - accuracy: 0.9881\n",
      "Epoch 88/100\n",
      "372/372 [==============================] - 2s 6ms/step - loss: 0.0378 - accuracy: 0.9870\n",
      "Epoch 89/100\n",
      "372/372 [==============================] - 2s 6ms/step - loss: 0.0336 - accuracy: 0.9882\n",
      "Epoch 90/100\n",
      "372/372 [==============================] - 3s 7ms/step - loss: 0.0339 - accuracy: 0.9882\n",
      "Epoch 91/100\n",
      "372/372 [==============================] - 2s 6ms/step - loss: 0.0371 - accuracy: 0.9883\n",
      "Epoch 92/100\n",
      "372/372 [==============================] - 2s 6ms/step - loss: 0.0330 - accuracy: 0.9892\n",
      "Epoch 93/100\n",
      "372/372 [==============================] - 3s 7ms/step - loss: 0.0388 - accuracy: 0.9870\n",
      "Epoch 94/100\n",
      "372/372 [==============================] - 2s 6ms/step - loss: 0.0350 - accuracy: 0.9887\n",
      "Epoch 95/100\n",
      "372/372 [==============================] - 3s 7ms/step - loss: 0.0323 - accuracy: 0.9896\n",
      "Epoch 96/100\n",
      "372/372 [==============================] - 2s 6ms/step - loss: 0.0344 - accuracy: 0.9882\n",
      "Epoch 97/100\n",
      "372/372 [==============================] - 3s 8ms/step - loss: 0.0355 - accuracy: 0.9877\n",
      "Epoch 98/100\n",
      "372/372 [==============================] - 2s 6ms/step - loss: 0.0337 - accuracy: 0.9892\n",
      "Epoch 99/100\n",
      "372/372 [==============================] - 3s 7ms/step - loss: 0.0355 - accuracy: 0.9876\n",
      "Epoch 100/100\n",
      "372/372 [==============================] - 2s 7ms/step - loss: 0.0274 - accuracy: 0.9902\n"
     ]
    },
    {
     "data": {
      "text/plain": [
       "<keras.callbacks.History at 0x7f390e866190>"
      ]
     },
     "execution_count": 40,
     "metadata": {},
     "output_type": "execute_result"
    }
   ],
   "source": [
    "model.fit(X_train_scaled, y_train, epochs = 100)"
   ]
  },
  {
   "cell_type": "code",
   "execution_count": 41,
   "id": "b084bd77",
   "metadata": {
    "execution": {
     "iopub.execute_input": "2022-07-06T07:32:09.355078Z",
     "iopub.status.busy": "2022-07-06T07:32:09.354714Z",
     "iopub.status.idle": "2022-07-06T07:32:09.844059Z",
     "shell.execute_reply": "2022-07-06T07:32:09.843169Z"
    },
    "id": "tvNkGlA69ntM",
    "papermill": {
     "duration": 0.814986,
     "end_time": "2022-07-06T07:32:09.846098",
     "exception": false,
     "start_time": "2022-07-06T07:32:09.031112",
     "status": "completed"
    },
    "pycharm": {
     "name": "#%%\n"
    },
    "tags": []
   },
   "outputs": [
    {
     "name": "stdout",
     "output_type": "stream",
     "text": [
      "66/66 [==============================] - 0s 3ms/step - loss: 0.0273 - accuracy: 0.9905\n"
     ]
    },
    {
     "data": {
      "text/plain": [
       "[0.02734367363154888, 0.9904761910438538]"
      ]
     },
     "execution_count": 41,
     "metadata": {},
     "output_type": "execute_result"
    }
   ],
   "source": [
    "model.evaluate(X_test_scaled, y_test)"
   ]
  },
  {
   "cell_type": "code",
   "execution_count": 42,
   "id": "f309a3af",
   "metadata": {
    "execution": {
     "iopub.execute_input": "2022-07-06T07:32:10.539277Z",
     "iopub.status.busy": "2022-07-06T07:32:10.538918Z",
     "iopub.status.idle": "2022-07-06T07:32:10.546272Z",
     "shell.execute_reply": "2022-07-06T07:32:10.545347Z"
    },
    "id": "lJZtnZL79gmc",
    "papermill": {
     "duration": 0.336448,
     "end_time": "2022-07-06T07:32:10.549501",
     "exception": false,
     "start_time": "2022-07-06T07:32:10.213053",
     "status": "completed"
    },
    "pycharm": {
     "name": "#%%\n"
    },
    "tags": []
   },
   "outputs": [
    {
     "name": "stdout",
     "output_type": "stream",
     "text": [
      "Model: \"sequential_1\"\n",
      "_________________________________________________________________\n",
      "Layer (type)                 Output Shape              Param #   \n",
      "=================================================================\n",
      "sequential (Sequential)      (None, 32, 32, 3)         0         \n",
      "_________________________________________________________________\n",
      "conv2d (Conv2D)              (None, 30, 30, 32)        896       \n",
      "_________________________________________________________________\n",
      "batch_normalization (BatchNo (None, 30, 30, 32)        128       \n",
      "_________________________________________________________________\n",
      "max_pooling2d (MaxPooling2D) (None, 15, 15, 32)        0         \n",
      "_________________________________________________________________\n",
      "conv2d_1 (Conv2D)            (None, 13, 13, 32)        9248      \n",
      "_________________________________________________________________\n",
      "batch_normalization_1 (Batch (None, 13, 13, 32)        128       \n",
      "_________________________________________________________________\n",
      "max_pooling2d_1 (MaxPooling2 (None, 7, 7, 32)          0         \n",
      "_________________________________________________________________\n",
      "conv2d_2 (Conv2D)            (None, 5, 5, 64)          18496     \n",
      "_________________________________________________________________\n",
      "batch_normalization_2 (Batch (None, 5, 5, 64)          256       \n",
      "_________________________________________________________________\n",
      "max_pooling2d_2 (MaxPooling2 (None, 3, 3, 64)          0         \n",
      "_________________________________________________________________\n",
      "conv2d_3 (Conv2D)            (None, 1, 1, 64)          36928     \n",
      "_________________________________________________________________\n",
      "batch_normalization_3 (Batch (None, 1, 1, 64)          256       \n",
      "_________________________________________________________________\n",
      "max_pooling2d_3 (MaxPooling2 (None, 1, 1, 64)          0         \n",
      "_________________________________________________________________\n",
      "flatten (Flatten)            (None, 64)                0         \n",
      "_________________________________________________________________\n",
      "dense (Dense)                (None, 128)               8320      \n",
      "_________________________________________________________________\n",
      "batch_normalization_4 (Batch (None, 128)               512       \n",
      "_________________________________________________________________\n",
      "dense_1 (Dense)              (None, 64)                8256      \n",
      "_________________________________________________________________\n",
      "batch_normalization_5 (Batch (None, 64)                256       \n",
      "_________________________________________________________________\n",
      "dense_2 (Dense)              (None, 7)                 455       \n",
      "=================================================================\n",
      "Total params: 84,135\n",
      "Trainable params: 83,367\n",
      "Non-trainable params: 768\n",
      "_________________________________________________________________\n",
      "None\n"
     ]
    }
   ],
   "source": [
    "print(model.summary())"
   ]
  },
  {
   "cell_type": "code",
   "execution_count": 43,
   "id": "482cf54b",
   "metadata": {
    "execution": {
     "iopub.execute_input": "2022-07-06T07:32:11.193658Z",
     "iopub.status.busy": "2022-07-06T07:32:11.193316Z",
     "iopub.status.idle": "2022-07-06T07:32:11.582443Z",
     "shell.execute_reply": "2022-07-06T07:32:11.581535Z"
    },
    "id": "xh6Iw21j9xzx",
    "papermill": {
     "duration": 0.711925,
     "end_time": "2022-07-06T07:32:11.584502",
     "exception": false,
     "start_time": "2022-07-06T07:32:10.872577",
     "status": "completed"
    },
    "pycharm": {
     "name": "#%%\n"
    },
    "tags": []
   },
   "outputs": [
    {
     "name": "stdout",
     "output_type": "stream",
     "text": [
      "66/66 [==============================] - 0s 3ms/step - loss: 0.0273 - accuracy: 0.9905\n"
     ]
    },
    {
     "data": {
      "text/plain": [
       "[0.02734367363154888, 0.9904761910438538]"
      ]
     },
     "execution_count": 43,
     "metadata": {},
     "output_type": "execute_result"
    }
   ],
   "source": [
    "model.evaluate(X_test_scaled, y_test)"
   ]
  },
  {
   "cell_type": "code",
   "execution_count": null,
   "id": "bd4384ef",
   "metadata": {
    "id": "ZT59gu761UwN",
    "papermill": {
     "duration": 0.369235,
     "end_time": "2022-07-06T07:32:12.279209",
     "exception": false,
     "start_time": "2022-07-06T07:32:11.909974",
     "status": "completed"
    },
    "tags": []
   },
   "outputs": [],
   "source": []
  },
  {
   "cell_type": "code",
   "execution_count": null,
   "id": "99bd61e7",
   "metadata": {
    "id": "VIULvZbA1Uyg",
    "papermill": {
     "duration": 0.321852,
     "end_time": "2022-07-06T07:32:12.925436",
     "exception": false,
     "start_time": "2022-07-06T07:32:12.603584",
     "status": "completed"
    },
    "tags": []
   },
   "outputs": [],
   "source": []
  },
  {
   "cell_type": "code",
   "execution_count": null,
   "id": "0b31111f",
   "metadata": {
    "id": "wHbRadbS1U1H",
    "papermill": {
     "duration": 0.322292,
     "end_time": "2022-07-06T07:32:13.572914",
     "exception": false,
     "start_time": "2022-07-06T07:32:13.250622",
     "status": "completed"
    },
    "tags": []
   },
   "outputs": [],
   "source": []
  },
  {
   "cell_type": "code",
   "execution_count": 44,
   "id": "f8a1440c",
   "metadata": {
    "execution": {
     "iopub.execute_input": "2022-07-06T07:32:14.261719Z",
     "iopub.status.busy": "2022-07-06T07:32:14.261362Z",
     "iopub.status.idle": "2022-07-06T07:32:14.334221Z",
     "shell.execute_reply": "2022-07-06T07:32:14.333291Z"
    },
    "id": "8ZCThWDf1U3n",
    "papermill": {
     "duration": 0.397813,
     "end_time": "2022-07-06T07:32:14.336273",
     "exception": false,
     "start_time": "2022-07-06T07:32:13.938460",
     "status": "completed"
    },
    "tags": []
   },
   "outputs": [
    {
     "data": {
      "text/plain": [
       "94205"
      ]
     },
     "execution_count": 44,
     "metadata": {},
     "output_type": "execute_result"
    }
   ],
   "source": [
    "url = 'https://raw.githubusercontent.com/mickee00000/Research_Internship/main/part1.jpeg'\n",
    "r = requests.get(url, allow_redirects=True)\n",
    "open('part1.jpeg', 'wb').write(r.content)"
   ]
  },
  {
   "cell_type": "code",
   "execution_count": 45,
   "id": "873d5da1",
   "metadata": {
    "execution": {
     "iopub.execute_input": "2022-07-06T07:32:14.983327Z",
     "iopub.status.busy": "2022-07-06T07:32:14.982946Z",
     "iopub.status.idle": "2022-07-06T07:32:15.023754Z",
     "shell.execute_reply": "2022-07-06T07:32:15.022824Z"
    },
    "id": "w5o1C8TXCi1u",
    "papermill": {
     "duration": 0.364021,
     "end_time": "2022-07-06T07:32:15.025876",
     "exception": false,
     "start_time": "2022-07-06T07:32:14.661855",
     "status": "completed"
    },
    "pycharm": {
     "name": "#%%\n"
    },
    "tags": []
   },
   "outputs": [],
   "source": [
    "notes = cv2.imread(\"part1.jpeg\")\n",
    "gray = cv2.cvtColor(notes, cv2.COLOR_BGR2GRAY)"
   ]
  },
  {
   "cell_type": "code",
   "execution_count": 46,
   "id": "b6b8e36a",
   "metadata": {
    "execution": {
     "iopub.execute_input": "2022-07-06T07:32:15.840734Z",
     "iopub.status.busy": "2022-07-06T07:32:15.840286Z",
     "iopub.status.idle": "2022-07-06T07:32:15.852317Z",
     "shell.execute_reply": "2022-07-06T07:32:15.851323Z"
    },
    "id": "j8Eq8ENykmW9",
    "papermill": {
     "duration": 0.510528,
     "end_time": "2022-07-06T07:32:15.854990",
     "exception": false,
     "start_time": "2022-07-06T07:32:15.344462",
     "status": "completed"
    },
    "pycharm": {
     "name": "#%%\n"
    },
    "tags": []
   },
   "outputs": [],
   "source": [
    "ret, thresh1 = cv2.threshold(gray, 0, 255, cv2.THRESH_OTSU | cv2.THRESH_BINARY_INV)"
   ]
  },
  {
   "cell_type": "code",
   "execution_count": 47,
   "id": "7621aa19",
   "metadata": {
    "execution": {
     "iopub.execute_input": "2022-07-06T07:32:16.629984Z",
     "iopub.status.busy": "2022-07-06T07:32:16.629638Z",
     "iopub.status.idle": "2022-07-06T07:32:16.635442Z",
     "shell.execute_reply": "2022-07-06T07:32:16.634498Z"
    },
    "id": "QLP-4xy5kobR",
    "papermill": {
     "duration": 0.33634,
     "end_time": "2022-07-06T07:32:16.637547",
     "exception": false,
     "start_time": "2022-07-06T07:32:16.301207",
     "status": "completed"
    },
    "pycharm": {
     "name": "#%%\n"
    },
    "tags": []
   },
   "outputs": [],
   "source": [
    "rect_kernel = cv2.getStructuringElement(cv2.MORPH_RECT, (5, 5))"
   ]
  },
  {
   "cell_type": "code",
   "execution_count": 48,
   "id": "cac16827",
   "metadata": {
    "execution": {
     "iopub.execute_input": "2022-07-06T07:32:17.281826Z",
     "iopub.status.busy": "2022-07-06T07:32:17.281484Z",
     "iopub.status.idle": "2022-07-06T07:32:17.295332Z",
     "shell.execute_reply": "2022-07-06T07:32:17.294440Z"
    },
    "id": "XCx3Q4sDkq0q",
    "papermill": {
     "duration": 0.340313,
     "end_time": "2022-07-06T07:32:17.297585",
     "exception": false,
     "start_time": "2022-07-06T07:32:16.957272",
     "status": "completed"
    },
    "pycharm": {
     "name": "#%%\n"
    },
    "tags": []
   },
   "outputs": [],
   "source": [
    "dilation = cv2.dilate(thresh1, rect_kernel, iterations=1)"
   ]
  },
  {
   "cell_type": "code",
   "execution_count": 49,
   "id": "98d20013",
   "metadata": {
    "execution": {
     "iopub.execute_input": "2022-07-06T07:32:17.984770Z",
     "iopub.status.busy": "2022-07-06T07:32:17.984409Z",
     "iopub.status.idle": "2022-07-06T07:32:17.997081Z",
     "shell.execute_reply": "2022-07-06T07:32:17.996000Z"
    },
    "id": "n7de20UHksRX",
    "papermill": {
     "duration": 0.33905,
     "end_time": "2022-07-06T07:32:17.999317",
     "exception": false,
     "start_time": "2022-07-06T07:32:17.660267",
     "status": "completed"
    },
    "pycharm": {
     "name": "#%%\n"
    },
    "tags": []
   },
   "outputs": [],
   "source": [
    "contours, hierarchy = cv2.findContours(dilation, cv2.RETR_EXTERNAL, cv2.CHAIN_APPROX_NONE)"
   ]
  },
  {
   "cell_type": "code",
   "execution_count": 50,
   "id": "8fbc6ef8",
   "metadata": {
    "execution": {
     "iopub.execute_input": "2022-07-06T07:32:18.632906Z",
     "iopub.status.busy": "2022-07-06T07:32:18.632556Z",
     "iopub.status.idle": "2022-07-06T07:32:18.637881Z",
     "shell.execute_reply": "2022-07-06T07:32:18.636963Z"
    },
    "id": "NA4UqBbxkvM-",
    "papermill": {
     "duration": 0.326503,
     "end_time": "2022-07-06T07:32:18.640457",
     "exception": false,
     "start_time": "2022-07-06T07:32:18.313954",
     "status": "completed"
    },
    "pycharm": {
     "name": "#%%\n"
    },
    "tags": []
   },
   "outputs": [
    {
     "name": "stdout",
     "output_type": "stream",
     "text": [
      "234\n"
     ]
    }
   ],
   "source": [
    "print(len(contours))"
   ]
  },
  {
   "cell_type": "code",
   "execution_count": 51,
   "id": "274ff627",
   "metadata": {
    "execution": {
     "iopub.execute_input": "2022-07-06T07:32:19.322647Z",
     "iopub.status.busy": "2022-07-06T07:32:19.322296Z",
     "iopub.status.idle": "2022-07-06T07:32:19.328414Z",
     "shell.execute_reply": "2022-07-06T07:32:19.327494Z"
    },
    "id": "YA06PSbikwrO",
    "papermill": {
     "duration": 0.374884,
     "end_time": "2022-07-06T07:32:19.330698",
     "exception": false,
     "start_time": "2022-07-06T07:32:18.955814",
     "status": "completed"
    },
    "pycharm": {
     "name": "#%%\n"
    },
    "tags": []
   },
   "outputs": [],
   "source": [
    "notes2 = notes.copy()"
   ]
  },
  {
   "cell_type": "code",
   "execution_count": 52,
   "id": "2a4912ae",
   "metadata": {
    "execution": {
     "iopub.execute_input": "2022-07-06T07:32:19.970204Z",
     "iopub.status.busy": "2022-07-06T07:32:19.969273Z",
     "iopub.status.idle": "2022-07-06T07:32:19.974062Z",
     "shell.execute_reply": "2022-07-06T07:32:19.973016Z"
    },
    "id": "-BTnga1Jk5cD",
    "papermill": {
     "duration": 0.326403,
     "end_time": "2022-07-06T07:32:19.976269",
     "exception": false,
     "start_time": "2022-07-06T07:32:19.649866",
     "status": "completed"
    },
    "pycharm": {
     "name": "#%%\n"
    },
    "tags": []
   },
   "outputs": [],
   "source": [
    "new_contours = []"
   ]
  },
  {
   "cell_type": "code",
   "execution_count": 53,
   "id": "d6723640",
   "metadata": {
    "execution": {
     "iopub.execute_input": "2022-07-06T07:32:20.608999Z",
     "iopub.status.busy": "2022-07-06T07:32:20.608656Z",
     "iopub.status.idle": "2022-07-06T07:32:20.617967Z",
     "shell.execute_reply": "2022-07-06T07:32:20.617099Z"
    },
    "id": "yZ3irS-ik6tY",
    "papermill": {
     "duration": 0.328332,
     "end_time": "2022-07-06T07:32:20.619990",
     "exception": false,
     "start_time": "2022-07-06T07:32:20.291658",
     "status": "completed"
    },
    "pycharm": {
     "name": "#%%\n"
    },
    "tags": []
   },
   "outputs": [],
   "source": [
    "for cnt in contours:\n",
    "    x, y, w, h = cv2.boundingRect(cnt)\n",
    "    aspect_ratio_1 = h / w\n",
    "    aspect_ratio_2 = w / h\n",
    "    if aspect_ratio_1 < 3 and aspect_ratio_2 < 2 and w > 18 and h > 20:\n",
    "        new_contours.append(cnt)"
   ]
  },
  {
   "cell_type": "code",
   "execution_count": 54,
   "id": "03efee06",
   "metadata": {
    "execution": {
     "iopub.execute_input": "2022-07-06T07:32:21.306709Z",
     "iopub.status.busy": "2022-07-06T07:32:21.306374Z",
     "iopub.status.idle": "2022-07-06T07:32:21.310548Z",
     "shell.execute_reply": "2022-07-06T07:32:21.309607Z"
    },
    "id": "6Q6ILBmf37Sy",
    "papermill": {
     "duration": 0.325892,
     "end_time": "2022-07-06T07:32:21.312589",
     "exception": false,
     "start_time": "2022-07-06T07:32:20.986697",
     "status": "completed"
    },
    "pycharm": {
     "name": "#%%\n"
    },
    "tags": []
   },
   "outputs": [],
   "source": [
    "passer = []"
   ]
  },
  {
   "cell_type": "code",
   "execution_count": 55,
   "id": "c636d7a7",
   "metadata": {
    "execution": {
     "iopub.execute_input": "2022-07-06T07:32:21.948008Z",
     "iopub.status.busy": "2022-07-06T07:32:21.947663Z",
     "iopub.status.idle": "2022-07-06T07:32:21.974695Z",
     "shell.execute_reply": "2022-07-06T07:32:21.973809Z"
    },
    "id": "HvX6PL_s4AFG",
    "papermill": {
     "duration": 0.347152,
     "end_time": "2022-07-06T07:32:21.976775",
     "exception": false,
     "start_time": "2022-07-06T07:32:21.629623",
     "status": "completed"
    },
    "pycharm": {
     "name": "#%%\n"
    },
    "tags": []
   },
   "outputs": [],
   "source": [
    "num = len(new_contours) - 1\n",
    "for cnt in new_contours:\n",
    "    x, y, w, h = cv2.boundingRect(cnt)\n",
    "    cropped = thresh1[y:y + h, x:x + w]\n",
    "    cropped = cv2.cvtColor(cropped, cv2.IMREAD_GRAYSCALE)\n",
    "    cropped = cv2.cvtColor(cropped, cv2.COLOR_BGRA2BGR)\n",
    "    cropped = cv2.resize(cropped,(32,32))\n",
    "    _, cropped = cv2.threshold(cropped, 127,255, cv2.THRESH_BINARY)\n",
    "    cropped = cv2.bitwise_not(cropped)\n",
    "\n",
    "    passer.append(cropped)\n",
    "    cv2.rectangle(notes, (x-5, y-5), (x + w+5, y + h+5), (0, 0, 255), 2)\n",
    "    cv2.putText(notes, \"{}\".format(num + 1), (x + 40, y - 10), cv2.FONT_HERSHEY_SIMPLEX, 0.5,(0, 0, 255), 2)\n",
    "    num-=1"
   ]
  },
  {
   "cell_type": "code",
   "execution_count": null,
   "id": "99e678ae",
   "metadata": {
    "id": "drXYh_6vN9nz",
    "papermill": {
     "duration": 0.358833,
     "end_time": "2022-07-06T07:32:22.654101",
     "exception": false,
     "start_time": "2022-07-06T07:32:22.295268",
     "status": "completed"
    },
    "tags": []
   },
   "outputs": [],
   "source": []
  },
  {
   "cell_type": "code",
   "execution_count": 56,
   "id": "75f03fbb",
   "metadata": {
    "execution": {
     "iopub.execute_input": "2022-07-06T07:32:23.285710Z",
     "iopub.status.busy": "2022-07-06T07:32:23.285370Z",
     "iopub.status.idle": "2022-07-06T07:32:23.289769Z",
     "shell.execute_reply": "2022-07-06T07:32:23.288841Z"
    },
    "id": "ZCeKhsUV4Fvy",
    "papermill": {
     "duration": 0.323118,
     "end_time": "2022-07-06T07:32:23.291736",
     "exception": false,
     "start_time": "2022-07-06T07:32:22.968618",
     "status": "completed"
    },
    "pycharm": {
     "name": "#%%\n"
    },
    "tags": []
   },
   "outputs": [],
   "source": [
    "passer.reverse()"
   ]
  },
  {
   "cell_type": "code",
   "execution_count": 57,
   "id": "f95d0918",
   "metadata": {
    "execution": {
     "iopub.execute_input": "2022-07-06T07:32:23.923569Z",
     "iopub.status.busy": "2022-07-06T07:32:23.923235Z",
     "iopub.status.idle": "2022-07-06T07:32:23.930177Z",
     "shell.execute_reply": "2022-07-06T07:32:23.929095Z"
    },
    "id": "3elsqFIYBSDx",
    "papermill": {
     "duration": 0.324204,
     "end_time": "2022-07-06T07:32:23.932144",
     "exception": false,
     "start_time": "2022-07-06T07:32:23.607940",
     "status": "completed"
    },
    "tags": []
   },
   "outputs": [
    {
     "data": {
      "text/plain": [
       "(152, 32, 32, 3)"
      ]
     },
     "execution_count": 57,
     "metadata": {},
     "output_type": "execute_result"
    }
   ],
   "source": [
    "np.array(passer).shape"
   ]
  },
  {
   "cell_type": "markdown",
   "id": "11aef3b9",
   "metadata": {
    "id": "8zL_Jqzq8O49",
    "papermill": {
     "duration": 0.317926,
     "end_time": "2022-07-06T07:32:24.608428",
     "exception": false,
     "start_time": "2022-07-06T07:32:24.290502",
     "status": "completed"
    },
    "pycharm": {
     "name": "#%% md\n"
    },
    "tags": []
   },
   "source": [
    "j = 1 \n",
    "path= '/tmp/'\n",
    "for i in passer:\n",
    "  cv2.imwrite(str(path)+str(j)+'.jpeg', i)\n",
    "  j+=1\n"
   ]
  },
  {
   "cell_type": "code",
   "execution_count": 58,
   "id": "1e0e17a6",
   "metadata": {
    "execution": {
     "iopub.execute_input": "2022-07-06T07:32:25.250067Z",
     "iopub.status.busy": "2022-07-06T07:32:25.249726Z",
     "iopub.status.idle": "2022-07-06T07:32:25.287878Z",
     "shell.execute_reply": "2022-07-06T07:32:25.286926Z"
    },
    "id": "0aFghisqlC4r",
    "papermill": {
     "duration": 0.359311,
     "end_time": "2022-07-06T07:32:25.289905",
     "exception": false,
     "start_time": "2022-07-06T07:32:24.930594",
     "status": "completed"
    },
    "pycharm": {
     "name": "#%%\n"
    },
    "tags": []
   },
   "outputs": [
    {
     "data": {
      "text/plain": [
       "True"
      ]
     },
     "execution_count": 58,
     "metadata": {},
     "output_type": "execute_result"
    }
   ],
   "source": [
    "cv2.imwrite('bounded.jpeg', notes)"
   ]
  },
  {
   "cell_type": "code",
   "execution_count": 59,
   "id": "f0e9d1f9",
   "metadata": {
    "execution": {
     "iopub.execute_input": "2022-07-06T07:32:25.974013Z",
     "iopub.status.busy": "2022-07-06T07:32:25.972994Z",
     "iopub.status.idle": "2022-07-06T07:32:26.334774Z",
     "shell.execute_reply": "2022-07-06T07:32:26.333811Z"
    },
    "id": "C2AaNPgSk_9r",
    "papermill": {
     "duration": 0.722348,
     "end_time": "2022-07-06T07:32:26.337325",
     "exception": false,
     "start_time": "2022-07-06T07:32:25.614977",
     "status": "completed"
    },
    "pycharm": {
     "name": "#%%\n"
    },
    "tags": []
   },
   "outputs": [
    {
     "data": {
      "image/png": "[encoded data removed]",
      "text/plain": [
       "<Figure size 432x288 with 1 Axes>"
      ]
     },
     "metadata": {
      "needs_background": "light"
     },
     "output_type": "display_data"
    }
   ],
   "source": [
    "plt.imshow(notes)\n",
    "plt.show()"
   ]
  },
  {
   "cell_type": "code",
   "execution_count": 60,
   "id": "37ce7eb5",
   "metadata": {
    "execution": {
     "iopub.execute_input": "2022-07-06T07:32:27.221838Z",
     "iopub.status.busy": "2022-07-06T07:32:27.221476Z",
     "iopub.status.idle": "2022-07-06T07:32:27.386999Z",
     "shell.execute_reply": "2022-07-06T07:32:27.386089Z"
    },
    "id": "jp44E00xMcGt",
    "papermill": {
     "duration": 0.586026,
     "end_time": "2022-07-06T07:32:27.389268",
     "exception": false,
     "start_time": "2022-07-06T07:32:26.803242",
     "status": "completed"
    },
    "tags": []
   },
   "outputs": [
    {
     "data": {
      "text/plain": [
       "<matplotlib.image.AxesImage at 0x7f390a9f8ad0>"
      ]
     },
     "execution_count": 60,
     "metadata": {},
     "output_type": "execute_result"
    },
    {
     "data": {
      "image/png": "[encoded data removed]",
      "text/plain": [
       "<Figure size 432x288 with 1 Axes>"
      ]
     },
     "metadata": {
      "needs_background": "light"
     },
     "output_type": "display_data"
    }
   ],
   "source": [
    "plt.imshow(passer[0])"
   ]
  },
  {
   "cell_type": "code",
   "execution_count": 61,
   "id": "123807e4",
   "metadata": {
    "execution": {
     "iopub.execute_input": "2022-07-06T07:32:28.026089Z",
     "iopub.status.busy": "2022-07-06T07:32:28.025297Z",
     "iopub.status.idle": "2022-07-06T07:32:28.187937Z",
     "shell.execute_reply": "2022-07-06T07:32:28.187056Z"
    },
    "id": "2r95_anaMqaQ",
    "papermill": {
     "duration": 0.483179,
     "end_time": "2022-07-06T07:32:28.190038",
     "exception": false,
     "start_time": "2022-07-06T07:32:27.706859",
     "status": "completed"
    },
    "tags": []
   },
   "outputs": [
    {
     "data": {
      "text/plain": [
       "<matplotlib.image.AxesImage at 0x7f390a93a350>"
      ]
     },
     "execution_count": 61,
     "metadata": {},
     "output_type": "execute_result"
    },
    {
     "data": {
      "image/png": "[encoded data removed]",
      "text/plain": [
       "<Figure size 432x288 with 1 Axes>"
      ]
     },
     "metadata": {
      "needs_background": "light"
     },
     "output_type": "display_data"
    }
   ],
   "source": [
    "plt.imshow(passer[1])"
   ]
  },
  {
   "cell_type": "code",
   "execution_count": 62,
   "id": "45fd5e15",
   "metadata": {
    "execution": {
     "iopub.execute_input": "2022-07-06T07:32:28.867934Z",
     "iopub.status.busy": "2022-07-06T07:32:28.867577Z",
     "iopub.status.idle": "2022-07-06T07:32:29.034006Z",
     "shell.execute_reply": "2022-07-06T07:32:29.033113Z"
    },
    "id": "JxD6rtEdMsOD",
    "papermill": {
     "duration": 0.486722,
     "end_time": "2022-07-06T07:32:29.036103",
     "exception": false,
     "start_time": "2022-07-06T07:32:28.549381",
     "status": "completed"
    },
    "tags": []
   },
   "outputs": [
    {
     "data": {
      "text/plain": [
       "<matplotlib.image.AxesImage at 0x7f390a8b4b10>"
      ]
     },
     "execution_count": 62,
     "metadata": {},
     "output_type": "execute_result"
    },
    {
     "data": {
      "image/png": "[encoded data removed]",
      "text/plain": [
       "<Figure size 432x288 with 1 Axes>"
      ]
     },
     "metadata": {
      "needs_background": "light"
     },
     "output_type": "display_data"
    }
   ],
   "source": [
    "plt.imshow(passer[2])"
   ]
  },
  {
   "cell_type": "code",
   "execution_count": 63,
   "id": "6cd85412",
   "metadata": {
    "execution": {
     "iopub.execute_input": "2022-07-06T07:32:29.675608Z",
     "iopub.status.busy": "2022-07-06T07:32:29.675254Z",
     "iopub.status.idle": "2022-07-06T07:32:29.840405Z",
     "shell.execute_reply": "2022-07-06T07:32:29.839534Z"
    },
    "id": "Ew75wTpCMu1U",
    "papermill": {
     "duration": 0.487858,
     "end_time": "2022-07-06T07:32:29.842474",
     "exception": false,
     "start_time": "2022-07-06T07:32:29.354616",
     "status": "completed"
    },
    "tags": []
   },
   "outputs": [
    {
     "data": {
      "text/plain": [
       "<matplotlib.image.AxesImage at 0x7f390a802310>"
      ]
     },
     "execution_count": 63,
     "metadata": {},
     "output_type": "execute_result"
    },
    {
     "data": {
      "image/png": "[encoded data removed]",
      "text/plain": [
       "<Figure size 432x288 with 1 Axes>"
      ]
     },
     "metadata": {
      "needs_background": "light"
     },
     "output_type": "display_data"
    }
   ],
   "source": [
    "plt.imshow(passer[3])"
   ]
  },
  {
   "cell_type": "code",
   "execution_count": 64,
   "id": "bbf01f7b",
   "metadata": {
    "execution": {
     "iopub.execute_input": "2022-07-06T07:32:30.536881Z",
     "iopub.status.busy": "2022-07-06T07:32:30.536508Z",
     "iopub.status.idle": "2022-07-06T07:32:30.699026Z",
     "shell.execute_reply": "2022-07-06T07:32:30.698038Z"
    },
    "id": "gQZWYtKhMwqO",
    "papermill": {
     "duration": 0.539738,
     "end_time": "2022-07-06T07:32:30.701103",
     "exception": false,
     "start_time": "2022-07-06T07:32:30.161365",
     "status": "completed"
    },
    "tags": []
   },
   "outputs": [
    {
     "data": {
      "text/plain": [
       "<matplotlib.image.AxesImage at 0x7f390a77cad0>"
      ]
     },
     "execution_count": 64,
     "metadata": {},
     "output_type": "execute_result"
    },
    {
     "data": {
      "image/png": "[encoded data removed]",
      "text/plain": [
       "<Figure size 432x288 with 1 Axes>"
      ]
     },
     "metadata": {
      "needs_background": "light"
     },
     "output_type": "display_data"
    }
   ],
   "source": [
    "plt.imshow(passer[4])"
   ]
  },
  {
   "cell_type": "code",
   "execution_count": 65,
   "id": "069db2f1",
   "metadata": {
    "execution": {
     "iopub.execute_input": "2022-07-06T07:32:31.347028Z",
     "iopub.status.busy": "2022-07-06T07:32:31.346070Z",
     "iopub.status.idle": "2022-07-06T07:32:31.352513Z",
     "shell.execute_reply": "2022-07-06T07:32:31.351513Z"
    },
    "id": "eBIKXQhDhKDZ",
    "papermill": {
     "duration": 0.333552,
     "end_time": "2022-07-06T07:32:31.354819",
     "exception": false,
     "start_time": "2022-07-06T07:32:31.021267",
     "status": "completed"
    },
    "tags": []
   },
   "outputs": [],
   "source": [
    "passer = np.array(passer)\n",
    "\n",
    "passer = passer / 255"
   ]
  },
  {
   "cell_type": "code",
   "execution_count": 66,
   "id": "991dfcf0",
   "metadata": {
    "execution": {
     "iopub.execute_input": "2022-07-06T07:32:32.166957Z",
     "iopub.status.busy": "2022-07-06T07:32:32.166503Z",
     "iopub.status.idle": "2022-07-06T07:32:32.458010Z",
     "shell.execute_reply": "2022-07-06T07:32:32.456999Z"
    },
    "id": "RObkWBC2_vZc",
    "papermill": {
     "duration": 0.782347,
     "end_time": "2022-07-06T07:32:32.461359",
     "exception": false,
     "start_time": "2022-07-06T07:32:31.679012",
     "status": "completed"
    },
    "tags": []
   },
   "outputs": [],
   "source": [
    "result = model.predict(passer)"
   ]
  },
  {
   "cell_type": "code",
   "execution_count": 67,
   "id": "4650b8da",
   "metadata": {
    "execution": {
     "iopub.execute_input": "2022-07-06T07:32:33.387792Z",
     "iopub.status.busy": "2022-07-06T07:32:33.387446Z",
     "iopub.status.idle": "2022-07-06T07:32:33.393561Z",
     "shell.execute_reply": "2022-07-06T07:32:33.392450Z"
    },
    "id": "ZzlOdToWGVI6",
    "papermill": {
     "duration": 0.390574,
     "end_time": "2022-07-06T07:32:33.395879",
     "exception": false,
     "start_time": "2022-07-06T07:32:33.005305",
     "status": "completed"
    },
    "tags": []
   },
   "outputs": [],
   "source": [
    "label_result = [np.argmax(i) for i in result]\n",
    "\n"
   ]
  },
  {
   "cell_type": "code",
   "execution_count": null,
   "id": "96ea7a70",
   "metadata": {
    "id": "WFuVkk7Ng1L4",
    "papermill": {
     "duration": 0.317765,
     "end_time": "2022-07-06T07:32:34.033906",
     "exception": false,
     "start_time": "2022-07-06T07:32:33.716141",
     "status": "completed"
    },
    "tags": []
   },
   "outputs": [],
   "source": []
  },
  {
   "cell_type": "code",
   "execution_count": 68,
   "id": "a32cd9d5",
   "metadata": {
    "execution": {
     "iopub.execute_input": "2022-07-06T07:32:34.721945Z",
     "iopub.status.busy": "2022-07-06T07:32:34.721596Z",
     "iopub.status.idle": "2022-07-06T07:32:34.733918Z",
     "shell.execute_reply": "2022-07-06T07:32:34.730814Z"
    },
    "id": "ISdDcZeKGgI0",
    "papermill": {
     "duration": 0.335061,
     "end_time": "2022-07-06T07:32:34.736755",
     "exception": false,
     "start_time": "2022-07-06T07:32:34.401694",
     "status": "completed"
    },
    "tags": []
   },
   "outputs": [
    {
     "name": "stdout",
     "output_type": "stream",
     "text": [
      "1 ni\n",
      "2 ni\n",
      "3 ni\n",
      "4 sa\n",
      "5 ga\n",
      "6 sa\n",
      "7 dha\n",
      "8 dha\n",
      "9 sa\n",
      "10 sa\n",
      "11 dha\n",
      "12 dha\n",
      "13 pa\n",
      "14 sa\n",
      "15 ni\n",
      "16 re\n",
      "17 re\n",
      "18 re\n",
      "19 dha\n",
      "20 ga\n",
      "21 ni\n",
      "22 ni\n",
      "23 re\n",
      "24 re\n",
      "25 re\n",
      "26 ni\n",
      "27 ni\n",
      "28 ni\n",
      "29 dha\n",
      "30 ni\n",
      "31 dha\n",
      "32 ni\n",
      "33 ni\n",
      "34 ni\n",
      "35 ni\n",
      "36 dha\n",
      "37 pa\n",
      "38 ni\n",
      "39 ni\n",
      "40 re\n",
      "41 pa\n",
      "42 ni\n",
      "43 re\n",
      "44 ga\n",
      "45 re\n",
      "46 ni\n",
      "47 re\n",
      "48 sa\n",
      "49 ni\n",
      "50 dha\n",
      "51 pa\n",
      "52 ma\n",
      "53 ga\n",
      "54 ga\n",
      "55 ni\n",
      "56 re\n",
      "57 ma\n",
      "58 ga\n",
      "59 ga\n",
      "60 ga\n",
      "61 pa\n",
      "62 sa\n",
      "63 ga\n",
      "64 ma\n",
      "65 ma\n",
      "66 ni\n",
      "67 re\n",
      "68 ma\n",
      "69 re\n",
      "70 ma\n",
      "71 ni\n",
      "72 ma\n",
      "73 ma\n",
      "74 ni\n",
      "75 re\n",
      "76 ma\n",
      "77 re\n",
      "78 ga\n",
      "79 sa\n",
      "80 ga\n",
      "81 re\n",
      "82 ni\n",
      "83 sa\n",
      "84 sa\n",
      "85 ga\n",
      "86 dha\n",
      "87 ma\n",
      "88 sa\n",
      "89 sa\n",
      "90 re\n",
      "91 ga\n",
      "92 ga\n",
      "93 re\n",
      "94 re\n",
      "95 sa\n",
      "96 re\n",
      "97 re\n",
      "98 re\n",
      "99 ma\n",
      "100 re\n",
      "101 ni\n",
      "102 re\n",
      "103 re\n",
      "104 ni\n",
      "105 ga\n",
      "106 ma\n",
      "107 ga\n",
      "108 ni\n",
      "109 sa\n",
      "110 sa\n",
      "111 sa\n",
      "112 sa\n",
      "113 dha\n",
      "114 pa\n",
      "115 dha\n",
      "116 ma\n",
      "117 ni\n",
      "118 ni\n",
      "119 dha\n",
      "120 ga\n",
      "121 pa\n",
      "122 sa\n",
      "123 pa\n",
      "124 pa\n",
      "125 pa\n",
      "126 ma\n",
      "127 ga\n",
      "128 ga\n",
      "129 ni\n",
      "130 ga\n",
      "131 pa\n",
      "132 pa\n",
      "133 pa\n",
      "134 ma\n",
      "135 ni\n",
      "136 sa\n",
      "137 pa\n",
      "138 sa\n",
      "139 ni\n",
      "140 ni\n",
      "141 sa\n",
      "142 ga\n",
      "143 dha\n",
      "144 ni\n",
      "145 sa\n",
      "146 sa\n",
      "147 re\n",
      "148 re\n",
      "149 ga\n",
      "150 ga\n",
      "151 ma\n",
      "152 re\n"
     ]
    }
   ],
   "source": [
    "notes_array = [hindi_name_dict[i] for i in label_result]\n",
    "for i in range(len(notes_array)):\n",
    "  print(i+1,notes_array[i])"
   ]
  },
  {
   "cell_type": "code",
   "execution_count": 69,
   "id": "fb680c0f",
   "metadata": {
    "execution": {
     "iopub.execute_input": "2022-07-06T07:32:35.380220Z",
     "iopub.status.busy": "2022-07-06T07:32:35.379850Z",
     "iopub.status.idle": "2022-07-06T07:32:35.384919Z",
     "shell.execute_reply": "2022-07-06T07:32:35.383912Z"
    },
    "id": "2fWQovwIQtsA",
    "papermill": {
     "duration": 0.329155,
     "end_time": "2022-07-06T07:32:35.387406",
     "exception": false,
     "start_time": "2022-07-06T07:32:35.058251",
     "status": "completed"
    },
    "tags": []
   },
   "outputs": [],
   "source": [
    "music_translate = {\n",
    "    'sa': 'C',\n",
    "    're': 'D',\n",
    "    'ga': 'E',\n",
    "    'ma': 'F',\n",
    "    'pa': 'G',\n",
    "    'dha': 'A',\n",
    "    'ni': 'B',\n",
    "}"
   ]
  },
  {
   "cell_type": "code",
   "execution_count": 70,
   "id": "22ffa08e",
   "metadata": {
    "execution": {
     "iopub.execute_input": "2022-07-06T07:32:36.028858Z",
     "iopub.status.busy": "2022-07-06T07:32:36.028513Z",
     "iopub.status.idle": "2022-07-06T07:32:36.037103Z",
     "shell.execute_reply": "2022-07-06T07:32:36.036055Z"
    },
    "id": "D45oqQuIRSdA",
    "papermill": {
     "duration": 0.332347,
     "end_time": "2022-07-06T07:32:36.039247",
     "exception": false,
     "start_time": "2022-07-06T07:32:35.706900",
     "status": "completed"
    },
    "tags": []
   },
   "outputs": [
    {
     "data": {
      "text/plain": [
       "['B',\n",
       " 'B',\n",
       " 'B',\n",
       " 'C',\n",
       " 'E',\n",
       " 'C',\n",
       " 'A',\n",
       " 'A',\n",
       " 'C',\n",
       " 'C',\n",
       " 'A',\n",
       " 'A',\n",
       " 'G',\n",
       " 'C',\n",
       " 'B',\n",
       " 'D',\n",
       " 'D',\n",
       " 'D',\n",
       " 'A',\n",
       " 'E',\n",
       " 'B',\n",
       " 'B',\n",
       " 'D',\n",
       " 'D',\n",
       " 'D',\n",
       " 'B',\n",
       " 'B',\n",
       " 'B',\n",
       " 'A',\n",
       " 'B',\n",
       " 'A',\n",
       " 'B',\n",
       " 'B',\n",
       " 'B',\n",
       " 'B',\n",
       " 'A',\n",
       " 'G',\n",
       " 'B',\n",
       " 'B',\n",
       " 'D',\n",
       " 'G',\n",
       " 'B',\n",
       " 'D',\n",
       " 'E',\n",
       " 'D',\n",
       " 'B',\n",
       " 'D',\n",
       " 'C',\n",
       " 'B',\n",
       " 'A',\n",
       " 'G',\n",
       " 'F',\n",
       " 'E',\n",
       " 'E',\n",
       " 'B',\n",
       " 'D',\n",
       " 'F',\n",
       " 'E',\n",
       " 'E',\n",
       " 'E',\n",
       " 'G',\n",
       " 'C',\n",
       " 'E',\n",
       " 'F',\n",
       " 'F',\n",
       " 'B',\n",
       " 'D',\n",
       " 'F',\n",
       " 'D',\n",
       " 'F',\n",
       " 'B',\n",
       " 'F',\n",
       " 'F',\n",
       " 'B',\n",
       " 'D',\n",
       " 'F',\n",
       " 'D',\n",
       " 'E',\n",
       " 'C',\n",
       " 'E',\n",
       " 'D',\n",
       " 'B',\n",
       " 'C',\n",
       " 'C',\n",
       " 'E',\n",
       " 'A',\n",
       " 'F',\n",
       " 'C',\n",
       " 'C',\n",
       " 'D',\n",
       " 'E',\n",
       " 'E',\n",
       " 'D',\n",
       " 'D',\n",
       " 'C',\n",
       " 'D',\n",
       " 'D',\n",
       " 'D',\n",
       " 'F',\n",
       " 'D',\n",
       " 'B',\n",
       " 'D',\n",
       " 'D',\n",
       " 'B',\n",
       " 'E',\n",
       " 'F',\n",
       " 'E',\n",
       " 'B',\n",
       " 'C',\n",
       " 'C',\n",
       " 'C',\n",
       " 'C',\n",
       " 'A',\n",
       " 'G',\n",
       " 'A',\n",
       " 'F',\n",
       " 'B',\n",
       " 'B',\n",
       " 'A',\n",
       " 'E',\n",
       " 'G',\n",
       " 'C',\n",
       " 'G',\n",
       " 'G',\n",
       " 'G',\n",
       " 'F',\n",
       " 'E',\n",
       " 'E',\n",
       " 'B',\n",
       " 'E',\n",
       " 'G',\n",
       " 'G',\n",
       " 'G',\n",
       " 'F',\n",
       " 'B',\n",
       " 'C',\n",
       " 'G',\n",
       " 'C',\n",
       " 'B',\n",
       " 'B',\n",
       " 'C',\n",
       " 'E',\n",
       " 'A',\n",
       " 'B',\n",
       " 'C',\n",
       " 'C',\n",
       " 'D',\n",
       " 'D',\n",
       " 'E',\n",
       " 'E',\n",
       " 'F',\n",
       " 'D']"
      ]
     },
     "execution_count": 70,
     "metadata": {},
     "output_type": "execute_result"
    }
   ],
   "source": [
    "western_notes = [music_translate[i] for i in notes_array]\n",
    "western_notes"
   ]
  },
  {
   "cell_type": "code",
   "execution_count": 71,
   "id": "af34e957",
   "metadata": {
    "execution": {
     "iopub.execute_input": "2022-07-06T07:32:36.739827Z",
     "iopub.status.busy": "2022-07-06T07:32:36.739478Z",
     "iopub.status.idle": "2022-07-06T07:32:36.745693Z",
     "shell.execute_reply": "2022-07-06T07:32:36.744821Z"
    },
    "id": "DRhc4ttrSLBK",
    "papermill": {
     "duration": 0.343402,
     "end_time": "2022-07-06T07:32:36.747678",
     "exception": false,
     "start_time": "2022-07-06T07:32:36.404276",
     "status": "completed"
    },
    "tags": []
   },
   "outputs": [
    {
     "data": {
      "text/plain": [
       "['A', 'B', 'C', 'D', 'E', 'F', 'G']"
      ]
     },
     "execution_count": 71,
     "metadata": {},
     "output_type": "execute_result"
    }
   ],
   "source": [
    "pitchnames = sorted(set(western_notes))\n",
    "\n",
    "pitchnames"
   ]
  },
  {
   "cell_type": "code",
   "execution_count": 72,
   "id": "048cac7b",
   "metadata": {
    "execution": {
     "iopub.execute_input": "2022-07-06T07:32:37.391236Z",
     "iopub.status.busy": "2022-07-06T07:32:37.390302Z",
     "iopub.status.idle": "2022-07-06T07:32:52.699104Z",
     "shell.execute_reply": "2022-07-06T07:32:52.698003Z"
    },
    "papermill": {
     "duration": 15.633238,
     "end_time": "2022-07-06T07:32:52.701655",
     "exception": false,
     "start_time": "2022-07-06T07:32:37.068417",
     "status": "completed"
    },
    "tags": []
   },
   "outputs": [
    {
     "name": "stdout",
     "output_type": "stream",
     "text": [
      "Collecting music21\r\n",
      "  Downloading music21-7.3.3-py3-none-any.whl (22.4 MB)\r\n",
      "\u001b[2K     \u001b[90m━━━━━━━━━━━━━━━━━━━━━━━━━━━━━━━━━━━━━━━━\u001b[0m \u001b[32m22.4/22.4 MB\u001b[0m \u001b[31m54.8 MB/s\u001b[0m eta \u001b[36m0:00:00\u001b[0m\r\n",
      "\u001b[?25hRequirement already satisfied: matplotlib in /opt/conda/lib/python3.7/site-packages (from music21) (3.5.2)\r\n",
      "Collecting webcolors>=1.5\r\n",
      "  Downloading webcolors-1.12-py3-none-any.whl (9.9 kB)\r\n",
      "Requirement already satisfied: numpy in /opt/conda/lib/python3.7/site-packages (from music21) (1.21.6)\r\n",
      "Requirement already satisfied: chardet in /opt/conda/lib/python3.7/site-packages (from music21) (4.0.0)\r\n",
      "Requirement already satisfied: joblib in /opt/conda/lib/python3.7/site-packages (from music21) (1.1.0)\r\n",
      "Collecting jsonpickle\r\n",
      "  Downloading jsonpickle-2.2.0-py2.py3-none-any.whl (39 kB)\r\n",
      "Requirement already satisfied: more-itertools in /opt/conda/lib/python3.7/site-packages (from music21) (8.13.0)\r\n",
      "Requirement already satisfied: importlib-metadata in /opt/conda/lib/python3.7/site-packages (from jsonpickle->music21) (4.11.4)\r\n",
      "Requirement already satisfied: packaging>=20.0 in /opt/conda/lib/python3.7/site-packages (from matplotlib->music21) (21.3)\r\n",
      "Requirement already satisfied: pillow>=6.2.0 in /opt/conda/lib/python3.7/site-packages (from matplotlib->music21) (9.1.1)\r\n",
      "Requirement already satisfied: python-dateutil>=2.7 in /opt/conda/lib/python3.7/site-packages (from matplotlib->music21) (2.8.2)\r\n",
      "Requirement already satisfied: cycler>=0.10 in /opt/conda/lib/python3.7/site-packages (from matplotlib->music21) (0.11.0)\r\n",
      "Requirement already satisfied: fonttools>=4.22.0 in /opt/conda/lib/python3.7/site-packages (from matplotlib->music21) (4.33.3)\r\n",
      "Requirement already satisfied: kiwisolver>=1.0.1 in /opt/conda/lib/python3.7/site-packages (from matplotlib->music21) (1.4.2)\r\n",
      "Requirement already satisfied: pyparsing>=2.2.1 in /opt/conda/lib/python3.7/site-packages (from matplotlib->music21) (3.0.9)\r\n",
      "Requirement already satisfied: typing-extensions in /opt/conda/lib/python3.7/site-packages (from kiwisolver>=1.0.1->matplotlib->music21) (4.1.1)\r\n",
      "Requirement already satisfied: six>=1.5 in /opt/conda/lib/python3.7/site-packages (from python-dateutil>=2.7->matplotlib->music21) (1.16.0)\r\n",
      "Requirement already satisfied: zipp>=0.5 in /opt/conda/lib/python3.7/site-packages (from importlib-metadata->jsonpickle->music21) (3.8.0)\r\n",
      "Installing collected packages: webcolors, jsonpickle, music21\r\n",
      "Successfully installed jsonpickle-2.2.0 music21-7.3.3 webcolors-1.12\r\n",
      "\u001b[33mWARNING: Running pip as the 'root' user can result in broken permissions and conflicting behaviour with the system package manager. It is recommended to use a virtual environment instead: https://pip.pypa.io/warnings/venv\u001b[0m\u001b[33m\r\n",
      "\u001b[0m"
     ]
    }
   ],
   "source": [
    "!pip install music21"
   ]
  },
  {
   "cell_type": "code",
   "execution_count": 73,
   "id": "46a5ef35",
   "metadata": {
    "execution": {
     "iopub.execute_input": "2022-07-06T07:32:53.402260Z",
     "iopub.status.busy": "2022-07-06T07:32:53.401857Z",
     "iopub.status.idle": "2022-07-06T07:32:53.779364Z",
     "shell.execute_reply": "2022-07-06T07:32:53.778402Z"
    },
    "id": "ITgyT9ExR7c5",
    "papermill": {
     "duration": 0.708999,
     "end_time": "2022-07-06T07:32:53.781799",
     "exception": false,
     "start_time": "2022-07-06T07:32:53.072800",
     "status": "completed"
    },
    "tags": []
   },
   "outputs": [],
   "source": [
    "from music21 import converter, instrument, note, chord, stream"
   ]
  },
  {
   "cell_type": "code",
   "execution_count": 74,
   "id": "c3489253",
   "metadata": {
    "execution": {
     "iopub.execute_input": "2022-07-06T07:32:54.428595Z",
     "iopub.status.busy": "2022-07-06T07:32:54.428219Z",
     "iopub.status.idle": "2022-07-06T07:32:54.442587Z",
     "shell.execute_reply": "2022-07-06T07:32:54.441697Z"
    },
    "id": "xjgg5CMSRloX",
    "papermill": {
     "duration": 0.339315,
     "end_time": "2022-07-06T07:32:54.444594",
     "exception": false,
     "start_time": "2022-07-06T07:32:54.105279",
     "status": "completed"
    },
    "tags": []
   },
   "outputs": [],
   "source": [
    "offset = 0\n",
    "output_notes = []\n",
    "\n",
    "for value in western_notes:\n",
    "    if('.' in value) or value.isdigit():\n",
    "        chord_notes = value.split('.')\n",
    "        notes = []\n",
    "        for current_note in chord_notes:\n",
    "            new_note = note.Note(int(current_note))\n",
    "            new_note.storedInstrument = instrument.Piano()\n",
    "            notes.append(new_note)\n",
    "        new_chord = chord.Chord(notes)\n",
    "        new_chord.offset = offset\n",
    "        output_notes.append(new_chord)\n",
    "    else:\n",
    "        new_note = note.Note(value)\n",
    "        new_note.offset = offset\n",
    "        new_note.storedInstrument = instrument.Piano()\n",
    "        output_notes.append(new_note)\n",
    "    offset += 0.5"
   ]
  },
  {
   "cell_type": "code",
   "execution_count": null,
   "id": "7d40210f",
   "metadata": {
    "papermill": {
     "duration": 0.362032,
     "end_time": "2022-07-06T07:32:55.126144",
     "exception": false,
     "start_time": "2022-07-06T07:32:54.764112",
     "status": "completed"
    },
    "tags": []
   },
   "outputs": [],
   "source": []
  },
  {
   "cell_type": "code",
   "execution_count": 75,
   "id": "a8a4f041",
   "metadata": {
    "execution": {
     "iopub.execute_input": "2022-07-06T07:32:55.780856Z",
     "iopub.status.busy": "2022-07-06T07:32:55.780511Z",
     "iopub.status.idle": "2022-07-06T07:32:55.790229Z",
     "shell.execute_reply": "2022-07-06T07:32:55.789334Z"
    },
    "id": "DA_KXxcuYl_A",
    "papermill": {
     "duration": 0.340671,
     "end_time": "2022-07-06T07:32:55.792158",
     "exception": false,
     "start_time": "2022-07-06T07:32:55.451487",
     "status": "completed"
    },
    "tags": []
   },
   "outputs": [
    {
     "data": {
      "text/plain": [
       "[<music21.note.Note B>,\n",
       " <music21.note.Note B>,\n",
       " <music21.note.Note B>,\n",
       " <music21.note.Note C>,\n",
       " <music21.note.Note E>,\n",
       " <music21.note.Note C>,\n",
       " <music21.note.Note A>,\n",
       " <music21.note.Note A>,\n",
       " <music21.note.Note C>,\n",
       " <music21.note.Note C>,\n",
       " <music21.note.Note A>,\n",
       " <music21.note.Note A>,\n",
       " <music21.note.Note G>,\n",
       " <music21.note.Note C>,\n",
       " <music21.note.Note B>,\n",
       " <music21.note.Note D>,\n",
       " <music21.note.Note D>,\n",
       " <music21.note.Note D>,\n",
       " <music21.note.Note A>,\n",
       " <music21.note.Note E>,\n",
       " <music21.note.Note B>,\n",
       " <music21.note.Note B>,\n",
       " <music21.note.Note D>,\n",
       " <music21.note.Note D>,\n",
       " <music21.note.Note D>,\n",
       " <music21.note.Note B>,\n",
       " <music21.note.Note B>,\n",
       " <music21.note.Note B>,\n",
       " <music21.note.Note A>,\n",
       " <music21.note.Note B>,\n",
       " <music21.note.Note A>,\n",
       " <music21.note.Note B>,\n",
       " <music21.note.Note B>,\n",
       " <music21.note.Note B>,\n",
       " <music21.note.Note B>,\n",
       " <music21.note.Note A>,\n",
       " <music21.note.Note G>,\n",
       " <music21.note.Note B>,\n",
       " <music21.note.Note B>,\n",
       " <music21.note.Note D>,\n",
       " <music21.note.Note G>,\n",
       " <music21.note.Note B>,\n",
       " <music21.note.Note D>,\n",
       " <music21.note.Note E>,\n",
       " <music21.note.Note D>,\n",
       " <music21.note.Note B>,\n",
       " <music21.note.Note D>,\n",
       " <music21.note.Note C>,\n",
       " <music21.note.Note B>,\n",
       " <music21.note.Note A>,\n",
       " <music21.note.Note G>,\n",
       " <music21.note.Note F>,\n",
       " <music21.note.Note E>,\n",
       " <music21.note.Note E>,\n",
       " <music21.note.Note B>,\n",
       " <music21.note.Note D>,\n",
       " <music21.note.Note F>,\n",
       " <music21.note.Note E>,\n",
       " <music21.note.Note E>,\n",
       " <music21.note.Note E>,\n",
       " <music21.note.Note G>,\n",
       " <music21.note.Note C>,\n",
       " <music21.note.Note E>,\n",
       " <music21.note.Note F>,\n",
       " <music21.note.Note F>,\n",
       " <music21.note.Note B>,\n",
       " <music21.note.Note D>,\n",
       " <music21.note.Note F>,\n",
       " <music21.note.Note D>,\n",
       " <music21.note.Note F>,\n",
       " <music21.note.Note B>,\n",
       " <music21.note.Note F>,\n",
       " <music21.note.Note F>,\n",
       " <music21.note.Note B>,\n",
       " <music21.note.Note D>,\n",
       " <music21.note.Note F>,\n",
       " <music21.note.Note D>,\n",
       " <music21.note.Note E>,\n",
       " <music21.note.Note C>,\n",
       " <music21.note.Note E>,\n",
       " <music21.note.Note D>,\n",
       " <music21.note.Note B>,\n",
       " <music21.note.Note C>,\n",
       " <music21.note.Note C>,\n",
       " <music21.note.Note E>,\n",
       " <music21.note.Note A>,\n",
       " <music21.note.Note F>,\n",
       " <music21.note.Note C>,\n",
       " <music21.note.Note C>,\n",
       " <music21.note.Note D>,\n",
       " <music21.note.Note E>,\n",
       " <music21.note.Note E>,\n",
       " <music21.note.Note D>,\n",
       " <music21.note.Note D>,\n",
       " <music21.note.Note C>,\n",
       " <music21.note.Note D>,\n",
       " <music21.note.Note D>,\n",
       " <music21.note.Note D>,\n",
       " <music21.note.Note F>,\n",
       " <music21.note.Note D>,\n",
       " <music21.note.Note B>,\n",
       " <music21.note.Note D>,\n",
       " <music21.note.Note D>,\n",
       " <music21.note.Note B>,\n",
       " <music21.note.Note E>,\n",
       " <music21.note.Note F>,\n",
       " <music21.note.Note E>,\n",
       " <music21.note.Note B>,\n",
       " <music21.note.Note C>,\n",
       " <music21.note.Note C>,\n",
       " <music21.note.Note C>,\n",
       " <music21.note.Note C>,\n",
       " <music21.note.Note A>,\n",
       " <music21.note.Note G>,\n",
       " <music21.note.Note A>,\n",
       " <music21.note.Note F>,\n",
       " <music21.note.Note B>,\n",
       " <music21.note.Note B>,\n",
       " <music21.note.Note A>,\n",
       " <music21.note.Note E>,\n",
       " <music21.note.Note G>,\n",
       " <music21.note.Note C>,\n",
       " <music21.note.Note G>,\n",
       " <music21.note.Note G>,\n",
       " <music21.note.Note G>,\n",
       " <music21.note.Note F>,\n",
       " <music21.note.Note E>,\n",
       " <music21.note.Note E>,\n",
       " <music21.note.Note B>,\n",
       " <music21.note.Note E>,\n",
       " <music21.note.Note G>,\n",
       " <music21.note.Note G>,\n",
       " <music21.note.Note G>,\n",
       " <music21.note.Note F>,\n",
       " <music21.note.Note B>,\n",
       " <music21.note.Note C>,\n",
       " <music21.note.Note G>,\n",
       " <music21.note.Note C>,\n",
       " <music21.note.Note B>,\n",
       " <music21.note.Note B>,\n",
       " <music21.note.Note C>,\n",
       " <music21.note.Note E>,\n",
       " <music21.note.Note A>,\n",
       " <music21.note.Note B>,\n",
       " <music21.note.Note C>,\n",
       " <music21.note.Note C>,\n",
       " <music21.note.Note D>,\n",
       " <music21.note.Note D>,\n",
       " <music21.note.Note E>,\n",
       " <music21.note.Note E>,\n",
       " <music21.note.Note F>,\n",
       " <music21.note.Note D>]"
      ]
     },
     "execution_count": 75,
     "metadata": {},
     "output_type": "execute_result"
    }
   ],
   "source": [
    "output_notes"
   ]
  },
  {
   "cell_type": "code",
   "execution_count": 76,
   "id": "4e384f83",
   "metadata": {
    "execution": {
     "iopub.execute_input": "2022-07-06T07:32:56.499276Z",
     "iopub.status.busy": "2022-07-06T07:32:56.498869Z",
     "iopub.status.idle": "2022-07-06T07:32:56.505828Z",
     "shell.execute_reply": "2022-07-06T07:32:56.504823Z"
    },
    "id": "xXek28NOaOoU",
    "papermill": {
     "duration": 0.393363,
     "end_time": "2022-07-06T07:32:56.508307",
     "exception": false,
     "start_time": "2022-07-06T07:32:56.114944",
     "status": "completed"
    },
    "tags": []
   },
   "outputs": [
    {
     "data": {
      "text/plain": [
       "<music21.note.Note B>"
      ]
     },
     "execution_count": 76,
     "metadata": {},
     "output_type": "execute_result"
    }
   ],
   "source": [
    "output_notes[0]"
   ]
  },
  {
   "cell_type": "code",
   "execution_count": 77,
   "id": "ceeefe47",
   "metadata": {
    "execution": {
     "iopub.execute_input": "2022-07-06T07:32:57.154923Z",
     "iopub.status.busy": "2022-07-06T07:32:57.154230Z",
     "iopub.status.idle": "2022-07-06T07:32:57.233604Z",
     "shell.execute_reply": "2022-07-06T07:32:57.232610Z"
    },
    "id": "h-1YjCORSmo0",
    "papermill": {
     "duration": 0.406164,
     "end_time": "2022-07-06T07:32:57.235876",
     "exception": false,
     "start_time": "2022-07-06T07:32:56.829712",
     "status": "completed"
    },
    "tags": []
   },
   "outputs": [],
   "source": [
    "midi_stream = stream.Stream(output_notes)\n",
    "fp = midi_stream.write('midi', fp='test_output.mid')"
   ]
  },
  {
   "cell_type": "code",
   "execution_count": 78,
   "id": "baa1e2d3",
   "metadata": {
    "execution": {
     "iopub.execute_input": "2022-07-06T07:32:57.888082Z",
     "iopub.status.busy": "2022-07-06T07:32:57.887744Z",
     "iopub.status.idle": "2022-07-06T07:32:57.898046Z",
     "shell.execute_reply": "2022-07-06T07:32:57.897006Z"
    },
    "papermill": {
     "duration": 0.34092,
     "end_time": "2022-07-06T07:32:57.901963",
     "exception": false,
     "start_time": "2022-07-06T07:32:57.561043",
     "status": "completed"
    },
    "tags": []
   },
   "outputs": [
    {
     "name": "stdout",
     "output_type": "stream",
     "text": [
      "<music21.note.Note B> 0.0\n",
      "<music21.note.Note B> 0.5\n",
      "<music21.note.Note B> 1.0\n",
      "<music21.note.Note C> 1.5\n",
      "<music21.note.Note E> 2.0\n",
      "<music21.note.Note C> 2.5\n",
      "<music21.note.Note A> 3.0\n",
      "<music21.note.Note A> 3.5\n",
      "<music21.note.Note C> 4.0\n",
      "<music21.note.Note C> 4.5\n",
      "<music21.note.Note A> 5.0\n",
      "<music21.note.Note A> 5.5\n",
      "<music21.note.Note G> 6.0\n",
      "<music21.note.Note C> 6.5\n",
      "<music21.note.Note B> 7.0\n",
      "<music21.note.Note D> 7.5\n",
      "<music21.note.Note D> 8.0\n",
      "<music21.note.Note D> 8.5\n",
      "<music21.note.Note A> 9.0\n",
      "<music21.note.Note E> 9.5\n",
      "<music21.note.Note B> 10.0\n",
      "<music21.note.Note B> 10.5\n",
      "<music21.note.Note D> 11.0\n",
      "<music21.note.Note D> 11.5\n",
      "<music21.note.Note D> 12.0\n",
      "<music21.note.Note B> 12.5\n",
      "<music21.note.Note B> 13.0\n",
      "<music21.note.Note B> 13.5\n",
      "<music21.note.Note A> 14.0\n",
      "<music21.note.Note B> 14.5\n",
      "<music21.note.Note A> 15.0\n",
      "<music21.note.Note B> 15.5\n",
      "<music21.note.Note B> 16.0\n",
      "<music21.note.Note B> 16.5\n",
      "<music21.note.Note B> 17.0\n",
      "<music21.note.Note A> 17.5\n",
      "<music21.note.Note G> 18.0\n",
      "<music21.note.Note B> 18.5\n",
      "<music21.note.Note B> 19.0\n",
      "<music21.note.Note D> 19.5\n",
      "<music21.note.Note G> 20.0\n",
      "<music21.note.Note B> 20.5\n",
      "<music21.note.Note D> 21.0\n",
      "<music21.note.Note E> 21.5\n",
      "<music21.note.Note D> 22.0\n",
      "<music21.note.Note B> 22.5\n",
      "<music21.note.Note D> 23.0\n",
      "<music21.note.Note C> 23.5\n",
      "<music21.note.Note B> 24.0\n",
      "<music21.note.Note A> 24.5\n",
      "<music21.note.Note G> 25.0\n",
      "<music21.note.Note F> 25.5\n",
      "<music21.note.Note E> 26.0\n",
      "<music21.note.Note E> 26.5\n",
      "<music21.note.Note B> 27.0\n",
      "<music21.note.Note D> 27.5\n",
      "<music21.note.Note F> 28.0\n",
      "<music21.note.Note E> 28.5\n",
      "<music21.note.Note E> 29.0\n",
      "<music21.note.Note E> 29.5\n",
      "<music21.note.Note G> 30.0\n",
      "<music21.note.Note C> 30.5\n",
      "<music21.note.Note E> 31.0\n",
      "<music21.note.Note F> 31.5\n",
      "<music21.note.Note F> 32.0\n",
      "<music21.note.Note B> 32.5\n",
      "<music21.note.Note D> 33.0\n",
      "<music21.note.Note F> 33.5\n",
      "<music21.note.Note D> 34.0\n",
      "<music21.note.Note F> 34.5\n",
      "<music21.note.Note B> 35.0\n",
      "<music21.note.Note F> 35.5\n",
      "<music21.note.Note F> 36.0\n",
      "<music21.note.Note B> 36.5\n",
      "<music21.note.Note D> 37.0\n",
      "<music21.note.Note F> 37.5\n",
      "<music21.note.Note D> 38.0\n",
      "<music21.note.Note E> 38.5\n",
      "<music21.note.Note C> 39.0\n",
      "<music21.note.Note E> 39.5\n",
      "<music21.note.Note D> 40.0\n",
      "<music21.note.Note B> 40.5\n",
      "<music21.note.Note C> 41.0\n",
      "<music21.note.Note C> 41.5\n",
      "<music21.note.Note E> 42.0\n",
      "<music21.note.Note A> 42.5\n",
      "<music21.note.Note F> 43.0\n",
      "<music21.note.Note C> 43.5\n",
      "<music21.note.Note C> 44.0\n",
      "<music21.note.Note D> 44.5\n",
      "<music21.note.Note E> 45.0\n",
      "<music21.note.Note E> 45.5\n",
      "<music21.note.Note D> 46.0\n",
      "<music21.note.Note D> 46.5\n",
      "<music21.note.Note C> 47.0\n",
      "<music21.note.Note D> 47.5\n",
      "<music21.note.Note D> 48.0\n",
      "<music21.note.Note D> 48.5\n",
      "<music21.note.Note F> 49.0\n",
      "<music21.note.Note D> 49.5\n",
      "<music21.note.Note B> 50.0\n",
      "<music21.note.Note D> 50.5\n",
      "<music21.note.Note D> 51.0\n",
      "<music21.note.Note B> 51.5\n",
      "<music21.note.Note E> 52.0\n",
      "<music21.note.Note F> 52.5\n",
      "<music21.note.Note E> 53.0\n",
      "<music21.note.Note B> 53.5\n",
      "<music21.note.Note C> 54.0\n",
      "<music21.note.Note C> 54.5\n",
      "<music21.note.Note C> 55.0\n",
      "<music21.note.Note C> 55.5\n",
      "<music21.note.Note A> 56.0\n",
      "<music21.note.Note G> 56.5\n",
      "<music21.note.Note A> 57.0\n",
      "<music21.note.Note F> 57.5\n",
      "<music21.note.Note B> 58.0\n",
      "<music21.note.Note B> 58.5\n",
      "<music21.note.Note A> 59.0\n",
      "<music21.note.Note E> 59.5\n",
      "<music21.note.Note G> 60.0\n",
      "<music21.note.Note C> 60.5\n",
      "<music21.note.Note G> 61.0\n",
      "<music21.note.Note G> 61.5\n",
      "<music21.note.Note G> 62.0\n",
      "<music21.note.Note F> 62.5\n",
      "<music21.note.Note E> 63.0\n",
      "<music21.note.Note E> 63.5\n",
      "<music21.note.Note B> 64.0\n",
      "<music21.note.Note E> 64.5\n",
      "<music21.note.Note G> 65.0\n",
      "<music21.note.Note G> 65.5\n",
      "<music21.note.Note G> 66.0\n",
      "<music21.note.Note F> 66.5\n",
      "<music21.note.Note B> 67.0\n",
      "<music21.note.Note C> 67.5\n",
      "<music21.note.Note G> 68.0\n",
      "<music21.note.Note C> 68.5\n",
      "<music21.note.Note B> 69.0\n",
      "<music21.note.Note B> 69.5\n",
      "<music21.note.Note C> 70.0\n",
      "<music21.note.Note E> 70.5\n",
      "<music21.note.Note A> 71.0\n",
      "<music21.note.Note B> 71.5\n",
      "<music21.note.Note C> 72.0\n",
      "<music21.note.Note C> 72.5\n",
      "<music21.note.Note D> 73.0\n",
      "<music21.note.Note D> 73.5\n",
      "<music21.note.Note E> 74.0\n",
      "<music21.note.Note E> 74.5\n",
      "<music21.note.Note F> 75.0\n",
      "<music21.note.Note D> 75.5\n"
     ]
    }
   ],
   "source": [
    "for thisNote in midi_stream.getElementsByClass(note.Note):\n",
    "    print(thisNote, thisNote.offset)"
   ]
  },
  {
   "cell_type": "code",
   "execution_count": 79,
   "id": "9825b5ff",
   "metadata": {
    "execution": {
     "iopub.execute_input": "2022-07-06T07:32:58.648219Z",
     "iopub.status.busy": "2022-07-06T07:32:58.647843Z",
     "iopub.status.idle": "2022-07-06T07:32:58.724396Z",
     "shell.execute_reply": "2022-07-06T07:32:58.723434Z"
    },
    "papermill": {
     "duration": 0.453767,
     "end_time": "2022-07-06T07:32:58.726455",
     "exception": false,
     "start_time": "2022-07-06T07:32:58.272688",
     "status": "completed"
    },
    "tags": []
   },
   "outputs": [
    {
     "data": {
      "text/html": [
       "\n",
       "                <div id='midiPlayerDiv1384'></div>\n",
       "                <link rel=\"stylesheet\" href=\"//cuthbertLab.github.io/music21j/css/m21.css\"\n",
       "                    type=\"text/css\" />\n",
       "                \n",
       "                <script>\n",
       "                require.config({\n",
       "                    paths: {'music21': '//cuthbertLab.github.io/music21j/src/music21'}\n",
       "                });\n",
       "                require(['music21'], function() {\n",
       "                               mp = new music21.miditools.MidiPlayer();\n",
       "                               mp.addPlayer('#midiPlayerDiv1384');\n",
       "                               mp.base64Load('data:audio/midi;base64,TVRoZAAAAAYAAQACBABNVHJrAAAAFAD/UQMHoSAA/1gEBAIYCIgA/y8ATVRyawAABWcA/wMAAOAAQIgAkEdahACQR1qEAIBHAACQR1qEAIBHAACQPFqEAIBHAACQQFqEAIA8AACQPFqEAIBAAACQRVqEAIA8AACQRVqEAIBFAACQPFqEAIBFAACQPFqEAIA8AACQRVqEAIA8AACQRVqEAIBFAACQQ1qEAIBFAACQPFqEAIBDAACQR1qEAIA8AACQPlqEAIBHAACQPlqEAIA+AACQPlqEAIA+AACQRVqEAIA+AACQQFqEAIBFAACQR1qEAIBAAACQR1qEAIBHAACQPlqEAIBHAACQPlqEAIA+AACQPlqEAIA+AACQR1qEAIA+AACQR1qEAIBHAACQR1qEAIBHAACQRVqEAIBHAACQR1qEAIBFAACQRVqEAIBHAACQR1qEAIBFAACQR1qEAIBHAACQR1qEAIBHAACQR1qEAIBHAACQRVqEAIBHAACQQ1qEAIBFAACQR1qEAIBDAACQR1qEAIBHAACQPlqEAIBHAACQQ1qEAIA+AACQR1qEAIBDAACQPlqEAIBHAACQQFqEAIA+AACQPlqEAIBAAACQR1qEAIA+AACQPlqEAIBHAACQPFqEAIA+AACQR1qEAIA8AACQRVqEAIBHAACQQ1qEAIBFAACQQVqEAIBDAACQQFqEAIBBAACQQFqEAIBAAACQR1qEAIBAAACQPlqEAIBHAACQQVqEAIA+AACQQFqEAIBBAACQQFqEAIBAAACQQFqEAIBAAACQQ1qEAIBAAACQPFqEAIBDAACQQFqEAIA8AACQQVqEAIBAAACQQVqEAIBBAACQR1qEAIBBAACQPlqEAIBHAACQQVqEAIA+AACQPlqEAIBBAACQQVqEAIA+AACQR1qEAIBBAACQQVqEAIBHAACQQVqEAIBBAACQR1qEAIBBAACQPlqEAIBHAACQQVqEAIA+AACQPlqEAIBBAACQQFqEAIA+AACQPFqEAIBAAACQQFqEAIA8AACQPlqEAIBAAACQR1qEAIA+AACQPFqEAIBHAACQPFqEAIA8AACQQFqEAIA8AACQRVqEAIBAAACQQVqEAIBFAACQPFqEAIBBAACQPFqEAIA8AACQPlqEAIA8AACQQFqEAIA+AACQQFqEAIBAAACQPlqEAIBAAACQPlqEAIA+AACQPFqEAIA+AACQPlqEAIA8AACQPlqEAIA+AACQPlqEAIA+AACQQVqEAIA+AACQPlqEAIBBAACQR1qEAIA+AACQPlqEAIBHAACQPlqEAIA+AACQR1qEAIA+AACQQFqEAIBHAACQQVqEAIBAAACQQFqEAIBBAACQR1qEAIBAAACQPFqEAIBHAACQPFqEAIA8AACQPFqEAIA8AACQPFqEAIA8AACQRVqEAIA8AACQQ1qEAIBFAACQRVqEAIBDAACQQVqEAIBFAACQR1qEAIBBAACQR1qEAIBHAACQRVqEAIBHAACQQFqEAIBFAACQQ1qEAIBAAACQPFqEAIBDAACQQ1qEAIA8AACQQ1qEAIBDAACQQ1qEAIBDAACQQVqEAIBDAACQQFqEAIBBAACQQFqEAIBAAACQR1qEAIBAAACQQFqEAIBHAACQQ1qEAIBAAACQQ1qEAIBDAACQQ1qEAIBDAACQQVqEAIBDAACQR1qEAIBBAACQPFqEAIBHAACQQ1qEAIA8AACQPFqEAIBDAACQR1qEAIA8AACQR1qEAIBHAACQPFqEAIBHAACQQFqEAIA8AACQRVqEAIBAAACQR1qEAIBFAACQPFqEAIBHAACQPFqEAIA8AACQPlqEAIA8AACQPlqEAIA+AACQQFqEAIA+AACQQFqEAIBAAACQQVqEAIBAAACQPlqEAIBBAIQAgD4AiAD/LwA=');\n",
       "                        });\n",
       "                </script>"
      ],
      "text/plain": [
       "<IPython.core.display.HTML object>"
      ]
     },
     "metadata": {},
     "output_type": "display_data"
    }
   ],
   "source": [
    "midi_stream.show('midi')"
   ]
  },
  {
   "cell_type": "code",
   "execution_count": 80,
   "id": "9f5c7a23",
   "metadata": {
    "execution": {
     "iopub.execute_input": "2022-07-06T07:32:59.384193Z",
     "iopub.status.busy": "2022-07-06T07:32:59.383817Z",
     "iopub.status.idle": "2022-07-06T07:32:59.391014Z",
     "shell.execute_reply": "2022-07-06T07:32:59.390073Z"
    },
    "id": "RtzyU49AS4op",
    "papermill": {
     "duration": 0.339988,
     "end_time": "2022-07-06T07:32:59.393013",
     "exception": false,
     "start_time": "2022-07-06T07:32:59.053025",
     "status": "completed"
    },
    "tags": []
   },
   "outputs": [
    {
     "data": {
      "text/html": [
       "\n",
       "                <audio  controls=\"controls\" >\n",
       "                    <source src=\"data:audio/midi;base64,TVRoZAAAAAYAAQACBABNVHJrAAAAFAD/UQMHoSAA/1gEBAIYCIgA/y8ATVRyawAABWYA/wMAAOAAQACQR1qEAJBHWoQAgEcAAJBHWoQAgEcAAJA8WoQAgEcAAJBAWoQAgDwAAJA8WoQAgEAAAJBFWoQAgDwAAJBFWoQAgEUAAJA8WoQAgEUAAJA8WoQAgDwAAJBFWoQAgDwAAJBFWoQAgEUAAJBDWoQAgEUAAJA8WoQAgEMAAJBHWoQAgDwAAJA+WoQAgEcAAJA+WoQAgD4AAJA+WoQAgD4AAJBFWoQAgD4AAJBAWoQAgEUAAJBHWoQAgEAAAJBHWoQAgEcAAJA+WoQAgEcAAJA+WoQAgD4AAJA+WoQAgD4AAJBHWoQAgD4AAJBHWoQAgEcAAJBHWoQAgEcAAJBFWoQAgEcAAJBHWoQAgEUAAJBFWoQAgEcAAJBHWoQAgEUAAJBHWoQAgEcAAJBHWoQAgEcAAJBHWoQAgEcAAJBFWoQAgEcAAJBDWoQAgEUAAJBHWoQAgEMAAJBHWoQAgEcAAJA+WoQAgEcAAJBDWoQAgD4AAJBHWoQAgEMAAJA+WoQAgEcAAJBAWoQAgD4AAJA+WoQAgEAAAJBHWoQAgD4AAJA+WoQAgEcAAJA8WoQAgD4AAJBHWoQAgDwAAJBFWoQAgEcAAJBDWoQAgEUAAJBBWoQAgEMAAJBAWoQAgEEAAJBAWoQAgEAAAJBHWoQAgEAAAJA+WoQAgEcAAJBBWoQAgD4AAJBAWoQAgEEAAJBAWoQAgEAAAJBAWoQAgEAAAJBDWoQAgEAAAJA8WoQAgEMAAJBAWoQAgDwAAJBBWoQAgEAAAJBBWoQAgEEAAJBHWoQAgEEAAJA+WoQAgEcAAJBBWoQAgD4AAJA+WoQAgEEAAJBBWoQAgD4AAJBHWoQAgEEAAJBBWoQAgEcAAJBBWoQAgEEAAJBHWoQAgEEAAJA+WoQAgEcAAJBBWoQAgD4AAJA+WoQAgEEAAJBAWoQAgD4AAJA8WoQAgEAAAJBAWoQAgDwAAJA+WoQAgEAAAJBHWoQAgD4AAJA8WoQAgEcAAJA8WoQAgDwAAJBAWoQAgDwAAJBFWoQAgEAAAJBBWoQAgEUAAJA8WoQAgEEAAJA8WoQAgDwAAJA+WoQAgDwAAJBAWoQAgD4AAJBAWoQAgEAAAJA+WoQAgEAAAJA+WoQAgD4AAJA8WoQAgD4AAJA+WoQAgDwAAJA+WoQAgD4AAJA+WoQAgD4AAJBBWoQAgD4AAJA+WoQAgEEAAJBHWoQAgD4AAJA+WoQAgEcAAJA+WoQAgD4AAJBHWoQAgD4AAJBAWoQAgEcAAJBBWoQAgEAAAJBAWoQAgEEAAJBHWoQAgEAAAJA8WoQAgEcAAJA8WoQAgDwAAJA8WoQAgDwAAJA8WoQAgDwAAJBFWoQAgDwAAJBDWoQAgEUAAJBFWoQAgEMAAJBBWoQAgEUAAJBHWoQAgEEAAJBHWoQAgEcAAJBFWoQAgEcAAJBAWoQAgEUAAJBDWoQAgEAAAJA8WoQAgEMAAJBDWoQAgDwAAJBDWoQAgEMAAJBDWoQAgEMAAJBBWoQAgEMAAJBAWoQAgEEAAJBAWoQAgEAAAJBHWoQAgEAAAJBAWoQAgEcAAJBDWoQAgEAAAJBDWoQAgEMAAJBDWoQAgEMAAJBBWoQAgEMAAJBHWoQAgEEAAJA8WoQAgEcAAJBDWoQAgDwAAJA8WoQAgEMAAJBHWoQAgDwAAJBHWoQAgEcAAJA8WoQAgEcAAJBAWoQAgDwAAJBFWoQAgEAAAJBHWoQAgEUAAJA8WoQAgEcAAJA8WoQAgDwAAJA+WoQAgDwAAJA+WoQAgD4AAJBAWoQAgD4AAJBAWoQAgEAAAJBBWoQAgEAAAJA+WoQAgEEAhACAPgCIAP8vAA==\" type=\"audio/midi\" />\n",
       "                    Your browser does not support the audio element.\n",
       "                </audio>\n",
       "              "
      ],
      "text/plain": [
       "<IPython.lib.display.Audio object>"
      ]
     },
     "execution_count": 80,
     "metadata": {},
     "output_type": "execute_result"
    }
   ],
   "source": [
    "IPython.display.Audio(fp)"
   ]
  }
 ],
 "metadata": {
  "kernelspec": {
   "display_name": "Python 3",
   "language": "python",
   "name": "python3"
  },
  "language_info": {
   "codemirror_mode": {
    "name": "ipython",
    "version": 3
   },
   "file_extension": ".py",
   "mimetype": "text/x-python",
   "name": "python",
   "nbconvert_exporter": "python",
   "pygments_lexer": "ipython3",
   "version": "3.7.12"
  },
  "papermill": {
   "default_parameters": {},
   "duration": 354.148882,
   "end_time": "2022-07-06T07:33:03.342270",
   "environment_variables": {},
   "exception": null,
   "input_path": "__notebook__.ipynb",
   "output_path": "__notebook__.ipynb",
   "parameters": {},
   "start_time": "2022-07-06T07:27:09.193388",
   "version": "2.3.4"
  }
 },
 "nbformat": 4,
 "nbformat_minor": 5
}
