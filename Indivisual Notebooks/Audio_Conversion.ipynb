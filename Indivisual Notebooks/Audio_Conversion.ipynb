{
  "cells": [
    {
      "cell_type": "code",
      "source": [
        "notes_array = ['ni',\n",
        "'ni',\n",
        "'ni',\n",
        "'sa',\n",
        "'ga',\n",
        "'sa',\n",
        "'dha',\n",
        "'dha',\n",
        "'sa',\n",
        "'sa',\n",
        "'dha',\n",
        "'dha',\n",
        "'pa',\n",
        "'sa',\n",
        "'ni',\n",
        "'re',\n",
        "'re',\n",
        "'re',\n",
        "'dha',\n",
        "'ga',\n",
        "'ni',\n",
        "'ni',\n",
        "'re',\n",
        "'re',\n",
        "'re',\n",
        "'ni',\n",
        "'ni',\n",
        "'ni',\n",
        "'dha',\n",
        "'ni',\n",
        "'dha',\n",
        "'ni',\n",
        "'ni',\n",
        "'ni',\n",
        "'ni',\n",
        "'dha',\n",
        "'pa',\n",
        "'ni',\n",
        "'ni',\n",
        "'re',\n",
        "'pa',\n",
        "'ni',\n",
        "'re',\n",
        "'ga',\n",
        "'re',\n",
        "'ni',\n",
        "'re',\n",
        "'sa',\n",
        "'ni',\n",
        "'dha',\n",
        "'pa',\n",
        "'ma',\n",
        "'ga',\n",
        "'ga',\n",
        "'ni',\n",
        "'re',\n",
        "'ma',\n",
        "'ga',\n",
        "'ga',\n",
        "'ga',\n",
        "'pa',\n",
        "'sa',\n",
        "'ga',\n",
        "'ma',\n",
        "'ma',\n",
        "'ni',\n",
        "'re',\n",
        "'ma',\n",
        "'re',\n",
        "'ma',\n",
        "'ni',\n",
        "'ma',\n",
        "'ma',\n",
        "'ni',\n",
        "'re',\n",
        "'ma',\n",
        "'re',\n",
        "'ga',\n",
        "'sa',\n",
        "'ga',\n",
        "'re',\n",
        "'ni',\n",
        "'sa',\n",
        "'sa',\n",
        "'ga',\n",
        "'dha',\n",
        "'ma',\n",
        "'sa',\n",
        "'sa',\n",
        "'re',\n",
        "'ga',\n",
        "'ga',\n",
        "'re',\n",
        "'re',\n",
        "'sa',\n",
        "'re',\n",
        "'re',\n",
        "'re',\n",
        "'ma',\n",
        "'re',\n",
        "'ni',\n",
        "'re',\n",
        "'re',\n",
        "'ni',\n",
        "'ga',\n",
        "'ma',\n",
        "'ga',\n",
        "'ni',\n",
        "'sa',\n",
        "'sa',\n",
        "'sa',\n",
        "'sa',\n",
        "'dha',\n",
        "'pa',\n",
        "'dha',\n",
        "'ma',\n",
        "'ni',\n",
        "'ni',\n",
        "'dha',\n",
        "'ga',\n",
        "'pa',\n",
        "'sa',\n",
        "'pa',\n",
        "'pa',\n",
        "'pa',\n",
        "'ma',\n",
        "'ga',\n",
        "'ga',\n",
        "'ni',\n",
        "'ga',\n",
        "'pa',\n",
        "'pa',\n",
        "'pa',\n",
        "'ma',\n",
        "'ni',\n",
        "'sa',\n",
        "'pa',\n",
        "'sa',\n",
        "'ni',\n",
        "'ni',\n",
        "'sa',\n",
        "'ga',\n",
        "'dha',\n",
        "'ni',\n",
        "'sa',\n",
        "'sa',\n",
        "'re',\n",
        "'re',\n",
        "'ga',\n",
        "'ga',\n",
        "'ma',\n",
        "'re']"
      ],
      "metadata": {
        "id": "N9HZjX7bDp_T"
      },
      "id": "N9HZjX7bDp_T",
      "execution_count": null,
      "outputs": []
    },
    {
      "cell_type": "code",
      "execution_count": null,
      "id": "fb680c0f",
      "metadata": {
        "execution": {
          "iopub.execute_input": "2022-07-06T07:32:35.380220Z",
          "iopub.status.busy": "2022-07-06T07:32:35.379850Z",
          "iopub.status.idle": "2022-07-06T07:32:35.384919Z",
          "shell.execute_reply": "2022-07-06T07:32:35.383912Z"
        },
        "id": "fb680c0f",
        "papermill": {
          "duration": 0.329155,
          "end_time": "2022-07-06T07:32:35.387406",
          "exception": false,
          "start_time": "2022-07-06T07:32:35.058251",
          "status": "completed"
        },
        "tags": []
      },
      "outputs": [],
      "source": [
        "music_translate = {\n",
        "    'sa': 'C3',\n",
        "    're': 'D3',\n",
        "    'ga': 'E3',\n",
        "    'ma': 'F3',\n",
        "    'pa': 'G3',\n",
        "    'dha': 'A3',\n",
        "    'ni': 'B3',\n",
        "}"
      ]
    },
    {
      "cell_type": "code",
      "execution_count": null,
      "id": "22ffa08e",
      "metadata": {
        "execution": {
          "iopub.execute_input": "2022-07-06T07:32:36.028858Z",
          "iopub.status.busy": "2022-07-06T07:32:36.028513Z",
          "iopub.status.idle": "2022-07-06T07:32:36.037103Z",
          "shell.execute_reply": "2022-07-06T07:32:36.036055Z"
        },
        "id": "22ffa08e",
        "papermill": {
          "duration": 0.332347,
          "end_time": "2022-07-06T07:32:36.039247",
          "exception": false,
          "start_time": "2022-07-06T07:32:35.706900",
          "status": "completed"
        },
        "tags": [],
        "outputId": "4b1a1504-1894-41e7-dc80-17c547fb1a0c",
        "colab": {
          "base_uri": "https://localhost:8080/"
        }
      },
      "outputs": [
        {
          "output_type": "execute_result",
          "data": {
            "text/plain": [
              "['B',\n",
              " 'B',\n",
              " 'B',\n",
              " 'C',\n",
              " 'E',\n",
              " 'C',\n",
              " 'A',\n",
              " 'A',\n",
              " 'C',\n",
              " 'C',\n",
              " 'A',\n",
              " 'A',\n",
              " 'G',\n",
              " 'C',\n",
              " 'B',\n",
              " 'D',\n",
              " 'D',\n",
              " 'D',\n",
              " 'A',\n",
              " 'E',\n",
              " 'B',\n",
              " 'B',\n",
              " 'D',\n",
              " 'D',\n",
              " 'D',\n",
              " 'B',\n",
              " 'B',\n",
              " 'B',\n",
              " 'A',\n",
              " 'B',\n",
              " 'A',\n",
              " 'B',\n",
              " 'B',\n",
              " 'B',\n",
              " 'B',\n",
              " 'A',\n",
              " 'G',\n",
              " 'B',\n",
              " 'B',\n",
              " 'D',\n",
              " 'G',\n",
              " 'B',\n",
              " 'D',\n",
              " 'E',\n",
              " 'D',\n",
              " 'B',\n",
              " 'D',\n",
              " 'C',\n",
              " 'B',\n",
              " 'A',\n",
              " 'G',\n",
              " 'F',\n",
              " 'E',\n",
              " 'E',\n",
              " 'B',\n",
              " 'D',\n",
              " 'F',\n",
              " 'E',\n",
              " 'E',\n",
              " 'E',\n",
              " 'G',\n",
              " 'C',\n",
              " 'E',\n",
              " 'F',\n",
              " 'F',\n",
              " 'B',\n",
              " 'D',\n",
              " 'F',\n",
              " 'D',\n",
              " 'F',\n",
              " 'B',\n",
              " 'F',\n",
              " 'F',\n",
              " 'B',\n",
              " 'D',\n",
              " 'F',\n",
              " 'D',\n",
              " 'E',\n",
              " 'C',\n",
              " 'E',\n",
              " 'D',\n",
              " 'B',\n",
              " 'C',\n",
              " 'C',\n",
              " 'E',\n",
              " 'A',\n",
              " 'F',\n",
              " 'C',\n",
              " 'C',\n",
              " 'D',\n",
              " 'E',\n",
              " 'E',\n",
              " 'D',\n",
              " 'D',\n",
              " 'C',\n",
              " 'D',\n",
              " 'D',\n",
              " 'D',\n",
              " 'F',\n",
              " 'D',\n",
              " 'B',\n",
              " 'D',\n",
              " 'D',\n",
              " 'B',\n",
              " 'E',\n",
              " 'F',\n",
              " 'E',\n",
              " 'B',\n",
              " 'C',\n",
              " 'C',\n",
              " 'C',\n",
              " 'C',\n",
              " 'A',\n",
              " 'G',\n",
              " 'A',\n",
              " 'F',\n",
              " 'B',\n",
              " 'B',\n",
              " 'A',\n",
              " 'E',\n",
              " 'G',\n",
              " 'C',\n",
              " 'G',\n",
              " 'G',\n",
              " 'G',\n",
              " 'F',\n",
              " 'E',\n",
              " 'E',\n",
              " 'B',\n",
              " 'E',\n",
              " 'G',\n",
              " 'G',\n",
              " 'G',\n",
              " 'F',\n",
              " 'B',\n",
              " 'C',\n",
              " 'G',\n",
              " 'C',\n",
              " 'B',\n",
              " 'B',\n",
              " 'C',\n",
              " 'E',\n",
              " 'A',\n",
              " 'B',\n",
              " 'C',\n",
              " 'C',\n",
              " 'D',\n",
              " 'D',\n",
              " 'E',\n",
              " 'E',\n",
              " 'F',\n",
              " 'D']"
            ]
          },
          "metadata": {},
          "execution_count": 25
        }
      ],
      "source": [
        "western_notes = [music_translate[i] for i in notes_array]\n",
        "western_notes"
      ]
    },
    {
      "cell_type": "code",
      "execution_count": null,
      "id": "af34e957",
      "metadata": {
        "execution": {
          "iopub.execute_input": "2022-07-06T07:32:36.739827Z",
          "iopub.status.busy": "2022-07-06T07:32:36.739478Z",
          "iopub.status.idle": "2022-07-06T07:32:36.745693Z",
          "shell.execute_reply": "2022-07-06T07:32:36.744821Z"
        },
        "id": "af34e957",
        "papermill": {
          "duration": 0.343402,
          "end_time": "2022-07-06T07:32:36.747678",
          "exception": false,
          "start_time": "2022-07-06T07:32:36.404276",
          "status": "completed"
        },
        "tags": [],
        "outputId": "cdf5cefe-ffef-4a75-cc0e-7846bad2f033"
      },
      "outputs": [
        {
          "data": {
            "text/plain": [
              "['A', 'B', 'C', 'D', 'E', 'F', 'G']"
            ]
          },
          "execution_count": 71,
          "metadata": {},
          "output_type": "execute_result"
        }
      ],
      "source": [
        "pitchnames = sorted(set(western_notes))\n",
        "\n",
        "pitchnames"
      ]
    },
    {
      "cell_type": "code",
      "execution_count": null,
      "id": "048cac7b",
      "metadata": {
        "execution": {
          "iopub.execute_input": "2022-07-06T07:32:37.391236Z",
          "iopub.status.busy": "2022-07-06T07:32:37.390302Z",
          "iopub.status.idle": "2022-07-06T07:32:52.699104Z",
          "shell.execute_reply": "2022-07-06T07:32:52.698003Z"
        },
        "papermill": {
          "duration": 15.633238,
          "end_time": "2022-07-06T07:32:52.701655",
          "exception": false,
          "start_time": "2022-07-06T07:32:37.068417",
          "status": "completed"
        },
        "tags": [],
        "id": "048cac7b",
        "outputId": "4a3febb0-ca15-4bca-b249-9dc9a61ccfa7",
        "colab": {
          "base_uri": "https://localhost:8080/"
        }
      },
      "outputs": [
        {
          "output_type": "stream",
          "name": "stdout",
          "text": [
            "Looking in indexes: https://pypi.org/simple, https://us-python.pkg.dev/colab-wheels/public/simple/\n",
            "Requirement already satisfied: music21 in /usr/local/lib/python3.7/dist-packages (5.5.0)\n"
          ]
        }
      ],
      "source": [
        "!pip install music21"
      ]
    },
    {
      "cell_type": "code",
      "execution_count": null,
      "id": "46a5ef35",
      "metadata": {
        "execution": {
          "iopub.execute_input": "2022-07-06T07:32:53.402260Z",
          "iopub.status.busy": "2022-07-06T07:32:53.401857Z",
          "iopub.status.idle": "2022-07-06T07:32:53.779364Z",
          "shell.execute_reply": "2022-07-06T07:32:53.778402Z"
        },
        "id": "46a5ef35",
        "papermill": {
          "duration": 0.708999,
          "end_time": "2022-07-06T07:32:53.781799",
          "exception": false,
          "start_time": "2022-07-06T07:32:53.072800",
          "status": "completed"
        },
        "tags": []
      },
      "outputs": [],
      "source": [
        "import music21"
      ]
    },
    {
      "cell_type": "code",
      "execution_count": null,
      "id": "c3489253",
      "metadata": {
        "execution": {
          "iopub.execute_input": "2022-07-06T07:32:54.428595Z",
          "iopub.status.busy": "2022-07-06T07:32:54.428219Z",
          "iopub.status.idle": "2022-07-06T07:32:54.442587Z",
          "shell.execute_reply": "2022-07-06T07:32:54.441697Z"
        },
        "id": "c3489253",
        "papermill": {
          "duration": 0.339315,
          "end_time": "2022-07-06T07:32:54.444594",
          "exception": false,
          "start_time": "2022-07-06T07:32:54.105279",
          "status": "completed"
        },
        "tags": []
      },
      "outputs": [],
      "source": [
        "offset = 0\n",
        "output_notes = []\n",
        "\n",
        "for value in western_notes:\n",
        "    new_note = music21.note.Note(value)\n",
        "    new_note.offset = offset\n",
        "    new_note.storedInstrument = music21.instrument.Piano()\n",
        "    output_notes.append(new_note)\n",
        "    offset += 0.5"
      ]
    },
    {
      "cell_type": "code",
      "execution_count": null,
      "id": "7d40210f",
      "metadata": {
        "papermill": {
          "duration": 0.362032,
          "end_time": "2022-07-06T07:32:55.126144",
          "exception": false,
          "start_time": "2022-07-06T07:32:54.764112",
          "status": "completed"
        },
        "tags": [],
        "id": "7d40210f"
      },
      "outputs": [],
      "source": [
        "midi_stream = music21.stream.Stream()\n",
        "for note in output_notes:\n",
        "  midi_stream.append(note)"
      ]
    },
    {
      "cell_type": "code",
      "execution_count": null,
      "id": "ceeefe47",
      "metadata": {
        "execution": {
          "iopub.execute_input": "2022-07-06T07:32:57.154923Z",
          "iopub.status.busy": "2022-07-06T07:32:57.154230Z",
          "iopub.status.idle": "2022-07-06T07:32:57.233604Z",
          "shell.execute_reply": "2022-07-06T07:32:57.232610Z"
        },
        "id": "ceeefe47",
        "papermill": {
          "duration": 0.406164,
          "end_time": "2022-07-06T07:32:57.235876",
          "exception": false,
          "start_time": "2022-07-06T07:32:56.829712",
          "status": "completed"
        },
        "tags": []
      },
      "outputs": [],
      "source": [
        "fp = midi_stream.write('midi', fp='test_output.mid')"
      ]
    },
    {
      "cell_type": "code",
      "source": [
        "def play_midi(file_path):\n",
        "    mf = midi.MidiFile()\n",
        "    mf.open(file_path)\n",
        "    mf.read()\n",
        "    mf.close()\n",
        "    s = midi.translate.midiFileToStream(mf)\n",
        "    sp = midi.realtime.StreamPlayer(s)\n",
        "    sp.play()"
      ],
      "metadata": {
        "id": "9OGMIqhBbMay"
      },
      "id": "9OGMIqhBbMay",
      "execution_count": null,
      "outputs": []
    },
    {
      "cell_type": "code",
      "source": [
        "!pip install midi2audio"
      ],
      "metadata": {
        "colab": {
          "base_uri": "https://localhost:8080/"
        },
        "id": "XMVFVuZCL7eg",
        "outputId": "152cc4d6-dc5a-4357-c092-0b898d7f0ef6"
      },
      "id": "XMVFVuZCL7eg",
      "execution_count": null,
      "outputs": [
        {
          "output_type": "stream",
          "name": "stdout",
          "text": [
            "Looking in indexes: https://pypi.org/simple, https://us-python.pkg.dev/colab-wheels/public/simple/\n",
            "Collecting midi2audio\n",
            "  Downloading midi2audio-0.1.1-py2.py3-none-any.whl (8.7 kB)\n",
            "Installing collected packages: midi2audio\n",
            "Successfully installed midi2audio-0.1.1\n"
          ]
        }
      ]
    },
    {
      "cell_type": "code",
      "source": [
        "from midi2audio import FluidSynth"
      ],
      "metadata": {
        "id": "_m06lCy8MNOH"
      },
      "id": "_m06lCy8MNOH",
      "execution_count": null,
      "outputs": []
    },
    {
      "cell_type": "code",
      "source": [
        "fs = FluidSynth()\n",
        "fs.midi_to_audio('test_output.mid', 'output.wav')"
      ],
      "metadata": {
        "colab": {
          "base_uri": "https://localhost:8080/",
          "height": 345
        },
        "id": "a5XHGQ0FL-uQ",
        "outputId": "33a3bd50-0ddd-4e25-88ca-77d2c84621c6"
      },
      "id": "a5XHGQ0FL-uQ",
      "execution_count": null,
      "outputs": [
        {
          "output_type": "error",
          "ename": "FileNotFoundError",
          "evalue": "ignored",
          "traceback": [
            "\u001b[0;31m---------------------------------------------------------------------------\u001b[0m",
            "\u001b[0;31mFileNotFoundError\u001b[0m                         Traceback (most recent call last)",
            "\u001b[0;32m<ipython-input-22-1260bde369aa>\u001b[0m in \u001b[0;36m<module>\u001b[0;34m()\u001b[0m\n\u001b[1;32m      1\u001b[0m \u001b[0mfs\u001b[0m \u001b[0;34m=\u001b[0m \u001b[0mFluidSynth\u001b[0m\u001b[0;34m(\u001b[0m\u001b[0;34m)\u001b[0m\u001b[0;34m\u001b[0m\u001b[0;34m\u001b[0m\u001b[0m\n\u001b[0;32m----> 2\u001b[0;31m \u001b[0mfs\u001b[0m\u001b[0;34m.\u001b[0m\u001b[0mmidi_to_audio\u001b[0m\u001b[0;34m(\u001b[0m\u001b[0;34m'test_output.mid'\u001b[0m\u001b[0;34m,\u001b[0m \u001b[0;34m'output.wav'\u001b[0m\u001b[0;34m)\u001b[0m\u001b[0;34m\u001b[0m\u001b[0;34m\u001b[0m\u001b[0m\n\u001b[0m",
            "\u001b[0;32m/usr/local/lib/python3.7/dist-packages/midi2audio.py\u001b[0m in \u001b[0;36mmidi_to_audio\u001b[0;34m(self, midi_file, audio_file)\u001b[0m\n\u001b[1;32m     44\u001b[0m \u001b[0;34m\u001b[0m\u001b[0m\n\u001b[1;32m     45\u001b[0m     \u001b[0;32mdef\u001b[0m \u001b[0mmidi_to_audio\u001b[0m\u001b[0;34m(\u001b[0m\u001b[0mself\u001b[0m\u001b[0;34m,\u001b[0m \u001b[0mmidi_file\u001b[0m\u001b[0;34m,\u001b[0m \u001b[0maudio_file\u001b[0m\u001b[0;34m)\u001b[0m\u001b[0;34m:\u001b[0m\u001b[0;34m\u001b[0m\u001b[0;34m\u001b[0m\u001b[0m\n\u001b[0;32m---> 46\u001b[0;31m         \u001b[0msubprocess\u001b[0m\u001b[0;34m.\u001b[0m\u001b[0mcall\u001b[0m\u001b[0;34m(\u001b[0m\u001b[0;34m[\u001b[0m\u001b[0;34m'fluidsynth'\u001b[0m\u001b[0;34m,\u001b[0m \u001b[0;34m'-ni'\u001b[0m\u001b[0;34m,\u001b[0m \u001b[0mself\u001b[0m\u001b[0;34m.\u001b[0m\u001b[0msound_font\u001b[0m\u001b[0;34m,\u001b[0m \u001b[0mmidi_file\u001b[0m\u001b[0;34m,\u001b[0m \u001b[0;34m'-F'\u001b[0m\u001b[0;34m,\u001b[0m \u001b[0maudio_file\u001b[0m\u001b[0;34m,\u001b[0m \u001b[0;34m'-r'\u001b[0m\u001b[0;34m,\u001b[0m \u001b[0mstr\u001b[0m\u001b[0;34m(\u001b[0m\u001b[0mself\u001b[0m\u001b[0;34m.\u001b[0m\u001b[0msample_rate\u001b[0m\u001b[0;34m)\u001b[0m\u001b[0;34m]\u001b[0m\u001b[0;34m)\u001b[0m\u001b[0;34m\u001b[0m\u001b[0;34m\u001b[0m\u001b[0m\n\u001b[0m\u001b[1;32m     47\u001b[0m \u001b[0;34m\u001b[0m\u001b[0m\n\u001b[1;32m     48\u001b[0m     \u001b[0;32mdef\u001b[0m \u001b[0mplay_midi\u001b[0m\u001b[0;34m(\u001b[0m\u001b[0mself\u001b[0m\u001b[0;34m,\u001b[0m \u001b[0mmidi_file\u001b[0m\u001b[0;34m)\u001b[0m\u001b[0;34m:\u001b[0m\u001b[0;34m\u001b[0m\u001b[0;34m\u001b[0m\u001b[0m\n",
            "\u001b[0;32m/usr/lib/python3.7/subprocess.py\u001b[0m in \u001b[0;36mcall\u001b[0;34m(timeout, *popenargs, **kwargs)\u001b[0m\n\u001b[1;32m    337\u001b[0m     \u001b[0mretcode\u001b[0m \u001b[0;34m=\u001b[0m \u001b[0mcall\u001b[0m\u001b[0;34m(\u001b[0m\u001b[0;34m[\u001b[0m\u001b[0;34m\"ls\"\u001b[0m\u001b[0;34m,\u001b[0m \u001b[0;34m\"-l\"\u001b[0m\u001b[0;34m]\u001b[0m\u001b[0;34m)\u001b[0m\u001b[0;34m\u001b[0m\u001b[0;34m\u001b[0m\u001b[0m\n\u001b[1;32m    338\u001b[0m     \"\"\"\n\u001b[0;32m--> 339\u001b[0;31m     \u001b[0;32mwith\u001b[0m \u001b[0mPopen\u001b[0m\u001b[0;34m(\u001b[0m\u001b[0;34m*\u001b[0m\u001b[0mpopenargs\u001b[0m\u001b[0;34m,\u001b[0m \u001b[0;34m**\u001b[0m\u001b[0mkwargs\u001b[0m\u001b[0;34m)\u001b[0m \u001b[0;32mas\u001b[0m \u001b[0mp\u001b[0m\u001b[0;34m:\u001b[0m\u001b[0;34m\u001b[0m\u001b[0;34m\u001b[0m\u001b[0m\n\u001b[0m\u001b[1;32m    340\u001b[0m         \u001b[0;32mtry\u001b[0m\u001b[0;34m:\u001b[0m\u001b[0;34m\u001b[0m\u001b[0;34m\u001b[0m\u001b[0m\n\u001b[1;32m    341\u001b[0m             \u001b[0;32mreturn\u001b[0m \u001b[0mp\u001b[0m\u001b[0;34m.\u001b[0m\u001b[0mwait\u001b[0m\u001b[0;34m(\u001b[0m\u001b[0mtimeout\u001b[0m\u001b[0;34m=\u001b[0m\u001b[0mtimeout\u001b[0m\u001b[0;34m)\u001b[0m\u001b[0;34m\u001b[0m\u001b[0;34m\u001b[0m\u001b[0m\n",
            "\u001b[0;32m/usr/lib/python3.7/subprocess.py\u001b[0m in \u001b[0;36m__init__\u001b[0;34m(self, args, bufsize, executable, stdin, stdout, stderr, preexec_fn, close_fds, shell, cwd, env, universal_newlines, startupinfo, creationflags, restore_signals, start_new_session, pass_fds, encoding, errors, text)\u001b[0m\n\u001b[1;32m    798\u001b[0m                                 \u001b[0mc2pread\u001b[0m\u001b[0;34m,\u001b[0m \u001b[0mc2pwrite\u001b[0m\u001b[0;34m,\u001b[0m\u001b[0;34m\u001b[0m\u001b[0;34m\u001b[0m\u001b[0m\n\u001b[1;32m    799\u001b[0m                                 \u001b[0merrread\u001b[0m\u001b[0;34m,\u001b[0m \u001b[0merrwrite\u001b[0m\u001b[0;34m,\u001b[0m\u001b[0;34m\u001b[0m\u001b[0;34m\u001b[0m\u001b[0m\n\u001b[0;32m--> 800\u001b[0;31m                                 restore_signals, start_new_session)\n\u001b[0m\u001b[1;32m    801\u001b[0m         \u001b[0;32mexcept\u001b[0m\u001b[0;34m:\u001b[0m\u001b[0;34m\u001b[0m\u001b[0;34m\u001b[0m\u001b[0m\n\u001b[1;32m    802\u001b[0m             \u001b[0;31m# Cleanup if the child failed starting.\u001b[0m\u001b[0;34m\u001b[0m\u001b[0;34m\u001b[0m\u001b[0;34m\u001b[0m\u001b[0m\n",
            "\u001b[0;32m/usr/lib/python3.7/subprocess.py\u001b[0m in \u001b[0;36m_execute_child\u001b[0;34m(self, args, executable, preexec_fn, close_fds, pass_fds, cwd, env, startupinfo, creationflags, shell, p2cread, p2cwrite, c2pread, c2pwrite, errread, errwrite, restore_signals, start_new_session)\u001b[0m\n\u001b[1;32m   1549\u001b[0m                         \u001b[0;32mif\u001b[0m \u001b[0merrno_num\u001b[0m \u001b[0;34m==\u001b[0m \u001b[0merrno\u001b[0m\u001b[0;34m.\u001b[0m\u001b[0mENOENT\u001b[0m\u001b[0;34m:\u001b[0m\u001b[0;34m\u001b[0m\u001b[0;34m\u001b[0m\u001b[0m\n\u001b[1;32m   1550\u001b[0m                             \u001b[0merr_msg\u001b[0m \u001b[0;34m+=\u001b[0m \u001b[0;34m': '\u001b[0m \u001b[0;34m+\u001b[0m \u001b[0mrepr\u001b[0m\u001b[0;34m(\u001b[0m\u001b[0merr_filename\u001b[0m\u001b[0;34m)\u001b[0m\u001b[0;34m\u001b[0m\u001b[0;34m\u001b[0m\u001b[0m\n\u001b[0;32m-> 1551\u001b[0;31m                     \u001b[0;32mraise\u001b[0m \u001b[0mchild_exception_type\u001b[0m\u001b[0;34m(\u001b[0m\u001b[0merrno_num\u001b[0m\u001b[0;34m,\u001b[0m \u001b[0merr_msg\u001b[0m\u001b[0;34m,\u001b[0m \u001b[0merr_filename\u001b[0m\u001b[0;34m)\u001b[0m\u001b[0;34m\u001b[0m\u001b[0;34m\u001b[0m\u001b[0m\n\u001b[0m\u001b[1;32m   1552\u001b[0m                 \u001b[0;32mraise\u001b[0m \u001b[0mchild_exception_type\u001b[0m\u001b[0;34m(\u001b[0m\u001b[0merr_msg\u001b[0m\u001b[0;34m)\u001b[0m\u001b[0;34m\u001b[0m\u001b[0;34m\u001b[0m\u001b[0m\n\u001b[1;32m   1553\u001b[0m \u001b[0;34m\u001b[0m\u001b[0m\n",
            "\u001b[0;31mFileNotFoundError\u001b[0m: [Errno 2] No such file or directory: 'fluidsynth': 'fluidsynth'"
          ]
        }
      ]
    },
    {
      "cell_type": "code",
      "execution_count": null,
      "id": "9f5c7a23",
      "metadata": {
        "execution": {
          "iopub.execute_input": "2022-07-06T07:32:59.384193Z",
          "iopub.status.busy": "2022-07-06T07:32:59.383817Z",
          "iopub.status.idle": "2022-07-06T07:32:59.391014Z",
          "shell.execute_reply": "2022-07-06T07:32:59.390073Z"
        },
        "id": "9f5c7a23",
        "papermill": {
          "duration": 0.339988,
          "end_time": "2022-07-06T07:32:59.393013",
          "exception": false,
          "start_time": "2022-07-06T07:32:59.053025",
          "status": "completed"
        },
        "tags": [],
        "outputId": "e86b4593-42ee-4a29-fff3-e4b97f625ee8"
      },
      "outputs": [
        {
          "data": {
            "text/html": [
              "\n",
              "                <audio  controls=\"controls\" >\n",
              "                    <source src=\"data:audio/midi;base64,TVRoZAAAAAYAAQACBABNVHJrAAAAFAD/UQMHoSAA/1gEBAIYCIgA/y8ATVRyawAABWYA/wMAAOAAQACQR1qEAJBHWoQAgEcAAJBHWoQAgEcAAJA8WoQAgEcAAJBAWoQAgDwAAJA8WoQAgEAAAJBFWoQAgDwAAJBFWoQAgEUAAJA8WoQAgEUAAJA8WoQAgDwAAJBFWoQAgDwAAJBFWoQAgEUAAJBDWoQAgEUAAJA8WoQAgEMAAJBHWoQAgDwAAJA+WoQAgEcAAJA+WoQAgD4AAJA+WoQAgD4AAJBFWoQAgD4AAJBAWoQAgEUAAJBHWoQAgEAAAJBHWoQAgEcAAJA+WoQAgEcAAJA+WoQAgD4AAJA+WoQAgD4AAJBHWoQAgD4AAJBHWoQAgEcAAJBHWoQAgEcAAJBFWoQAgEcAAJBHWoQAgEUAAJBFWoQAgEcAAJBHWoQAgEUAAJBHWoQAgEcAAJBHWoQAgEcAAJBHWoQAgEcAAJBFWoQAgEcAAJBDWoQAgEUAAJBHWoQAgEMAAJBHWoQAgEcAAJA+WoQAgEcAAJBDWoQAgD4AAJBHWoQAgEMAAJA+WoQAgEcAAJBAWoQAgD4AAJA+WoQAgEAAAJBHWoQAgD4AAJA+WoQAgEcAAJA8WoQAgD4AAJBHWoQAgDwAAJBFWoQAgEcAAJBDWoQAgEUAAJBBWoQAgEMAAJBAWoQAgEEAAJBAWoQAgEAAAJBHWoQAgEAAAJA+WoQAgEcAAJBBWoQAgD4AAJBAWoQAgEEAAJBAWoQAgEAAAJBAWoQAgEAAAJBDWoQAgEAAAJA8WoQAgEMAAJBAWoQAgDwAAJBBWoQAgEAAAJBBWoQAgEEAAJBHWoQAgEEAAJA+WoQAgEcAAJBBWoQAgD4AAJA+WoQAgEEAAJBBWoQAgD4AAJBHWoQAgEEAAJBBWoQAgEcAAJBBWoQAgEEAAJBHWoQAgEEAAJA+WoQAgEcAAJBBWoQAgD4AAJA+WoQAgEEAAJBAWoQAgD4AAJA8WoQAgEAAAJBAWoQAgDwAAJA+WoQAgEAAAJBHWoQAgD4AAJA8WoQAgEcAAJA8WoQAgDwAAJBAWoQAgDwAAJBFWoQAgEAAAJBBWoQAgEUAAJA8WoQAgEEAAJA8WoQAgDwAAJA+WoQAgDwAAJBAWoQAgD4AAJBAWoQAgEAAAJA+WoQAgEAAAJA+WoQAgD4AAJA8WoQAgD4AAJA+WoQAgDwAAJA+WoQAgD4AAJA+WoQAgD4AAJBBWoQAgD4AAJA+WoQAgEEAAJBHWoQAgD4AAJA+WoQAgEcAAJA+WoQAgD4AAJBHWoQAgD4AAJBAWoQAgEcAAJBBWoQAgEAAAJBAWoQAgEEAAJBHWoQAgEAAAJA8WoQAgEcAAJA8WoQAgDwAAJA8WoQAgDwAAJA8WoQAgDwAAJBFWoQAgDwAAJBDWoQAgEUAAJBFWoQAgEMAAJBBWoQAgEUAAJBHWoQAgEEAAJBHWoQAgEcAAJBFWoQAgEcAAJBAWoQAgEUAAJBDWoQAgEAAAJA8WoQAgEMAAJBDWoQAgDwAAJBDWoQAgEMAAJBDWoQAgEMAAJBBWoQAgEMAAJBAWoQAgEEAAJBAWoQAgEAAAJBHWoQAgEAAAJBAWoQAgEcAAJBDWoQAgEAAAJBDWoQAgEMAAJBDWoQAgEMAAJBBWoQAgEMAAJBHWoQAgEEAAJA8WoQAgEcAAJBDWoQAgDwAAJA8WoQAgEMAAJBHWoQAgDwAAJBHWoQAgEcAAJA8WoQAgEcAAJBAWoQAgDwAAJBFWoQAgEAAAJBHWoQAgEUAAJA8WoQAgEcAAJA8WoQAgDwAAJA+WoQAgDwAAJA+WoQAgD4AAJBAWoQAgD4AAJBAWoQAgEAAAJBBWoQAgEAAAJA+WoQAgEEAhACAPgCIAP8vAA==\" type=\"audio/midi\" />\n",
              "                    Your browser does not support the audio element.\n",
              "                </audio>\n",
              "              "
            ],
            "text/plain": [
              "<IPython.lib.display.Audio object>"
            ]
          },
          "execution_count": 80,
          "metadata": {},
          "output_type": "execute_result"
        }
      ],
      "source": [
        "IPython.display.Audio(fp)"
      ]
    }
  ],
  "metadata": {
    "kernelspec": {
      "display_name": "Python 3",
      "language": "python",
      "name": "python3"
    },
    "language_info": {
      "codemirror_mode": {
        "name": "ipython",
        "version": 3
      },
      "file_extension": ".py",
      "mimetype": "text/x-python",
      "name": "python",
      "nbconvert_exporter": "python",
      "pygments_lexer": "ipython3",
      "version": "3.7.12"
    },
    "papermill": {
      "default_parameters": {},
      "duration": 354.148882,
      "end_time": "2022-07-06T07:33:03.342270",
      "environment_variables": {},
      "exception": null,
      "input_path": "__notebook__.ipynb",
      "output_path": "__notebook__.ipynb",
      "parameters": {},
      "start_time": "2022-07-06T07:27:09.193388",
      "version": "2.3.4"
    },
    "colab": {
      "name": "Audio Conversion",
      "provenance": []
    }
  },
  "nbformat": 4,
  "nbformat_minor": 5
}